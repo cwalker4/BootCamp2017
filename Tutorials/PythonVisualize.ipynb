{
 "cells": [
  {
   "cell_type": "markdown",
   "metadata": {},
   "source": [
    "# Visualizing data in Python\n",
    "**by [Richard W. Evans](https://sites.google.com/site/rickecon/), May 2017**\n",
    "\n",
    "A picture is worth a thousand words. In fact, most journal articles can be summarized by one good figure or one good table. This conjecture makes for a good rule for any researcher. \"What is the best picture or table that can summarize the story I want to tell with my results.\" This section will focus on using data visualization as preliminary a way for understanding and interpreting your data. This chapter is about using visualization for exploring your data. But the principles can be applied to the later steps of presenting your results. \n",
    "\n",
    "The standard visualizations of any data are the scatterplot, the line plot, the bar graph, the histogram (a particular type of bar graph), There are 3-D versions of all of these. Then there are ways to allow each of these methods to display more than three dimensions of the data. Finally, recent developments in D3 (data-driven documents) JavaScript visualizations for web browsers have made interactive graphics available to the common internet user via flyover display, toggle switches, slider bars, and other methods.\n",
    "\n",
    "We will focus on Python's `matplotlib` visualization package. But many other libraries exist in Python (e.g.scikitlearn, chaco, mayavi, bokeh), and many other programming platforms also have powerful visualization packages (e.g., R, Stata, SAS, MATLAB, Mathematica)."
   ]
  },
  {
   "cell_type": "markdown",
   "metadata": {},
   "source": [
    "## 0. Some matplotlib preliminaries\n",
    "Plots in matplotlib are stored as `Figure` objects. The command to create a new figure object is,"
   ]
  },
  {
   "cell_type": "code",
   "execution_count": 1,
   "metadata": {
    "collapsed": false
   },
   "outputs": [
    {
     "data": {
      "application/javascript": [
       "/* Put everything inside the global mpl namespace */\n",
       "window.mpl = {};\n",
       "\n",
       "\n",
       "mpl.get_websocket_type = function() {\n",
       "    if (typeof(WebSocket) !== 'undefined') {\n",
       "        return WebSocket;\n",
       "    } else if (typeof(MozWebSocket) !== 'undefined') {\n",
       "        return MozWebSocket;\n",
       "    } else {\n",
       "        alert('Your browser does not have WebSocket support.' +\n",
       "              'Please try Chrome, Safari or Firefox ≥ 6. ' +\n",
       "              'Firefox 4 and 5 are also supported but you ' +\n",
       "              'have to enable WebSockets in about:config.');\n",
       "    };\n",
       "}\n",
       "\n",
       "mpl.figure = function(figure_id, websocket, ondownload, parent_element) {\n",
       "    this.id = figure_id;\n",
       "\n",
       "    this.ws = websocket;\n",
       "\n",
       "    this.supports_binary = (this.ws.binaryType != undefined);\n",
       "\n",
       "    if (!this.supports_binary) {\n",
       "        var warnings = document.getElementById(\"mpl-warnings\");\n",
       "        if (warnings) {\n",
       "            warnings.style.display = 'block';\n",
       "            warnings.textContent = (\n",
       "                \"This browser does not support binary websocket messages. \" +\n",
       "                    \"Performance may be slow.\");\n",
       "        }\n",
       "    }\n",
       "\n",
       "    this.imageObj = new Image();\n",
       "\n",
       "    this.context = undefined;\n",
       "    this.message = undefined;\n",
       "    this.canvas = undefined;\n",
       "    this.rubberband_canvas = undefined;\n",
       "    this.rubberband_context = undefined;\n",
       "    this.format_dropdown = undefined;\n",
       "\n",
       "    this.image_mode = 'full';\n",
       "\n",
       "    this.root = $('<div/>');\n",
       "    this._root_extra_style(this.root)\n",
       "    this.root.attr('style', 'display: inline-block');\n",
       "\n",
       "    $(parent_element).append(this.root);\n",
       "\n",
       "    this._init_header(this);\n",
       "    this._init_canvas(this);\n",
       "    this._init_toolbar(this);\n",
       "\n",
       "    var fig = this;\n",
       "\n",
       "    this.waiting = false;\n",
       "\n",
       "    this.ws.onopen =  function () {\n",
       "            fig.send_message(\"supports_binary\", {value: fig.supports_binary});\n",
       "            fig.send_message(\"send_image_mode\", {});\n",
       "            if (mpl.ratio != 1) {\n",
       "                fig.send_message(\"set_dpi_ratio\", {'dpi_ratio': mpl.ratio});\n",
       "            }\n",
       "            fig.send_message(\"refresh\", {});\n",
       "        }\n",
       "\n",
       "    this.imageObj.onload = function() {\n",
       "            if (fig.image_mode == 'full') {\n",
       "                // Full images could contain transparency (where diff images\n",
       "                // almost always do), so we need to clear the canvas so that\n",
       "                // there is no ghosting.\n",
       "                fig.context.clearRect(0, 0, fig.canvas.width, fig.canvas.height);\n",
       "            }\n",
       "            fig.context.drawImage(fig.imageObj, 0, 0);\n",
       "        };\n",
       "\n",
       "    this.imageObj.onunload = function() {\n",
       "        this.ws.close();\n",
       "    }\n",
       "\n",
       "    this.ws.onmessage = this._make_on_message_function(this);\n",
       "\n",
       "    this.ondownload = ondownload;\n",
       "}\n",
       "\n",
       "mpl.figure.prototype._init_header = function() {\n",
       "    var titlebar = $(\n",
       "        '<div class=\"ui-dialog-titlebar ui-widget-header ui-corner-all ' +\n",
       "        'ui-helper-clearfix\"/>');\n",
       "    var titletext = $(\n",
       "        '<div class=\"ui-dialog-title\" style=\"width: 100%; ' +\n",
       "        'text-align: center; padding: 3px;\"/>');\n",
       "    titlebar.append(titletext)\n",
       "    this.root.append(titlebar);\n",
       "    this.header = titletext[0];\n",
       "}\n",
       "\n",
       "\n",
       "\n",
       "mpl.figure.prototype._canvas_extra_style = function(canvas_div) {\n",
       "\n",
       "}\n",
       "\n",
       "\n",
       "mpl.figure.prototype._root_extra_style = function(canvas_div) {\n",
       "\n",
       "}\n",
       "\n",
       "mpl.figure.prototype._init_canvas = function() {\n",
       "    var fig = this;\n",
       "\n",
       "    var canvas_div = $('<div/>');\n",
       "\n",
       "    canvas_div.attr('style', 'position: relative; clear: both; outline: 0');\n",
       "\n",
       "    function canvas_keyboard_event(event) {\n",
       "        return fig.key_event(event, event['data']);\n",
       "    }\n",
       "\n",
       "    canvas_div.keydown('key_press', canvas_keyboard_event);\n",
       "    canvas_div.keyup('key_release', canvas_keyboard_event);\n",
       "    this.canvas_div = canvas_div\n",
       "    this._canvas_extra_style(canvas_div)\n",
       "    this.root.append(canvas_div);\n",
       "\n",
       "    var canvas = $('<canvas/>');\n",
       "    canvas.addClass('mpl-canvas');\n",
       "    canvas.attr('style', \"left: 0; top: 0; z-index: 0; outline: 0\")\n",
       "\n",
       "    this.canvas = canvas[0];\n",
       "    this.context = canvas[0].getContext(\"2d\");\n",
       "\n",
       "    var backingStore = this.context.backingStorePixelRatio ||\n",
       "\tthis.context.webkitBackingStorePixelRatio ||\n",
       "\tthis.context.mozBackingStorePixelRatio ||\n",
       "\tthis.context.msBackingStorePixelRatio ||\n",
       "\tthis.context.oBackingStorePixelRatio ||\n",
       "\tthis.context.backingStorePixelRatio || 1;\n",
       "\n",
       "    mpl.ratio = (window.devicePixelRatio || 1) / backingStore;\n",
       "\n",
       "    var rubberband = $('<canvas/>');\n",
       "    rubberband.attr('style', \"position: absolute; left: 0; top: 0; z-index: 1;\")\n",
       "\n",
       "    var pass_mouse_events = true;\n",
       "\n",
       "    canvas_div.resizable({\n",
       "        start: function(event, ui) {\n",
       "            pass_mouse_events = false;\n",
       "        },\n",
       "        resize: function(event, ui) {\n",
       "            fig.request_resize(ui.size.width, ui.size.height);\n",
       "        },\n",
       "        stop: function(event, ui) {\n",
       "            pass_mouse_events = true;\n",
       "            fig.request_resize(ui.size.width, ui.size.height);\n",
       "        },\n",
       "    });\n",
       "\n",
       "    function mouse_event_fn(event) {\n",
       "        if (pass_mouse_events)\n",
       "            return fig.mouse_event(event, event['data']);\n",
       "    }\n",
       "\n",
       "    rubberband.mousedown('button_press', mouse_event_fn);\n",
       "    rubberband.mouseup('button_release', mouse_event_fn);\n",
       "    // Throttle sequential mouse events to 1 every 20ms.\n",
       "    rubberband.mousemove('motion_notify', mouse_event_fn);\n",
       "\n",
       "    rubberband.mouseenter('figure_enter', mouse_event_fn);\n",
       "    rubberband.mouseleave('figure_leave', mouse_event_fn);\n",
       "\n",
       "    canvas_div.on(\"wheel\", function (event) {\n",
       "        event = event.originalEvent;\n",
       "        event['data'] = 'scroll'\n",
       "        if (event.deltaY < 0) {\n",
       "            event.step = 1;\n",
       "        } else {\n",
       "            event.step = -1;\n",
       "        }\n",
       "        mouse_event_fn(event);\n",
       "    });\n",
       "\n",
       "    canvas_div.append(canvas);\n",
       "    canvas_div.append(rubberband);\n",
       "\n",
       "    this.rubberband = rubberband;\n",
       "    this.rubberband_canvas = rubberband[0];\n",
       "    this.rubberband_context = rubberband[0].getContext(\"2d\");\n",
       "    this.rubberband_context.strokeStyle = \"#000000\";\n",
       "\n",
       "    this._resize_canvas = function(width, height) {\n",
       "        // Keep the size of the canvas, canvas container, and rubber band\n",
       "        // canvas in synch.\n",
       "        canvas_div.css('width', width)\n",
       "        canvas_div.css('height', height)\n",
       "\n",
       "        canvas.attr('width', width * mpl.ratio);\n",
       "        canvas.attr('height', height * mpl.ratio);\n",
       "        canvas.attr('style', 'width: ' + width + 'px; height: ' + height + 'px;');\n",
       "\n",
       "        rubberband.attr('width', width);\n",
       "        rubberband.attr('height', height);\n",
       "    }\n",
       "\n",
       "    // Set the figure to an initial 600x600px, this will subsequently be updated\n",
       "    // upon first draw.\n",
       "    this._resize_canvas(600, 600);\n",
       "\n",
       "    // Disable right mouse context menu.\n",
       "    $(this.rubberband_canvas).bind(\"contextmenu\",function(e){\n",
       "        return false;\n",
       "    });\n",
       "\n",
       "    function set_focus () {\n",
       "        canvas.focus();\n",
       "        canvas_div.focus();\n",
       "    }\n",
       "\n",
       "    window.setTimeout(set_focus, 100);\n",
       "}\n",
       "\n",
       "mpl.figure.prototype._init_toolbar = function() {\n",
       "    var fig = this;\n",
       "\n",
       "    var nav_element = $('<div/>')\n",
       "    nav_element.attr('style', 'width: 100%');\n",
       "    this.root.append(nav_element);\n",
       "\n",
       "    // Define a callback function for later on.\n",
       "    function toolbar_event(event) {\n",
       "        return fig.toolbar_button_onclick(event['data']);\n",
       "    }\n",
       "    function toolbar_mouse_event(event) {\n",
       "        return fig.toolbar_button_onmouseover(event['data']);\n",
       "    }\n",
       "\n",
       "    for(var toolbar_ind in mpl.toolbar_items) {\n",
       "        var name = mpl.toolbar_items[toolbar_ind][0];\n",
       "        var tooltip = mpl.toolbar_items[toolbar_ind][1];\n",
       "        var image = mpl.toolbar_items[toolbar_ind][2];\n",
       "        var method_name = mpl.toolbar_items[toolbar_ind][3];\n",
       "\n",
       "        if (!name) {\n",
       "            // put a spacer in here.\n",
       "            continue;\n",
       "        }\n",
       "        var button = $('<button/>');\n",
       "        button.addClass('ui-button ui-widget ui-state-default ui-corner-all ' +\n",
       "                        'ui-button-icon-only');\n",
       "        button.attr('role', 'button');\n",
       "        button.attr('aria-disabled', 'false');\n",
       "        button.click(method_name, toolbar_event);\n",
       "        button.mouseover(tooltip, toolbar_mouse_event);\n",
       "\n",
       "        var icon_img = $('<span/>');\n",
       "        icon_img.addClass('ui-button-icon-primary ui-icon');\n",
       "        icon_img.addClass(image);\n",
       "        icon_img.addClass('ui-corner-all');\n",
       "\n",
       "        var tooltip_span = $('<span/>');\n",
       "        tooltip_span.addClass('ui-button-text');\n",
       "        tooltip_span.html(tooltip);\n",
       "\n",
       "        button.append(icon_img);\n",
       "        button.append(tooltip_span);\n",
       "\n",
       "        nav_element.append(button);\n",
       "    }\n",
       "\n",
       "    var fmt_picker_span = $('<span/>');\n",
       "\n",
       "    var fmt_picker = $('<select/>');\n",
       "    fmt_picker.addClass('mpl-toolbar-option ui-widget ui-widget-content');\n",
       "    fmt_picker_span.append(fmt_picker);\n",
       "    nav_element.append(fmt_picker_span);\n",
       "    this.format_dropdown = fmt_picker[0];\n",
       "\n",
       "    for (var ind in mpl.extensions) {\n",
       "        var fmt = mpl.extensions[ind];\n",
       "        var option = $(\n",
       "            '<option/>', {selected: fmt === mpl.default_extension}).html(fmt);\n",
       "        fmt_picker.append(option)\n",
       "    }\n",
       "\n",
       "    // Add hover states to the ui-buttons\n",
       "    $( \".ui-button\" ).hover(\n",
       "        function() { $(this).addClass(\"ui-state-hover\");},\n",
       "        function() { $(this).removeClass(\"ui-state-hover\");}\n",
       "    );\n",
       "\n",
       "    var status_bar = $('<span class=\"mpl-message\"/>');\n",
       "    nav_element.append(status_bar);\n",
       "    this.message = status_bar[0];\n",
       "}\n",
       "\n",
       "mpl.figure.prototype.request_resize = function(x_pixels, y_pixels) {\n",
       "    // Request matplotlib to resize the figure. Matplotlib will then trigger a resize in the client,\n",
       "    // which will in turn request a refresh of the image.\n",
       "    this.send_message('resize', {'width': x_pixels, 'height': y_pixels});\n",
       "}\n",
       "\n",
       "mpl.figure.prototype.send_message = function(type, properties) {\n",
       "    properties['type'] = type;\n",
       "    properties['figure_id'] = this.id;\n",
       "    this.ws.send(JSON.stringify(properties));\n",
       "}\n",
       "\n",
       "mpl.figure.prototype.send_draw_message = function() {\n",
       "    if (!this.waiting) {\n",
       "        this.waiting = true;\n",
       "        this.ws.send(JSON.stringify({type: \"draw\", figure_id: this.id}));\n",
       "    }\n",
       "}\n",
       "\n",
       "\n",
       "mpl.figure.prototype.handle_save = function(fig, msg) {\n",
       "    var format_dropdown = fig.format_dropdown;\n",
       "    var format = format_dropdown.options[format_dropdown.selectedIndex].value;\n",
       "    fig.ondownload(fig, format);\n",
       "}\n",
       "\n",
       "\n",
       "mpl.figure.prototype.handle_resize = function(fig, msg) {\n",
       "    var size = msg['size'];\n",
       "    if (size[0] != fig.canvas.width || size[1] != fig.canvas.height) {\n",
       "        fig._resize_canvas(size[0], size[1]);\n",
       "        fig.send_message(\"refresh\", {});\n",
       "    };\n",
       "}\n",
       "\n",
       "mpl.figure.prototype.handle_rubberband = function(fig, msg) {\n",
       "    var x0 = msg['x0'] / mpl.ratio;\n",
       "    var y0 = (fig.canvas.height - msg['y0']) / mpl.ratio;\n",
       "    var x1 = msg['x1'] / mpl.ratio;\n",
       "    var y1 = (fig.canvas.height - msg['y1']) / mpl.ratio;\n",
       "    x0 = Math.floor(x0) + 0.5;\n",
       "    y0 = Math.floor(y0) + 0.5;\n",
       "    x1 = Math.floor(x1) + 0.5;\n",
       "    y1 = Math.floor(y1) + 0.5;\n",
       "    var min_x = Math.min(x0, x1);\n",
       "    var min_y = Math.min(y0, y1);\n",
       "    var width = Math.abs(x1 - x0);\n",
       "    var height = Math.abs(y1 - y0);\n",
       "\n",
       "    fig.rubberband_context.clearRect(\n",
       "        0, 0, fig.canvas.width, fig.canvas.height);\n",
       "\n",
       "    fig.rubberband_context.strokeRect(min_x, min_y, width, height);\n",
       "}\n",
       "\n",
       "mpl.figure.prototype.handle_figure_label = function(fig, msg) {\n",
       "    // Updates the figure title.\n",
       "    fig.header.textContent = msg['label'];\n",
       "}\n",
       "\n",
       "mpl.figure.prototype.handle_cursor = function(fig, msg) {\n",
       "    var cursor = msg['cursor'];\n",
       "    switch(cursor)\n",
       "    {\n",
       "    case 0:\n",
       "        cursor = 'pointer';\n",
       "        break;\n",
       "    case 1:\n",
       "        cursor = 'default';\n",
       "        break;\n",
       "    case 2:\n",
       "        cursor = 'crosshair';\n",
       "        break;\n",
       "    case 3:\n",
       "        cursor = 'move';\n",
       "        break;\n",
       "    }\n",
       "    fig.rubberband_canvas.style.cursor = cursor;\n",
       "}\n",
       "\n",
       "mpl.figure.prototype.handle_message = function(fig, msg) {\n",
       "    fig.message.textContent = msg['message'];\n",
       "}\n",
       "\n",
       "mpl.figure.prototype.handle_draw = function(fig, msg) {\n",
       "    // Request the server to send over a new figure.\n",
       "    fig.send_draw_message();\n",
       "}\n",
       "\n",
       "mpl.figure.prototype.handle_image_mode = function(fig, msg) {\n",
       "    fig.image_mode = msg['mode'];\n",
       "}\n",
       "\n",
       "mpl.figure.prototype.updated_canvas_event = function() {\n",
       "    // Called whenever the canvas gets updated.\n",
       "    this.send_message(\"ack\", {});\n",
       "}\n",
       "\n",
       "// A function to construct a web socket function for onmessage handling.\n",
       "// Called in the figure constructor.\n",
       "mpl.figure.prototype._make_on_message_function = function(fig) {\n",
       "    return function socket_on_message(evt) {\n",
       "        if (evt.data instanceof Blob) {\n",
       "            /* FIXME: We get \"Resource interpreted as Image but\n",
       "             * transferred with MIME type text/plain:\" errors on\n",
       "             * Chrome.  But how to set the MIME type?  It doesn't seem\n",
       "             * to be part of the websocket stream */\n",
       "            evt.data.type = \"image/png\";\n",
       "\n",
       "            /* Free the memory for the previous frames */\n",
       "            if (fig.imageObj.src) {\n",
       "                (window.URL || window.webkitURL).revokeObjectURL(\n",
       "                    fig.imageObj.src);\n",
       "            }\n",
       "\n",
       "            fig.imageObj.src = (window.URL || window.webkitURL).createObjectURL(\n",
       "                evt.data);\n",
       "            fig.updated_canvas_event();\n",
       "            fig.waiting = false;\n",
       "            return;\n",
       "        }\n",
       "        else if (typeof evt.data === 'string' && evt.data.slice(0, 21) == \"data:image/png;base64\") {\n",
       "            fig.imageObj.src = evt.data;\n",
       "            fig.updated_canvas_event();\n",
       "            fig.waiting = false;\n",
       "            return;\n",
       "        }\n",
       "\n",
       "        var msg = JSON.parse(evt.data);\n",
       "        var msg_type = msg['type'];\n",
       "\n",
       "        // Call the  \"handle_{type}\" callback, which takes\n",
       "        // the figure and JSON message as its only arguments.\n",
       "        try {\n",
       "            var callback = fig[\"handle_\" + msg_type];\n",
       "        } catch (e) {\n",
       "            console.log(\"No handler for the '\" + msg_type + \"' message type: \", msg);\n",
       "            return;\n",
       "        }\n",
       "\n",
       "        if (callback) {\n",
       "            try {\n",
       "                // console.log(\"Handling '\" + msg_type + \"' message: \", msg);\n",
       "                callback(fig, msg);\n",
       "            } catch (e) {\n",
       "                console.log(\"Exception inside the 'handler_\" + msg_type + \"' callback:\", e, e.stack, msg);\n",
       "            }\n",
       "        }\n",
       "    };\n",
       "}\n",
       "\n",
       "// from http://stackoverflow.com/questions/1114465/getting-mouse-location-in-canvas\n",
       "mpl.findpos = function(e) {\n",
       "    //this section is from http://www.quirksmode.org/js/events_properties.html\n",
       "    var targ;\n",
       "    if (!e)\n",
       "        e = window.event;\n",
       "    if (e.target)\n",
       "        targ = e.target;\n",
       "    else if (e.srcElement)\n",
       "        targ = e.srcElement;\n",
       "    if (targ.nodeType == 3) // defeat Safari bug\n",
       "        targ = targ.parentNode;\n",
       "\n",
       "    // jQuery normalizes the pageX and pageY\n",
       "    // pageX,Y are the mouse positions relative to the document\n",
       "    // offset() returns the position of the element relative to the document\n",
       "    var x = e.pageX - $(targ).offset().left;\n",
       "    var y = e.pageY - $(targ).offset().top;\n",
       "\n",
       "    return {\"x\": x, \"y\": y};\n",
       "};\n",
       "\n",
       "/*\n",
       " * return a copy of an object with only non-object keys\n",
       " * we need this to avoid circular references\n",
       " * http://stackoverflow.com/a/24161582/3208463\n",
       " */\n",
       "function simpleKeys (original) {\n",
       "  return Object.keys(original).reduce(function (obj, key) {\n",
       "    if (typeof original[key] !== 'object')\n",
       "        obj[key] = original[key]\n",
       "    return obj;\n",
       "  }, {});\n",
       "}\n",
       "\n",
       "mpl.figure.prototype.mouse_event = function(event, name) {\n",
       "    var canvas_pos = mpl.findpos(event)\n",
       "\n",
       "    if (name === 'button_press')\n",
       "    {\n",
       "        this.canvas.focus();\n",
       "        this.canvas_div.focus();\n",
       "    }\n",
       "\n",
       "    var x = canvas_pos.x * mpl.ratio;\n",
       "    var y = canvas_pos.y * mpl.ratio;\n",
       "\n",
       "    this.send_message(name, {x: x, y: y, button: event.button,\n",
       "                             step: event.step,\n",
       "                             guiEvent: simpleKeys(event)});\n",
       "\n",
       "    /* This prevents the web browser from automatically changing to\n",
       "     * the text insertion cursor when the button is pressed.  We want\n",
       "     * to control all of the cursor setting manually through the\n",
       "     * 'cursor' event from matplotlib */\n",
       "    event.preventDefault();\n",
       "    return false;\n",
       "}\n",
       "\n",
       "mpl.figure.prototype._key_event_extra = function(event, name) {\n",
       "    // Handle any extra behaviour associated with a key event\n",
       "}\n",
       "\n",
       "mpl.figure.prototype.key_event = function(event, name) {\n",
       "\n",
       "    // Prevent repeat events\n",
       "    if (name == 'key_press')\n",
       "    {\n",
       "        if (event.which === this._key)\n",
       "            return;\n",
       "        else\n",
       "            this._key = event.which;\n",
       "    }\n",
       "    if (name == 'key_release')\n",
       "        this._key = null;\n",
       "\n",
       "    var value = '';\n",
       "    if (event.ctrlKey && event.which != 17)\n",
       "        value += \"ctrl+\";\n",
       "    if (event.altKey && event.which != 18)\n",
       "        value += \"alt+\";\n",
       "    if (event.shiftKey && event.which != 16)\n",
       "        value += \"shift+\";\n",
       "\n",
       "    value += 'k';\n",
       "    value += event.which.toString();\n",
       "\n",
       "    this._key_event_extra(event, name);\n",
       "\n",
       "    this.send_message(name, {key: value,\n",
       "                             guiEvent: simpleKeys(event)});\n",
       "    return false;\n",
       "}\n",
       "\n",
       "mpl.figure.prototype.toolbar_button_onclick = function(name) {\n",
       "    if (name == 'download') {\n",
       "        this.handle_save(this, null);\n",
       "    } else {\n",
       "        this.send_message(\"toolbar_button\", {name: name});\n",
       "    }\n",
       "};\n",
       "\n",
       "mpl.figure.prototype.toolbar_button_onmouseover = function(tooltip) {\n",
       "    this.message.textContent = tooltip;\n",
       "};\n",
       "mpl.toolbar_items = [[\"Home\", \"Reset original view\", \"fa fa-home icon-home\", \"home\"], [\"Back\", \"Back to  previous view\", \"fa fa-arrow-left icon-arrow-left\", \"back\"], [\"Forward\", \"Forward to next view\", \"fa fa-arrow-right icon-arrow-right\", \"forward\"], [\"\", \"\", \"\", \"\"], [\"Pan\", \"Pan axes with left mouse, zoom with right\", \"fa fa-arrows icon-move\", \"pan\"], [\"Zoom\", \"Zoom to rectangle\", \"fa fa-square-o icon-check-empty\", \"zoom\"], [\"\", \"\", \"\", \"\"], [\"Download\", \"Download plot\", \"fa fa-floppy-o icon-save\", \"download\"]];\n",
       "\n",
       "mpl.extensions = [\"eps\", \"jpeg\", \"pdf\", \"png\", \"ps\", \"raw\", \"svg\", \"tif\"];\n",
       "\n",
       "mpl.default_extension = \"png\";var comm_websocket_adapter = function(comm) {\n",
       "    // Create a \"websocket\"-like object which calls the given IPython comm\n",
       "    // object with the appropriate methods. Currently this is a non binary\n",
       "    // socket, so there is still some room for performance tuning.\n",
       "    var ws = {};\n",
       "\n",
       "    ws.close = function() {\n",
       "        comm.close()\n",
       "    };\n",
       "    ws.send = function(m) {\n",
       "        //console.log('sending', m);\n",
       "        comm.send(m);\n",
       "    };\n",
       "    // Register the callback with on_msg.\n",
       "    comm.on_msg(function(msg) {\n",
       "        //console.log('receiving', msg['content']['data'], msg);\n",
       "        // Pass the mpl event to the overriden (by mpl) onmessage function.\n",
       "        ws.onmessage(msg['content']['data'])\n",
       "    });\n",
       "    return ws;\n",
       "}\n",
       "\n",
       "mpl.mpl_figure_comm = function(comm, msg) {\n",
       "    // This is the function which gets called when the mpl process\n",
       "    // starts-up an IPython Comm through the \"matplotlib\" channel.\n",
       "\n",
       "    var id = msg.content.data.id;\n",
       "    // Get hold of the div created by the display call when the Comm\n",
       "    // socket was opened in Python.\n",
       "    var element = $(\"#\" + id);\n",
       "    var ws_proxy = comm_websocket_adapter(comm)\n",
       "\n",
       "    function ondownload(figure, format) {\n",
       "        window.open(figure.imageObj.src);\n",
       "    }\n",
       "\n",
       "    var fig = new mpl.figure(id, ws_proxy,\n",
       "                           ondownload,\n",
       "                           element.get(0));\n",
       "\n",
       "    // Call onopen now - mpl needs it, as it is assuming we've passed it a real\n",
       "    // web socket which is closed, not our websocket->open comm proxy.\n",
       "    ws_proxy.onopen();\n",
       "\n",
       "    fig.parent_element = element.get(0);\n",
       "    fig.cell_info = mpl.find_output_cell(\"<div id='\" + id + \"'></div>\");\n",
       "    if (!fig.cell_info) {\n",
       "        console.error(\"Failed to find cell for figure\", id, fig);\n",
       "        return;\n",
       "    }\n",
       "\n",
       "    var output_index = fig.cell_info[2]\n",
       "    var cell = fig.cell_info[0];\n",
       "\n",
       "};\n",
       "\n",
       "mpl.figure.prototype.handle_close = function(fig, msg) {\n",
       "    var width = fig.canvas.width/mpl.ratio\n",
       "    fig.root.unbind('remove')\n",
       "\n",
       "    // Update the output cell to use the data from the current canvas.\n",
       "    fig.push_to_output();\n",
       "    var dataURL = fig.canvas.toDataURL();\n",
       "    // Re-enable the keyboard manager in IPython - without this line, in FF,\n",
       "    // the notebook keyboard shortcuts fail.\n",
       "    IPython.keyboard_manager.enable()\n",
       "    $(fig.parent_element).html('<img src=\"' + dataURL + '\" width=\"' + width + '\">');\n",
       "    fig.close_ws(fig, msg);\n",
       "}\n",
       "\n",
       "mpl.figure.prototype.close_ws = function(fig, msg){\n",
       "    fig.send_message('closing', msg);\n",
       "    // fig.ws.close()\n",
       "}\n",
       "\n",
       "mpl.figure.prototype.push_to_output = function(remove_interactive) {\n",
       "    // Turn the data on the canvas into data in the output cell.\n",
       "    var width = this.canvas.width/mpl.ratio\n",
       "    var dataURL = this.canvas.toDataURL();\n",
       "    this.cell_info[1]['text/html'] = '<img src=\"' + dataURL + '\" width=\"' + width + '\">';\n",
       "}\n",
       "\n",
       "mpl.figure.prototype.updated_canvas_event = function() {\n",
       "    // Tell IPython that the notebook contents must change.\n",
       "    IPython.notebook.set_dirty(true);\n",
       "    this.send_message(\"ack\", {});\n",
       "    var fig = this;\n",
       "    // Wait a second, then push the new image to the DOM so\n",
       "    // that it is saved nicely (might be nice to debounce this).\n",
       "    setTimeout(function () { fig.push_to_output() }, 1000);\n",
       "}\n",
       "\n",
       "mpl.figure.prototype._init_toolbar = function() {\n",
       "    var fig = this;\n",
       "\n",
       "    var nav_element = $('<div/>')\n",
       "    nav_element.attr('style', 'width: 100%');\n",
       "    this.root.append(nav_element);\n",
       "\n",
       "    // Define a callback function for later on.\n",
       "    function toolbar_event(event) {\n",
       "        return fig.toolbar_button_onclick(event['data']);\n",
       "    }\n",
       "    function toolbar_mouse_event(event) {\n",
       "        return fig.toolbar_button_onmouseover(event['data']);\n",
       "    }\n",
       "\n",
       "    for(var toolbar_ind in mpl.toolbar_items){\n",
       "        var name = mpl.toolbar_items[toolbar_ind][0];\n",
       "        var tooltip = mpl.toolbar_items[toolbar_ind][1];\n",
       "        var image = mpl.toolbar_items[toolbar_ind][2];\n",
       "        var method_name = mpl.toolbar_items[toolbar_ind][3];\n",
       "\n",
       "        if (!name) { continue; };\n",
       "\n",
       "        var button = $('<button class=\"btn btn-default\" href=\"#\" title=\"' + name + '\"><i class=\"fa ' + image + ' fa-lg\"></i></button>');\n",
       "        button.click(method_name, toolbar_event);\n",
       "        button.mouseover(tooltip, toolbar_mouse_event);\n",
       "        nav_element.append(button);\n",
       "    }\n",
       "\n",
       "    // Add the status bar.\n",
       "    var status_bar = $('<span class=\"mpl-message\" style=\"text-align:right; float: right;\"/>');\n",
       "    nav_element.append(status_bar);\n",
       "    this.message = status_bar[0];\n",
       "\n",
       "    // Add the close button to the window.\n",
       "    var buttongrp = $('<div class=\"btn-group inline pull-right\"></div>');\n",
       "    var button = $('<button class=\"btn btn-mini btn-primary\" href=\"#\" title=\"Stop Interaction\"><i class=\"fa fa-power-off icon-remove icon-large\"></i></button>');\n",
       "    button.click(function (evt) { fig.handle_close(fig, {}); } );\n",
       "    button.mouseover('Stop Interaction', toolbar_mouse_event);\n",
       "    buttongrp.append(button);\n",
       "    var titlebar = this.root.find($('.ui-dialog-titlebar'));\n",
       "    titlebar.prepend(buttongrp);\n",
       "}\n",
       "\n",
       "mpl.figure.prototype._root_extra_style = function(el){\n",
       "    var fig = this\n",
       "    el.on(\"remove\", function(){\n",
       "\tfig.close_ws(fig, {});\n",
       "    });\n",
       "}\n",
       "\n",
       "mpl.figure.prototype._canvas_extra_style = function(el){\n",
       "    // this is important to make the div 'focusable\n",
       "    el.attr('tabindex', 0)\n",
       "    // reach out to IPython and tell the keyboard manager to turn it's self\n",
       "    // off when our div gets focus\n",
       "\n",
       "    // location in version 3\n",
       "    if (IPython.notebook.keyboard_manager) {\n",
       "        IPython.notebook.keyboard_manager.register_events(el);\n",
       "    }\n",
       "    else {\n",
       "        // location in version 2\n",
       "        IPython.keyboard_manager.register_events(el);\n",
       "    }\n",
       "\n",
       "}\n",
       "\n",
       "mpl.figure.prototype._key_event_extra = function(event, name) {\n",
       "    var manager = IPython.notebook.keyboard_manager;\n",
       "    if (!manager)\n",
       "        manager = IPython.keyboard_manager;\n",
       "\n",
       "    // Check for shift+enter\n",
       "    if (event.shiftKey && event.which == 13) {\n",
       "        this.canvas_div.blur();\n",
       "        // select the cell after this one\n",
       "        var index = IPython.notebook.find_cell_index(this.cell_info[0]);\n",
       "        IPython.notebook.select(index + 1);\n",
       "    }\n",
       "}\n",
       "\n",
       "mpl.figure.prototype.handle_save = function(fig, msg) {\n",
       "    fig.ondownload(fig, null);\n",
       "}\n",
       "\n",
       "\n",
       "mpl.find_output_cell = function(html_output) {\n",
       "    // Return the cell and output element which can be found *uniquely* in the notebook.\n",
       "    // Note - this is a bit hacky, but it is done because the \"notebook_saving.Notebook\"\n",
       "    // IPython event is triggered only after the cells have been serialised, which for\n",
       "    // our purposes (turning an active figure into a static one), is too late.\n",
       "    var cells = IPython.notebook.get_cells();\n",
       "    var ncells = cells.length;\n",
       "    for (var i=0; i<ncells; i++) {\n",
       "        var cell = cells[i];\n",
       "        if (cell.cell_type === 'code'){\n",
       "            for (var j=0; j<cell.output_area.outputs.length; j++) {\n",
       "                var data = cell.output_area.outputs[j];\n",
       "                if (data.data) {\n",
       "                    // IPython >= 3 moved mimebundle to data attribute of output\n",
       "                    data = data.data;\n",
       "                }\n",
       "                if (data['text/html'] == html_output) {\n",
       "                    return [cell, data, j];\n",
       "                }\n",
       "            }\n",
       "        }\n",
       "    }\n",
       "}\n",
       "\n",
       "// Register the function which deals with the matplotlib target/channel.\n",
       "// The kernel may be null if the page has been refreshed.\n",
       "if (IPython.notebook.kernel != null) {\n",
       "    IPython.notebook.kernel.comm_manager.register_target('matplotlib', mpl.mpl_figure_comm);\n",
       "}\n"
      ],
      "text/plain": [
       "<IPython.core.display.Javascript object>"
      ]
     },
     "metadata": {},
     "output_type": "display_data"
    },
    {
     "data": {
      "text/html": [
       "<img src=\"data:image/png;base64,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\" width=\"640\">"
      ],
      "text/plain": [
       "<IPython.core.display.HTML object>"
      ]
     },
     "metadata": {},
     "output_type": "display_data"
    }
   ],
   "source": [
    "import matplotlib.pyplot as plt\n",
    "# This next command is specifically for Jupyter Notebook\n",
    "%matplotlib notebook\n",
    "\n",
    "fig = plt.figure()"
   ]
  },
  {
   "cell_type": "markdown",
   "metadata": {},
   "source": [
    "You can reference and change options in the active figure using the `plt.gcf()` function."
   ]
  },
  {
   "cell_type": "markdown",
   "metadata": {},
   "source": [
    "### 0.1. Subplot commands\n",
    "When you declare a figure using the `plt.figure()` command, you must then declare how many subplots will be in the figure. This is done using the `add_subplot()` command. You have to create one or more subplots."
   ]
  },
  {
   "cell_type": "code",
   "execution_count": 2,
   "metadata": {
    "collapsed": true
   },
   "outputs": [],
   "source": [
    "ax1 = fig.add_subplot(2, 2, 1)"
   ]
  },
  {
   "cell_type": "code",
   "execution_count": 3,
   "metadata": {
    "collapsed": true
   },
   "outputs": [],
   "source": [
    "ax2 = fig.add_subplot(2, 2, 2)"
   ]
  },
  {
   "cell_type": "code",
   "execution_count": null,
   "metadata": {
    "collapsed": true
   },
   "outputs": [],
   "source": [
    "ax3 = fig.add_subplot(2, 2, 3)"
   ]
  },
  {
   "cell_type": "markdown",
   "metadata": {},
   "source": [
    "Let's fill in the third subplot with a two-way line plot of some white noise. If we don't specify the axes of the specific subplot that we want, matplotlib will use the most recently created subplot"
   ]
  },
  {
   "cell_type": "code",
   "execution_count": null,
   "metadata": {
    "collapsed": false
   },
   "outputs": [],
   "source": [
    "import numpy as np\n",
    "\n",
    "plt.plot(np.random.randn(50).cumsum(), 'k--')"
   ]
  },
  {
   "cell_type": "markdown",
   "metadata": {},
   "source": [
    "The `k--` is a style option instructing matplotlib to plot the data with a black dashed line. The objects returned by `fig.add_subplot()` avobe are `AxesSubPlot` objects on which you can directly plot on the other empty subplots by calling each one's instance methods."
   ]
  },
  {
   "cell_type": "code",
   "execution_count": null,
   "metadata": {
    "collapsed": false
   },
   "outputs": [],
   "source": [
    "_ = ax1.hist(np.random.randn(100), bins=20, color='y', alpha=0.3)"
   ]
  },
  {
   "cell_type": "code",
   "execution_count": null,
   "metadata": {
    "collapsed": false
   },
   "outputs": [],
   "source": [
    "ax2.scatter(np.arange(30), np.arange(30) + 3*np.random.randn(30))"
   ]
  },
  {
   "cell_type": "markdown",
   "metadata": {},
   "source": [
    "Since creating a figure with multiple subplots according to a particular layout is such a common task, there is a convenience method, `plt.subplots()`, that creates a new figure and returns a NumPy array containing the created subplot objects. This is very useful as the `axes` array can be easily indexed like a two-dimensional array--for example, `axes[0, 1]`. You can also indicate that subplots should have the same $x$ and $y$ axis using `sharex` and `sharey` options, respectively. This is especially useful when comparing data on the same scale; otherwise, matplotlib auto-scales plot limits independently"
   ]
  },
  {
   "cell_type": "code",
   "execution_count": null,
   "metadata": {
    "collapsed": false
   },
   "outputs": [],
   "source": [
    "fig, axes = plt.subplots(2, 3)\n",
    "axes"
   ]
  },
  {
   "cell_type": "markdown",
   "metadata": {},
   "source": [
    "### 0.2. Colors, markers, and line styles\n",
    "Matplotlib can accept a single string argument that can encapsulate a subset of the options available in the `color`, `marker`, and `linestyle` options. For example, the following two commands do the same thing."
   ]
  },
  {
   "cell_type": "code",
   "execution_count": null,
   "metadata": {
    "collapsed": false
   },
   "outputs": [],
   "source": [
    "xx = np.arange(45)\n",
    "yy = 0.5 * xx ** 2 - 3 * xx * np.random.randn(45)\n",
    "\n",
    "plt.plot(xx, yy, 'go--')"
   ]
  },
  {
   "cell_type": "code",
   "execution_count": null,
   "metadata": {
    "collapsed": false
   },
   "outputs": [],
   "source": [
    "plt.plot(xx, yy, linestyle='--', color='g', marker='o')"
   ]
  },
  {
   "cell_type": "markdown",
   "metadata": {},
   "source": [
    "### 0.3. Ticks, labels, and legends\n",
    "The following commands show how to add a title to a plot, add axis labels, and set the minimum and maximum to be plotted on both axes."
   ]
  },
  {
   "cell_type": "code",
   "execution_count": null,
   "metadata": {
    "collapsed": false
   },
   "outputs": [],
   "source": [
    "plt.plot(xx, yy, linestyle='--', color='g', marker='o')\n",
    "plt.title('This is the best plot ever', fontsize=20)\n",
    "plt.xlabel(r'$X$')\n",
    "plt.ylabel(r'$Y$')\n",
    "plt.xlim([10, 30])  # This gives the xmin and xmax to be plotted\n",
    "plt.ylim([200, 700])  # This gives the ymin and ymax to be plotted"
   ]
  },
  {
   "cell_type": "markdown",
   "metadata": {},
   "source": [
    "Adding a legend to a plot is essential if you are plotting more than one series. In the example below, I plot two time series. Both series are with periods 1 and 50. Note that I put grid lines on the plot by using the `MultipleLocator` function from the `matplotlib.ticker` package."
   ]
  },
  {
   "cell_type": "code",
   "execution_count": null,
   "metadata": {
    "collapsed": false
   },
   "outputs": [],
   "source": [
    "from matplotlib.ticker import MultipleLocator\n",
    "\n",
    "fig, ax = plt.subplots()\n",
    "my_age = np.arange(3, 45)\n",
    "knees_hurt = 0.03 * np.arange(50) ** 2\n",
    "all_ages = np.arange(50)\n",
    "plt.plot(all_ages[4:46], my_age, marker='D', label='My age')\n",
    "plt.plot(all_ages, knees_hurt, marker='o',\n",
    "         label='How much my knees hurt')\n",
    "# for the minor ticks, use no labels; default NullFormatter\n",
    "minorLocator = MultipleLocator(1)\n",
    "ax.xaxis.set_minor_locator(minorLocator)\n",
    "plt.grid(b=True, which='major', color='0.65', linestyle='-')\n",
    "plt.title('My knee pain and my age', fontsize=20)\n",
    "plt.xlabel(r'Age')\n",
    "plt.ylabel(r'Pain units')\n",
    "plt.xlim([-1.0, 50])\n",
    "plt.ylim([-2.0, 80])\n",
    "plt.legend(loc='upper left')"
   ]
  },
  {
   "cell_type": "markdown",
   "metadata": {},
   "source": [
    "Now suppose I wanted to change the tick labels on the x axis to highlight some key years (8, 28, and 41) in addition to the 0, 10, 20,... currently listed. And I want those three extra years to be labeled with the strings ('bt', 'mt', 'cr'). And assume I wanted the labels to be vertically oriented (rather than the current horizontal orientation)."
   ]
  },
  {
   "cell_type": "code",
   "execution_count": null,
   "metadata": {
    "collapsed": false
   },
   "outputs": [],
   "source": [
    "xtickvals = [0, 8, 10, 20, 28, 30, 40, 41, 50]\n",
    "xticklabs = [0, 'bt', 10, 20, 'mt', 30, 40, 'cr', 50]\n",
    "\n",
    "fig, ax = plt.subplots()\n",
    "my_age = np.arange(3, 45)\n",
    "knees_hurt = 0.03 * np.arange(50) ** 2\n",
    "all_ages = np.arange(50)\n",
    "plt.plot(all_ages[4:46], my_age, marker='D', label='My age')\n",
    "plt.plot(all_ages, knees_hurt, marker='o',\n",
    "         label='How much my knees hurt')\n",
    "# for the minor ticks, use no labels; default NullFormatter\n",
    "minorLocator = MultipleLocator(1)\n",
    "ax.xaxis.set_minor_locator(minorLocator)\n",
    "plt.grid(b=True, which='major', color='0.65', linestyle='-')\n",
    "plt.title('My knee pain and my age', fontsize=20)\n",
    "plt.xlabel(r'Age')\n",
    "plt.ylabel(r'Pain units')\n",
    "plt.xticks(xtickvals, xticklabs, rotation='vertical')\n",
    "plt.xlim([-1.0, 50])\n",
    "plt.ylim([-2.0, 80])\n",
    "plt.legend(loc='upper left')"
   ]
  },
  {
   "cell_type": "markdown",
   "metadata": {},
   "source": [
    "### 0.4. Annotations and drawing on a Subplot\n",
    "Annotations and text can be added using the `text`, `arrow`, and `annotate` functions. `text` draws text at given coordinates `(x, y)` on the plot with optional custom styling.\n",
    "```python\n",
    "ax.text(x, y, 'Hello world!', family='monospace', fontsize=10)\n",
    "```"
   ]
  },
  {
   "cell_type": "code",
   "execution_count": null,
   "metadata": {
    "collapsed": false
   },
   "outputs": [],
   "source": [
    "import pandas as pd\n",
    "from datetime import datetime\n",
    "\n",
    "fig = plt.figure()\n",
    "ax = fig.add_subplot(1, 1, 1)\n",
    "\n",
    "data = pd.read_csv('DataFiles/spx.csv', index_col=0, parse_dates=True)\n",
    "spx = data['SPX']\n",
    "spx.plot(ax=ax, style='k-')\n",
    "\n",
    "crisis_data = [\n",
    "    (datetime(2007, 10, 11), 'Peak of bull market'),\n",
    "    (datetime(2008, 3, 12), 'Bear Stearns Fails'),\n",
    "    (datetime(2008, 9, 15), 'Lehman Bankruptcy')\n",
    "]\n",
    "\n",
    "for date, label in crisis_data:\n",
    "    ax.annotate(label, xy=(date, spx.asof(date) + 50),\n",
    "                xytext=(date, spx.asof(date) + 200),\n",
    "                arrowprops=dict(facecolor='black'),\n",
    "                horizontalalignment='left', verticalalignment='top')\n",
    "\n",
    "# Zoom in on 2007-2010\n",
    "ax.set_xlim(['1/1/2007', '1/1/2011'])\n",
    "ax.set_ylim([600, 1800])"
   ]
  },
  {
   "cell_type": "markdown",
   "metadata": {},
   "source": [
    "### 0.4. Saving figures\n",
    "Good housekeeping in your file directories is an essential skill for any significant coding project. The directory of the main Python scripts can get cluttered with datafiles, scripts, modules, figure files, and other output files. It is good practice to save files to an \"images\" folder. I prefer to have that folder in the same directory as my calling Python scripts or modules. But in the following format, one can put the images folder anywhere to which the user's terminal can write. This code won't work in this Jupyter notebook.\n",
    "```python\n",
    "from matplotlib.ticker import MultipleLocator\n",
    "import os\n",
    "\n",
    "plot = True\n",
    "\n",
    "if plot:\n",
    "    '''\n",
    "    --------------------------------------------------------------------\n",
    "    cur_path    = string, path name of current directory\n",
    "    output_fldr = string, folder in current path to save files\n",
    "    output_dir  = string, total path of images folder\n",
    "    output_path = string, path of file name of figure to be saved\n",
    "    xx          = (45,) vector, values of xx\n",
    "    yy          = (45,) vector, values of yy\n",
    "    --------------------------------------------------------------------\n",
    "    '''\n",
    "    # Create directory if images directory does not already exist\n",
    "    cur_path = os.path.split(os.path.abspath(__file__))[0]\n",
    "    output_fldr = 'images'\n",
    "    output_dir = os.path.join(cur_path, output_fldr)\n",
    "    if not os.access(output_dir, os.F_OK):\n",
    "        os.makedirs(output_dir)\n",
    "\n",
    "    # Plot line plot of xx and yy\n",
    "    xx = np.arange(45)\n",
    "    yy = 0.5 * xx ** 2 - 3 * xx * np.random.randn(45)\n",
    "    plt.plot(xx, yy, 'go--')\n",
    "    # for the minor ticks, use no labels; default NullFormatter\n",
    "    minorLocator = MultipleLocator(1)\n",
    "    ax.xaxis.set_minor_locator(minorLocator)\n",
    "    plt.grid(b=True, which='major', color='0.65', linestyle='-')\n",
    "    plt.title('Line plot of X and Y', fontsize=20)\n",
    "    plt.xlabel(r'$X$')\n",
    "    plt.ylabel(r'$Y$')\n",
    "    output_path = os.path.join(output_dir, 'xyplot')\n",
    "    plt.savefig(output_path)\n",
    "    # plt.show()\n",
    "    plt.close()\n",
    "```"
   ]
  },
  {
   "cell_type": "markdown",
   "metadata": {},
   "source": [
    "This code won't work in this Jupyter notebook because of the line in which `cur_path` is set. This script is not being run from a traditional script and therefore cannot use that `os.path.split()` function. But lets go through some of the main principles in this code.\n",
    "* It is often wise to set a Boolean in your script (`plot` in this example) to allow yourself to easily turn the plotting on and off within your code. Sometimes your plotting is just a diagnostic that you don't need to run every time with your analysis.\n",
    "* Have your script intelligently choose the folder from which the plotting functionality is being called. This is the `cur_path = os.path.split()` line. Those lines check what the current directory is, check if a subdirectory named \"images/\" already exists, and makes that directory if it does not already exist. Then the `plt.savefig()` command saves the figure to that folder.\n",
    "* At the end of a script that creates a figure, make sure to include the plt.close() command. If you don't do that, the matplotlib objects can pile up in your computer's memory--regardless of whether the plots are open and visible on your screen--and crash your computer."
   ]
  },
  {
   "cell_type": "markdown",
   "metadata": {},
   "source": [
    "## 1. The Almighty Histogram and its Friends"
   ]
  },
  {
   "cell_type": "markdown",
   "metadata": {},
   "source": [
    "### 1.1. The cumulative distribution function\n",
    "All the standard univariate descriptive statistics (e.g., mean, standard deviation, quantiles, autocorrelation) are simply statistics derived from the cumulative distribution function (*cdf*). The CDF $F$ of a random variable $X$ is defined as fraction of the values of $X$ that are greater than some realization of the random variable $x$.\n",
    "$$F(x) \\equiv Pr(X\\leq x)$$\n",
    "The estimator for the CDF is the empirical cumulative distribution function (*ecdf*) defined as:\n",
    "$$F_n = \\frac{\\#\\{x_i\\leq x\\}}{n} = \\frac{\\#x_i\\in(-\\infty, x]}{n} = \\frac{1}{n}\\sum_{i=1}^n I_{(-\\infty, x]}(x_i)$$,\n",
    "where $\\{x_1,x_2,...x_n\\}$ is a random sample of $n$ draws from $F$ and ,\n",
    "$$I_A(x) = \\begin{cases}1\\quad\\text{if}\\quad x\\in A \\\\ 0 \\quad\\text{if}\\quad x\\notin A.\\end{cases}$$\n",
    "\n",
    "Because the data for the *ecdf* are discrete, the *ecdf* is a stepwise linear (staircase) function. The Figure below shows the *ecdf* of Old Faithful eruption durations lasting longer than 3 seconds. The smooth red dotted line is a fitted continuous *cdf*.\n",
    "![title](Images/OldFaithfulCDF.png)"
   ]
  },
  {
   "cell_type": "markdown",
   "metadata": {},
   "source": [
    "### 1.2. The univariate probability density function and the histogram\n",
    "The most visually instructive transformation of the *cdf* is the probability density function (*pdf*). The value of the *pdf* at a given point does not have an intuitive interpretation. The *pdf* is the derivative or slope or rate of change of the *cdf*. But the *pdf* is good for describing what percent of the distribution lies between two values. The *pdf* $f$ is a function of particular values $x$ from the support of the random variable $X$ defined in the following way,\n",
    "$$f(x)\\equiv \\frac{\\partial F(x)}{\\partial x}.$$\n",
    "\n",
    "Scott (2015, p. 39) states that \"the empirical probability density function *epdf* is always a discrete Uniform density over the data, that is, the probability mass $n^{-1}$ at each data point.\" This means that the *epdf* is not continuous, nor is it continuously differentiable. It is simply a one-dimensional scatter diagram with each marker lining up along $n^{-1}$ on the $y$ axis and at each data point on the $x$-axis.\n",
    "\n",
    "A much more instructive representation of the empirical content of a probability density function is the *histogram*. It is more analogous to the discrete *ecdf* from the previous section. A histogram is an empirical estimator for the probability density function. A histogram $h(x)$ for a random variable $X$ is a set of nonoverlapping, contiguous intervals that include the entire support of $X$ that gives the count or frequency of observations in each bin. As such, a histogram $h(x)$ with $B$ bins is completely characterized by bin cutoffs $\\{c_1,c_2,...c_B, c_{B+1}\\}$. Let $bin_b$ be characterized by $x\\in(c_b, c_{b+1}]$ The specification of the count version of the histogram is the following.\n",
    "$$h(x) = \\sum_{i=1}^N I_{bin_b}(x_i)$$\n",
    "The bins need not have equal width, but that is usually the default for most histogram programming and graphical functions."
   ]
  },
  {
   "cell_type": "markdown",
   "metadata": {},
   "source": [
    "Use the penny thickness dataset `penny.csv`. Read it in to pandas. Reformat it to a Series with 90 elements such that each observation is a penny thickness. Create a histogram with 10 equally spaced bins."
   ]
  },
  {
   "cell_type": "code",
   "execution_count": null,
   "metadata": {
    "collapsed": false
   },
   "outputs": [],
   "source": [
    "import numpy as np\n",
    "import pandas as pd\n",
    "from pandas import DataFrame, Series\n",
    "\n",
    "pennies = pd.read_csv('DataFiles/penny.csv', names =['year', 'penny1', 'penny2'],\n",
    "                      index_col='year', skiprows=[0, 1, 2, 3, 4, 5])\n",
    "pennies_all = pennies.stack()\n",
    "pennies_all"
   ]
  },
  {
   "cell_type": "code",
   "execution_count": null,
   "metadata": {
    "collapsed": false
   },
   "outputs": [],
   "source": [
    "plt.hist(pennies_all, 10)"
   ]
  },
  {
   "cell_type": "markdown",
   "metadata": {},
   "source": [
    "Note that `plt.hist()` outputs three objects. The first is a list of counts in each bin (`n`). The second is a list of bin endpoints (`bin_cuts`), and the third is a list of patch objects. I have no idea what the patch objects are, but the `n` and `bin_cuts` are straightforward."
   ]
  },
  {
   "cell_type": "markdown",
   "metadata": {},
   "source": [
    "Now try a histogram with four equally spaced bins. Let's make the bin color green."
   ]
  },
  {
   "cell_type": "code",
   "execution_count": null,
   "metadata": {
    "collapsed": false
   },
   "outputs": [],
   "source": [
    "n, bin_cuts, patches = plt.hist(pennies_all, 4, facecolor='green')"
   ]
  },
  {
   "cell_type": "markdown",
   "metadata": {},
   "source": [
    "Now try a histogram with 90 equally spaced bins. Note that there are only 90 observations in the `pennies_all` data."
   ]
  },
  {
   "cell_type": "code",
   "execution_count": null,
   "metadata": {
    "collapsed": false
   },
   "outputs": [],
   "source": [
    "n, bin_cuts, patches = plt.hist(pennies_all, 90)"
   ]
  },
  {
   "cell_type": "markdown",
   "metadata": {},
   "source": [
    "The cardinal sin of visualizations is not labeling your plot and your axes. We have so far committed that cardinal sin. We can label the plot and the axes by using the following additional matplotlib options."
   ]
  },
  {
   "cell_type": "code",
   "execution_count": null,
   "metadata": {
    "collapsed": false
   },
   "outputs": [],
   "source": [
    "n, bin_cuts, patches = plt.hist(pennies_all, 10)\n",
    "plt.title('Histogram of penny thickness (mils): 1945-1989', fontsize=17)\n",
    "plt.xlabel(r'Thickness (mils)')\n",
    "plt.ylabel(r'Number of observations')"
   ]
  },
  {
   "cell_type": "markdown",
   "metadata": {},
   "source": [
    "Now what if we wanted our histogram to be in frequency form rather than count form. The frequency form of a histogram is more analogous to the probability density function. It is simply a normalized version of the count histogram in which each observation is weighted by $n^{-1}$. We can implement this by creating a weight vector of $N$ elements, each of which is $n^{-1}$, we can then feed this directly into the histogram function."
   ]
  },
  {
   "cell_type": "code",
   "execution_count": null,
   "metadata": {
    "collapsed": false
   },
   "outputs": [],
   "source": [
    "num_bins = 10\n",
    "weights = (1 / pennies_all.shape[0]) * np.ones_like(pennies_all)\n",
    "n, bin_cuts, patches = plt.hist(pennies_all, num_bins, weights=weights)\n",
    "plt.title('Histogram of penny thickness (mils): 1945-1989', fontsize=17)\n",
    "plt.xlabel(r'Thickness (mils)')\n",
    "plt.ylabel(r'Percent of observations in bin')"
   ]
  },
  {
   "cell_type": "markdown",
   "metadata": {},
   "source": [
    "You can verify that the percents in each bin sum to one."
   ]
  },
  {
   "cell_type": "code",
   "execution_count": null,
   "metadata": {
    "collapsed": false
   },
   "outputs": [],
   "source": [
    "print(n.sum())"
   ]
  },
  {
   "cell_type": "markdown",
   "metadata": {},
   "source": [
    "It would probably be more instructive if the labels on the $x$ axis were closer to the boundaries."
   ]
  },
  {
   "cell_type": "code",
   "execution_count": null,
   "metadata": {
    "collapsed": false
   },
   "outputs": [],
   "source": [
    "n, bin_cuts, patches = plt.hist(pennies_all, num_bins, weights=weights)\n",
    "plt.xticks(np.round_(bin_cuts, 1))\n",
    "plt.title('Histogram of penny thickness (mils): 1945-1989', fontsize=17)\n",
    "plt.xlabel(r'Thickness (mils)')\n",
    "plt.ylabel(r'Percent of observations in bin')"
   ]
  },
  {
   "cell_type": "markdown",
   "metadata": {},
   "source": [
    "There is no universal rule for what is the optimal number of bins and what are the optimal bin cutoff values. Some of the principles for making these decisions are based on minimizing error and asymptotic bias between the true probability density function $f(x)$ and the estimator of the *pdf* $h(x)$. A great reference for many optional rules is Scott (2015, chap. 3).\n",
    "\n",
    "One of the most common of these rules is Sturges' number of bins rule for equal width bins. Let $k$ be the number of equal-width bins,\n",
    "$$\\textbf{Sturges' rule}:\\quad k = \\log_2 N$$\n",
    "rounded to the nearest integer. This rule is based on the property that the observation counts in each bin of histogram $h(x)$ are themselvess binomial random variables. Sturges' rule gives a frequency histogram of normal density with mean $(k-1)/2$ and variance $(k-1)/4$. This rule is good for distributions that should be normal. In our penny thickness case, $k$ should equal 8."
   ]
  },
  {
   "cell_type": "code",
   "execution_count": null,
   "metadata": {
    "collapsed": false
   },
   "outputs": [],
   "source": [
    "num_bins = np.ceil(1 + np.log2(90))\n",
    "n, bin_cuts, patches = plt.hist(pennies_all, num_bins, weights=weights)\n",
    "plt.xticks(np.round_(bin_cuts, 1))\n",
    "plt.title('Histogram of penny thickness (mils): 1945-1989', fontsize=17)\n",
    "plt.xlabel(r'Thickness (mils)')\n",
    "plt.ylabel(r'Percent of observations in bin')"
   ]
  },
  {
   "cell_type": "markdown",
   "metadata": {},
   "source": [
    "However, from previous versions of this histogram, it is clear that the distribution is not normal. In this case, Sturges' rule oversmoothes the distribution and we don't see the richness between thicknesses 52.0 and 55.0. A histogram with the correct thickness takes a little exploration."
   ]
  },
  {
   "cell_type": "markdown",
   "metadata": {},
   "source": [
    "### 1.3. The 3D histogram\n",
    "A 3D histogram can be used as an estimator for a bivariate probability density function. Load in Old Faithful geyser duration data file `geyser.csv`. Make a 3D frequency histogram with geyser durations in the current period `duration(t)` on the $x$ axis and geyser durations in the next period `duration(t+1)` on the $y$ axis."
   ]
  },
  {
   "cell_type": "code",
   "execution_count": null,
   "metadata": {
    "collapsed": false
   },
   "outputs": [],
   "source": [
    "geyser_dur = pd.read_csv('DataFiles/geyser.csv', names =['duration'])\n",
    "geyser_dur"
   ]
  },
  {
   "cell_type": "code",
   "execution_count": null,
   "metadata": {
    "collapsed": false
   },
   "outputs": [],
   "source": [
    "dur_t = geyser_dur['duration'][:-1]\n",
    "dur_tp1 = geyser_dur['duration'][1:]"
   ]
  },
  {
   "cell_type": "markdown",
   "metadata": {},
   "source": [
    "To make a 3D histogram using matplotlib, you have to use the NumPy function `histogram2d()` and then port the objects into a 3D bar chart using matplotlib's `bar3D()` function."
   ]
  },
  {
   "cell_type": "code",
   "execution_count": null,
   "metadata": {
    "collapsed": false
   },
   "outputs": [],
   "source": [
    "from mpl_toolkits.mplot3d import Axes3D\n",
    "\n",
    "'''\n",
    "--------------------------------------------------------------------\n",
    "bin_num  = integer > 2, number of bins along each axis\n",
    "hist     = (bin_num, bin_num) matrix, bin percentages\n",
    "xedges   = (bin_num+1,) vector, bin edge values in x-dimension\n",
    "yedges   = (bin_num+1,) vector, bin edge values in y-dimension\n",
    "x_midp   = (bin_num,) vector, midpoints of bins in x-dimension\n",
    "y_midp   = (bin_num,) vector, midpoints of bins in y-dimension\n",
    "elements = integer, total number of 3D histogram bins\n",
    "xpos     = (bin_num * bin_num) vector, x-coordinates of each bin\n",
    "ypos     = (bin_num * bin_num) vector, y-coordinates of each bin\n",
    "zpos     = (bin_num * bin_num) vector, zeros or z-coordinates of\n",
    "            origin of each bin\n",
    "dx       = (bin_num,) vector, x-width of each bin\n",
    "dy       = (bin_num,) vector, y-width of each bin\n",
    "dz       = (bin_num * bin_num) vector, height of each bin\n",
    "--------------------------------------------------------------------\n",
    "'''\n",
    "fig = plt.figure()\n",
    "ax = fig.add_subplot(111, projection ='3d')\n",
    "bin_num = int(9)\n",
    "hist, xedges, yedges = np.histogram2d(dur_t, dur_tp1, bins=bin_num)\n",
    "hist = hist / hist.sum()\n",
    "x_midp = xedges[:-1] + 0.5 * (xedges[1] - xedges[0])\n",
    "y_midp = yedges[:-1] + 0.5 * (yedges[1] - yedges[0])\n",
    "elements = (len(xedges) - 1) * (len(yedges) - 1)\n",
    "ypos, xpos = np.meshgrid(y_midp, x_midp)\n",
    "xpos = xpos.flatten()\n",
    "ypos = ypos.flatten()\n",
    "zpos = np.zeros(elements)\n",
    "dx = (xedges[1] - xedges[0]) * np.ones_like(bin_num)\n",
    "dy = (yedges[1] - yedges[0]) * np.ones_like(bin_num)\n",
    "dz = hist.flatten()\n",
    "ax.bar3d(xpos, ypos, zpos, dx, dy, dz, color='g', zsort='average')\n",
    "ax.set_xlabel('duration(t) (mins.)')\n",
    "ax.set_ylabel('duration(t+1) (mins.)')\n",
    "ax.set_zlabel('Percent of obs.')\n",
    "plt.title('Histogram by Old Faithful duration(t) and duration(t-1)')"
   ]
  },
  {
   "cell_type": "markdown",
   "metadata": {},
   "source": [
    "### 1.4. The countour plot\n",
    "A contour plot is a 2D version of the 3D histogram. It is like a topographical map. The contour plot fits smooth level curves to the density data. Contour plots can also include color scale for monotonically increasing levels of the variables. [TODO: Add material here.]"
   ]
  },
  {
   "cell_type": "markdown",
   "metadata": {},
   "source": [
    "## 2. The scatter plot\n",
    "The scatter plot is usually first in line among visualization tools for 2D data. Let the $i$th observation of the two dimensional data be represented by $(x_i, y_i)$. A scatter plot places markers at each point $(x_i, y_i)$ in a two-dimensional plot."
   ]
  },
  {
   "cell_type": "markdown",
   "metadata": {},
   "source": [
    "The famous Fisher-Anderson Iris data is a canonical dataset of three species of Iris with five variables on each of the observations (sepal length, sepal width, petal length, petal width, species). We can creat a scatter plot of two of these variables."
   ]
  },
  {
   "cell_type": "code",
   "execution_count": null,
   "metadata": {
    "collapsed": false
   },
   "outputs": [],
   "source": [
    "import pandas as pd\n",
    "from pandas import Series, DataFrame\n",
    "\n",
    "iris_data = pd.read_csv(\n",
    "    'DataFiles/iris.csv',\n",
    "    names=['length_sep', 'width_sep', 'length_pet', 'width_pet', 'species'], skiprows=[0])\n",
    "length_sep = iris_data['length_sep']\n",
    "width_sep = iris_data['width_sep']\n",
    "fig, axes = plt.subplots(1, 1)\n",
    "plt.scatter(length_sep, width_sep)\n",
    "# plt.xticks(np.round_(bin_cuts, 1))\n",
    "plt.title('Sepal length vs. sepal width', fontsize=17)\n",
    "plt.xlabel(r'sepal length (mm)')\n",
    "plt.ylabel(r'sepal width (mm)')"
   ]
  },
  {
   "cell_type": "markdown",
   "metadata": {},
   "source": [
    "We could color the markers associated with different species with different colors. Note below that, with the colors, we are plotting three dimensions of data (sepal length, width, and species)."
   ]
  },
  {
   "cell_type": "code",
   "execution_count": null,
   "metadata": {
    "collapsed": false
   },
   "outputs": [],
   "source": [
    "length_sep_set = iris_data[iris_data['species']=='setosa']['length_sep']\n",
    "width_sep_set = iris_data[iris_data['species']=='setosa']['width_sep']\n",
    "length_sep_ver = iris_data[iris_data['species']=='versicolor']['length_sep']\n",
    "width_sep_ver = iris_data[iris_data['species']=='versicolor']['width_sep']\n",
    "length_sep_vrg = iris_data[iris_data['species']=='virginica']['length_sep']\n",
    "width_sep_vrg = iris_data[iris_data['species']=='virginica']['width_sep']\n",
    "\n",
    "fig, axes = plt.subplots(1, 1)\n",
    "plt.scatter(length_sep_set, width_sep_set, color='k', label='setosa')\n",
    "plt.scatter(length_sep_ver, width_sep_ver, color='r', label='versicolor')\n",
    "plt.scatter(length_sep_vrg, width_sep_vrg, color='y', label='virginica')\n",
    "\n",
    "# plt.xticks(np.round_(bin_cuts, 1))\n",
    "plt.title('Sepal length vs. sepal width by species', fontsize=15)\n",
    "plt.xlabel(r'sepal length (mm)')\n",
    "plt.ylabel(r'sepal width (mm)')\n",
    "plt.legend(loc='upper right')"
   ]
  },
  {
   "cell_type": "markdown",
   "metadata": {},
   "source": [
    "We could plot four dimensions by doing a three dimensional scatter plot (sepal length, sepal width, and petal length) with colors for each species."
   ]
  },
  {
   "cell_type": "code",
   "execution_count": null,
   "metadata": {
    "collapsed": false
   },
   "outputs": [],
   "source": [
    "from mpl_toolkits.mplot3d import Axes3D\n",
    "\n",
    "length_sep_set = iris_data[iris_data['species']=='setosa']['length_sep']\n",
    "width_sep_set = iris_data[iris_data['species']=='setosa']['width_sep']\n",
    "length_pet_set = iris_data[iris_data['species']=='setosa']['length_pet']\n",
    "length_sep_ver = iris_data[iris_data['species']=='versicolor']['length_sep']\n",
    "width_sep_ver = iris_data[iris_data['species']=='versicolor']['width_sep']\n",
    "length_pet_ver = iris_data[iris_data['species']=='versicolor']['length_pet']\n",
    "length_sep_vrg = iris_data[iris_data['species']=='virginica']['length_sep']\n",
    "width_sep_vrg = iris_data[iris_data['species']=='virginica']['width_sep']\n",
    "length_pet_vrg = iris_data[iris_data['species']=='virginica']['length_pet']\n",
    "\n",
    "fig = plt.figure()\n",
    "ax = fig.add_subplot(111, projection ='3d')\n",
    "ax.scatter(length_sep_set, width_sep_set, length_pet_set,\n",
    "           color='k', label='setosa')\n",
    "ax.scatter(length_sep_ver, width_sep_ver, length_pet_ver,\n",
    "           color='r', label='versicolor')\n",
    "ax.scatter(length_sep_vrg, width_sep_vrg, length_pet_vrg,\n",
    "           color='y', label='virginica')\n",
    "\n",
    "# plt.xticks(np.round_(bin_cuts, 1))\n",
    "plt.title('Sepal length, sepal width, and petal length by species', fontsize=15)\n",
    "ax.set_xlabel(r'sepal length (mm)')\n",
    "ax.set_ylabel(r'sepal width (mm)')\n",
    "ax.set_zlabel(r'petal length (mm)')\n",
    "plt.legend(loc=6)"
   ]
  },
  {
   "cell_type": "markdown",
   "metadata": {},
   "source": [
    "One way to visualize all five dimensions of the Iris data is to use pairwise scatter plots. This method shows the scatterplot of each possible pair of variables. Pandas has a nice prepackaged graphical function that does this. Note in the figure below that there are only  6 unique scatter plots (either the lower triangle or the upper triangle)."
   ]
  },
  {
   "cell_type": "code",
   "execution_count": null,
   "metadata": {
    "collapsed": false
   },
   "outputs": [],
   "source": [
    "axes = pd.tools.plotting.scatter_matrix(iris_data, alpha=0.2)\n",
    "plt.tight_layout()  # adjust the spacing between the plots"
   ]
  },
  {
   "cell_type": "markdown",
   "metadata": {},
   "source": [
    "If we wanted to customize our figure, we would simply use matplotlib's `add_subplot()` command. This matrix of scatterplots allows us, in a restricted way, to look at more than three dimensions at a time."
   ]
  },
  {
   "cell_type": "code",
   "execution_count": null,
   "metadata": {
    "collapsed": false
   },
   "outputs": [],
   "source": [
    "fig = plt.figure()\n",
    "\n",
    "width_pet_set = iris_data[iris_data['species']=='setosa']['width_pet']\n",
    "width_pet_ver = iris_data[iris_data['species']=='versicolor']['width_pet']\n",
    "width_pet_vrg = iris_data[iris_data['species']=='virginica']['width_pet']\n",
    "\n",
    "ax1 = fig.add_subplot(3, 3, 1)\n",
    "ax4 = fig.add_subplot(3, 3, 4)\n",
    "ax5 = fig.add_subplot(3, 3, 5)\n",
    "ax7 = fig.add_subplot(3, 3, 7)\n",
    "ax8 = fig.add_subplot(3, 3, 8)\n",
    "ax9 = fig.add_subplot(3, 3, 9)\n",
    "\n",
    "ax1.scatter(length_sep_set, width_sep_set, color='k', label='setosa')\n",
    "ax1.scatter(length_sep_ver, width_sep_ver, color='r', label='versicolor')\n",
    "ax1.scatter(length_sep_vrg, width_sep_vrg, color='y', label='virginica')\n",
    "ax1.set_xlabel('sepal length (mm)')\n",
    "ax1.set_ylabel('sepal width (mm)')\n",
    "ax1.set_xticks([4, 5, 6, 7, 8])\n",
    "\n",
    "ax4.scatter(length_sep_set, length_pet_set, color='k', label='setosa')\n",
    "ax4.scatter(length_sep_ver, length_pet_ver, color='r', label='versicolor')\n",
    "ax4.scatter(length_sep_vrg, length_pet_vrg, color='y', label='virginica')\n",
    "ax4.set_xlabel('sepal length (mm)')\n",
    "ax4.set_ylabel('petal length (mm)')\n",
    "ax4.set_xticks([4, 5, 6, 7, 8])\n",
    "\n",
    "ax5.scatter(width_sep_set, length_pet_set, color='k', label='setosa')\n",
    "ax5.scatter(width_sep_ver, length_pet_ver, color='r', label='versicolor')\n",
    "ax5.scatter(width_sep_vrg, length_pet_vrg, color='y', label='virginica')\n",
    "ax5.set_xlabel('sepal width (mm)')\n",
    "ax5.set_ylabel('petal length (mm)')\n",
    "ax5.set_xticks([1, 2, 3, 4, 5])\n",
    "\n",
    "ax7.scatter(length_sep_set, width_pet_set, color='k', label='setosa')\n",
    "ax7.scatter(length_sep_ver, width_pet_ver, color='r', label='versicolor')\n",
    "ax7.scatter(length_sep_vrg, width_pet_vrg, color='y', label='virginica')\n",
    "ax7.set_xlabel('sepal length (mm)')\n",
    "ax7.set_ylabel('petal width (mm)')\n",
    "ax7.set_xticks([4, 5, 6, 7, 8])\n",
    "\n",
    "ax8.scatter(width_sep_set, width_pet_set, color='k', label='setosa')\n",
    "ax8.scatter(width_sep_ver, width_pet_ver, color='r', label='versicolor')\n",
    "ax8.scatter(width_sep_vrg, width_pet_vrg, color='y', label='virginica')\n",
    "ax8.set_xlabel('sepal width (mm)')\n",
    "ax8.set_ylabel('petal width (mm)')\n",
    "ax8.set_xticks([1, 2, 3, 4, 5])\n",
    "\n",
    "ax9.scatter(length_pet_set, width_pet_set, color='k', label='setosa')\n",
    "ax9.scatter(length_pet_ver, width_pet_ver, color='r', label='versicolor')\n",
    "ax9.scatter(length_pet_vrg, width_pet_vrg, color='y', label='virginica')\n",
    "ax9.set_xlabel('petal length (mm)')\n",
    "ax9.set_ylabel('petal width (mm)')\n",
    "\n",
    "plt.tight_layout()  # Adjust the spacing between the plots"
   ]
  },
  {
   "cell_type": "markdown",
   "metadata": {},
   "source": [
    "These pairwise scatter plots allow you to start to see how the multiple dimensions (more than three) might work together. The plot above shows 5 dimensions of the data."
   ]
  },
  {
   "cell_type": "markdown",
   "metadata": {},
   "source": [
    "*Linked brushing* or *painting* is the use of a pointing device such as a mouse to highlight certain markers in one plot and have them automatically also be highlighted in the other plots.\n",
    "* A python library that only works with Python 2.7 to 3.4 is the `mpld3` package. An example of a linked brushing pairwise system of scatter plots using the Iris data is [here](https://mpld3.github.io/examples/linked_brush.html).\n",
    "* A page showing Bokeh's capability for linked brushing is [here](http://bokeh.pydata.org/en/0.10.0/docs/user_guide/interaction.html)."
   ]
  },
  {
   "cell_type": "markdown",
   "metadata": {},
   "source": [
    "## 3. The line plot\n",
    "The two-way line plot is the staple for visualizing time series data. It is also an alternative to a scatterplot when there is a clear order to the points in the data. The line plot connects the points."
   ]
  },
  {
   "cell_type": "markdown",
   "metadata": {},
   "source": [
    "### 3.1. Line plot\n",
    "We did some examples of the line plot in the Section 0 on Python preliminaries. The `matplotlib.pyplot` package has a function `plot` for making two-way line plots. And you can stack them on top of each other in the same figure by simply calling one after another. "
   ]
  },
  {
   "cell_type": "code",
   "execution_count": null,
   "metadata": {
    "collapsed": false
   },
   "outputs": [],
   "source": [
    "fig, ax = plt.subplots()\n",
    "my_age = np.arange(3, 45)\n",
    "knees_hurt = 0.03 * np.arange(50) ** 2\n",
    "all_ages = np.arange(50)\n",
    "plt.plot(all_ages[4:46], my_age, marker='D', label='My age')\n",
    "plt.plot(all_ages, knees_hurt, marker='o',\n",
    "         label='How much my knees hurt')\n",
    "# for the minor ticks, use no labels; default NullFormatter\n",
    "minorLocator = MultipleLocator(1)\n",
    "ax.xaxis.set_minor_locator(minorLocator)\n",
    "plt.grid(b=True, which='major', color='0.65', linestyle='-')\n",
    "plt.title('My knee pain and my age', fontsize=20)\n",
    "plt.xlabel(r'Age')\n",
    "plt.ylabel(r'Pain units')\n",
    "plt.xlim([-1.0, 50])\n",
    "plt.ylim([-2.0, 80])\n",
    "plt.legend(loc='upper left')"
   ]
  },
  {
   "cell_type": "markdown",
   "metadata": {},
   "source": [
    "### 3.2. 3D surface plots vs. 2D level plots\n",
    "You can productively plot 3D surface visualizations in matplotlib. If you are working from the terminal on your computer or creating a D3 web manipulatable graphic, a 3D image is a productive summary of data. However, in print, a 3D image is often not ideal. If the image must remain static, level curves are often more instructive."
   ]
  },
  {
   "cell_type": "markdown",
   "metadata": {},
   "source": [
    "As we did with the 3D scatter plot, we will use matplotlib's `mpl_toolkits.mplot3d` toolkit. Read in as a NumPy array the `emat.csv` file. This 80 x 7 NumPy array contains relative estimates of hourly compensation by age (21 to 100) and income percentile (0-24%, 25-49%, 50-69%, 70-79%, 80-89%, 90-98%, 99-100%)"
   ]
  },
  {
   "cell_type": "code",
   "execution_count": null,
   "metadata": {
    "collapsed": false
   },
   "outputs": [],
   "source": [
    "emat = np.loadtxt('DataFiles/emat.csv', delimiter=',')\n",
    "emat"
   ]
  },
  {
   "cell_type": "code",
   "execution_count": null,
   "metadata": {
    "collapsed": false
   },
   "outputs": [],
   "source": [
    "import matplotlib\n",
    "from matplotlib import cm\n",
    "cmap1 = matplotlib.cm.get_cmap('summer')\n",
    "\n",
    "ages = np.arange(21, 101)\n",
    "abil_midp = np.array([12.5, 37.5, 60, 75, 85, 94, 99.5])\n",
    "abil_mesh, age_mesh = np.meshgrid(abil_midp, ages)\n",
    "\n",
    "fig = plt.figure()\n",
    "ax = fig.gca(projection='3d')\n",
    "ax.plot_surface(age_mesh, abil_mesh, emat, rstride=8,\n",
    "                cstride=1, cmap=cmap1)\n",
    "ax.set_xlabel(r'age-$s$')\n",
    "ax.set_ylabel(r'ability type -$j$')\n",
    "ax.set_zlabel(r'ability $e_{j,s}$')"
   ]
  },
  {
   "cell_type": "markdown",
   "metadata": {},
   "source": [
    "If we can't manipulate this graphic, then we might want to just plot the level curves."
   ]
  },
  {
   "cell_type": "code",
   "execution_count": null,
   "metadata": {
    "collapsed": false
   },
   "outputs": [],
   "source": [
    "abil_pcts = np.array([0.0, 0.25, 0.50, 0.70, 0.80, 0.90, 0.99, 1.0])\n",
    "J = 7\n",
    "\n",
    "fig = plt.figure()\n",
    "ax = plt.subplot(111)\n",
    "linestyles = np.array([\"-\", \"--\", \"-.\", \":\",])\n",
    "markers = np.array([\"x\", \"v\", \"o\", \"d\", \">\", \"|\"])\n",
    "pct_lb = 0\n",
    "for j in range(J):\n",
    "    this_label = (str(int(np.rint(pct_lb))) + \" - \" +\n",
    "        str(int(np.rint(pct_lb + 100*abil_pcts[j]))) + \"%\")\n",
    "    pct_lb += 100*abil_pcts[j]\n",
    "    if j <= 3:\n",
    "        ax.plot(ages, np.log(emat[:, j]), label=this_label,\n",
    "            linestyle=linestyles[j], color='black')\n",
    "    elif j > 3:\n",
    "        ax.plot(ages, np.log(emat[:, j]), label=this_label,\n",
    "            marker=markers[j-4], color='black')\n",
    "ax.axvline(x=80, color='black', linestyle='--')\n",
    "box = ax.get_position()\n",
    "ax.set_position([box.x0, box.y0, box.width * 0.8, box.height])\n",
    "ax.legend(loc='center left', bbox_to_anchor=(1, 0.5))\n",
    "ax.set_xlabel(r'age-$s$')\n",
    "ax.set_ylabel(r'log ability $log(e_{j,s})$')"
   ]
  },
  {
   "cell_type": "markdown",
   "metadata": {},
   "source": [
    "## 4. More than 3 dimensions"
   ]
  },
  {
   "cell_type": "markdown",
   "metadata": {},
   "source": [
    "### 4.1. Plotting a time component with dynamic graphics\n",
    "[Here](https://sites.google.com/site/evanjmagnusson/) is an example of a gif that a researcher made of the time series of a three-dimensional object. Python's `PIL` package has the functionality to do this (e.g., `from PIL import Image, ImageDraw`). See examples [here](http://stackoverflow.com/questions/13041893/generating-an-animated-gif-in-python) and [here](http://stackoverflow.com/questions/34126016/trying-to-create-a-gif-from-a-set-of-images)."
   ]
  },
  {
   "cell_type": "markdown",
   "metadata": {},
   "source": [
    "### 4.2. Brushing\n",
    "*Linked brushing* or *painting* is the use of a pointing device such as a mouse to highlight certain markers in one plot and have them automatically also be highlighted in the other plots.\n",
    "* A python library that only works with Python 2.7 to 3.4 is the `mpld3` package. An example of a linked brushing pairwise system of scatter plots using the Iris data is [here](https://mpld3.github.io/examples/linked_brush.html).\n",
    "* A page showing Bokeh's capability for linked brushing is [here](http://bokeh.pydata.org/en/0.10.0/docs/user_guide/interaction.html)."
   ]
  },
  {
   "cell_type": "markdown",
   "metadata": {},
   "source": [
    "### 4.3. Using glyphs\n",
    "Glyphs, or images with many characteristics, can be used as scatter plot markers in order to incorporate more than two dimensions of data. You can use marker color, marker length, marker shape, marker size to encapsulate more dimensions of the data. Below is a rich example.\n",
    "![title](Images/glyphexamp.png)"
   ]
  },
  {
   "cell_type": "markdown",
   "metadata": {},
   "source": [
    "### 4.4. Chernoff faces\n",
    "The Chernoff face is an interesting way to compare data visually in a way that simultaneously presents as many dimensions of the data as you want. Chernoff (1973) proposed using an image that associates different attributes of the image to variables in the data. For example, the size of the nose might represent the variable \"wind speed\", the color of the skin might represent \"temperature\", the openness of the eyes might represents \"time of day\", and the length of the hair might represent \"age\". The only limit to the dimensionality is how many characteristics you can put on the face. Also note that it is valuable that there be some intuitive association between the variable and the characteristic of the glyph. And, of course, the image could be anything besides a face."
   ]
  },
  {
   "cell_type": "markdown",
   "metadata": {},
   "source": [
    "![title](Images/ChernoffFaces.png)\n",
    "The above image represents data for lawyers' ratings of twelve judges. Each facial feature represents a dimension of the ratings. Because the features of the faces vary in perceived importance, the way in which variables are mapped to the features should be carefully chosen (e.g. eye size and eyebrow-slant have been found to carry significant weight)."
   ]
  },
  {
   "cell_type": "markdown",
   "metadata": {},
   "source": [
    "### 4.5. D3 javascript visualizations\n",
    "D3.js or D3 or Data Driven Documents is a Javascript library for producing dynamic, interactive data visualizations in web browsers. D3 graphics are the future of visualization. These techniques have not yet become mainstream among researchers. The features available in D3 visualizations include slider bars, toggle buttons, flyover info, and dynamic time advancement.\n",
    "\n",
    "The *New York Times* graphics and data department have been the best at producing D3 graphical representations. My favorit example is [this graphic](http://www.nytimes.com/interactive/2015/03/19/upshot/3d-yield-curve-economic-growth.html?_r=0) that shows the user the ins and outs of U.S., German, and Japanese yield curve data (interest rates across different maturities at different points in time).\n",
    "\n",
    "D3 visualizations allow us to use objects like slider bars to envision more than three dimensions of data at a time. The [Bokeh package](http://bokeh.pydata.org/en/latest/) is Python's library for D3 visualizations. Below is a screenshot of an example. This [*Wall Street Journal* article](http://blogs.wsj.com/economics/2016/08/18/why-its-so-hard-to-get-rid-of-tax-loopholes/) has an example that my group at the Open Source Policy Center built using Bokeh.\n",
    "![title](Images/BokehSlide.png)"
   ]
  },
  {
   "cell_type": "markdown",
   "metadata": {},
   "source": [
    "## References\n",
    "\n",
    "* Chernoff, H., \"The Use of Faces to Represent Points in $k$-dimensional Space Graphically,\" _Journal of the American Statistical Association_, 94, pp. 807-823 (1973).\n",
    "* McKinney, Wes, Python for Data Analysis, O'Reilly Media, Inc. (2013).\n",
    "* [Python labs](http://www.acme.byu.edu/?page_id=2067), Applied and Computational Mathematics Emphasis (ACME), Brigham Young University.\n",
    "* Scott, D.W., Gotto, A.M., Cole, J.S., and Gorry, G.A., \"Plasma Lipids as Collateral Risk Factors in Coronary Artery Disease: A Study of 371 Males with Chest Pain,\" *Journal of Chronic Diseases*, 31, pp. 337-345.\n",
    "* Scott, David W., *Multivariate Density Estimation: Theory, Practice, and Visualization*, 2nd edition, John Wiley & Sons, Inc. (2015)."
   ]
  }
 ],
 "metadata": {
  "anaconda-cloud": {},
  "kernelspec": {
   "display_name": "Python 3",
   "language": "python",
   "name": "python3"
  },
  "language_info": {
   "codemirror_mode": {
    "name": "ipython",
    "version": 3
   },
   "file_extension": ".py",
   "mimetype": "text/x-python",
   "name": "python",
   "nbconvert_exporter": "python",
   "pygments_lexer": "ipython3",
   "version": "3.6.0"
  }
 },
 "nbformat": 4,
 "nbformat_minor": 0
}
