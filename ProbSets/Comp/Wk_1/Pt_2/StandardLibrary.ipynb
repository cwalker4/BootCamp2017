{
 "cells": [
  {
   "cell_type": "markdown",
   "metadata": {},
   "source": [
    "Problem 1:"
   ]
  },
  {
   "cell_type": "code",
   "execution_count": 2,
   "metadata": {
    "collapsed": true
   },
   "outputs": [],
   "source": [
    "def summarize_list(my_list):\n",
    "    return [min(my_list), max(my_list), sum(my_list)/len(my_list)]"
   ]
  },
  {
   "cell_type": "code",
   "execution_count": 3,
   "metadata": {
    "collapsed": false
   },
   "outputs": [
    {
     "data": {
      "text/plain": [
       "[1, 10, 4.125]"
      ]
     },
     "execution_count": 3,
     "metadata": {},
     "output_type": "execute_result"
    }
   ],
   "source": [
    "min_max_avg_list([1, 2, 3, 4, 5, 6, 10, 2])"
   ]
  },
  {
   "cell_type": "markdown",
   "metadata": {},
   "source": [
    "Problem 2:"
   ]
  },
  {
   "cell_type": "markdown",
   "metadata": {},
   "source": [
    "Numbers, strings, and tuples are immutable; dictionaries and lists are mutable."
   ]
  },
  {
   "cell_type": "markdown",
   "metadata": {},
   "source": [
    "Problem 3:"
   ]
  },
  {
   "cell_type": "code",
   "execution_count": 4,
   "metadata": {
    "collapsed": false
   },
   "outputs": [],
   "source": [
    "import calculator as c\n",
    "\n",
    "def hypotenuse(a, b):\n",
    "    return c.sqr_rt(c.my_sum(c.product(a, a), c.product(b, b)))\n"
   ]
  },
  {
   "cell_type": "code",
   "execution_count": 5,
   "metadata": {
    "collapsed": false
   },
   "outputs": [
    {
     "data": {
      "text/plain": [
       "5.0"
      ]
     },
     "execution_count": 5,
     "metadata": {},
     "output_type": "execute_result"
    }
   ],
   "source": [
    "hypotenuse(3, 4)"
   ]
  },
  {
   "cell_type": "markdown",
   "metadata": {},
   "source": [
    "Problem 4:"
   ]
  },
  {
   "cell_type": "code",
   "execution_count": null,
   "metadata": {
    "collapsed": false
   },
   "outputs": [
    {
     "name": "stdout",
     "output_type": "stream",
     "text": [
      "What's your name?: Charlie\n",
      "Numbers left:  [1, 2, 3, 4, 5, 6, 7, 8, 9]\n",
      "Roll:  10\n",
      "Numbers to eliminate: 2 3 5\n",
      "Numbers left:  [1, 4, 6, 7, 8, 9]\n",
      "Roll:  6\n",
      "Numbers to eliminate: 6\n",
      "Numbers left:  [1, 4, 7, 8, 9]\n",
      "Roll:  9\n"
     ]
    }
   ],
   "source": [
    "import sys\n",
    "import random\n",
    "import box\n",
    "\n",
    "\n",
    "if len(sys.argv) == 1:\n",
    "    name = sys.argv[1]\n",
    "else:\n",
    "    name = input(\"What's your name?: \")\n",
    "\n",
    "numbers = list(range(1, 10))\n",
    "\n",
    "while True:\n",
    "    print(\"Numbers left: \", numbers)\n",
    "    \n",
    "    if sum(numbers) <= 6:\n",
    "        roll = random.randint(1, 6)\n",
    "    else:\n",
    "        roll1 = random.randint(1, 6)\n",
    "        roll2 = random.randint(1, 6)\n",
    "        roll = roll1 + roll2\n",
    "    print(\"Roll: \", roll)\n",
    "    \n",
    "    if not box.isvalid(roll, numbers):\n",
    "        print(\"Game over!\\nScore for player\", name, \": \", sum(numbers), \" points\")\n",
    "        break\n",
    "\n",
    "    \n",
    "    while True:\n",
    "        to_eliminate = box.parse_input(input(\"Numbers to eliminate: \"), numbers)\n",
    "        if len(to_eliminate) != 0 and sum(to_eliminate) == roll:\n",
    "            for x in to_eliminate:\n",
    "                numbers.remove(x)\n",
    "            break\n",
    "        else:\n",
    "            print(\"Invalid output\")\n",
    "            \n",
    "    \n",
    "    if len(numbers) == 0:\n",
    "        print (\"Score for player\", name, \":\", 0, \"points\"\n",
    "              \"Congratulations!! You shut the box!\")\n",
    "    "
   ]
  },
  {
   "cell_type": "code",
   "execution_count": null,
   "metadata": {
    "collapsed": true
   },
   "outputs": [],
   "source": []
  }
 ],
 "metadata": {
  "kernelspec": {
   "display_name": "Python 3",
   "language": "python",
   "name": "python3"
  },
  "language_info": {
   "codemirror_mode": {
    "name": "ipython",
    "version": 3
   },
   "file_extension": ".py",
   "mimetype": "text/x-python",
   "name": "python",
   "nbconvert_exporter": "python",
   "pygments_lexer": "ipython3",
   "version": "3.6.0"
  }
 },
 "nbformat": 4,
 "nbformat_minor": 2
}
