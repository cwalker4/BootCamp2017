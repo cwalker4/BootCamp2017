{
 "cells": [
  {
   "cell_type": "markdown",
   "metadata": {},
   "source": [
    "## Iterative Solvers Lab:"
   ]
  },
  {
   "cell_type": "markdown",
   "metadata": {},
   "source": [
    "### Problem 1:"
   ]
  },
  {
   "cell_type": "code",
   "execution_count": 234,
   "metadata": {
    "collapsed": true
   },
   "outputs": [],
   "source": [
    "import numpy.linalg as la\n",
    "import numpy as np\n",
    "import matplotlib.pyplot as plt\n",
    "from scipy import sparse"
   ]
  },
  {
   "cell_type": "code",
   "execution_count": 2,
   "metadata": {
    "collapsed": true
   },
   "outputs": [],
   "source": [
    "def jacobi_method(A, b, tol, maxiters):\n",
    "    D = np.diag(A)\n",
    "    U = np.triu(A)\n",
    "    np.fill_diagonal(U, 0)\n",
    "    L = np.tril(A)\n",
    "    np.fill_diagonal(L, 0)\n",
    "    \n",
    "    iters = 0\n",
    "    x = np.zeros(A.shape[0])\n",
    "    while iters < maxiters:\n",
    "        x_n = x + ((b - np.dot(A, x)) / D)\n",
    "        if max(abs(x_n - x)) < tol:\n",
    "            break\n",
    "        x = x_n\n",
    "    return x"
   ]
  },
  {
   "cell_type": "code",
   "execution_count": 5,
   "metadata": {
    "collapsed": true
   },
   "outputs": [],
   "source": [
    "def diag_dom(n, num_entries=None):\n",
    "    \n",
    "    if num_entries is None:\n",
    "        num_entries = int(n**1.5) - n\n",
    "    A = np.zeros((n,n))\n",
    "    rows = np.random.choice(np.arange(0,n), size=num_entries)\n",
    "    cols = np.random.choice(np.arange(0,n), size=num_entries)\n",
    "    data = np.random.randint(-4, 4, size=num_entries)\n",
    "    for i in range(num_entries):\n",
    "        A[rows[i], cols[i]] = data[i]\n",
    "    for i in range(n):\n",
    "        A[i,i] = np.sum(np.abs(A[i])) + 1\n",
    "    return A"
   ]
  },
  {
   "cell_type": "code",
   "execution_count": 4,
   "metadata": {
    "collapsed": false
   },
   "outputs": [
    {
     "name": "stdout",
     "output_type": "stream",
     "text": [
      "True\n"
     ]
    }
   ],
   "source": [
    "n = 10\n",
    "b = np.random.random(n)\n",
    "A = diag_dom(n)\n",
    "x = jacobi_method(A, b, 1e-5, 1e5)\n",
    "\n",
    "print(np.allclose(A@x, b, 1e-3))"
   ]
  },
  {
   "cell_type": "markdown",
   "metadata": {},
   "source": [
    "### Problem 2:"
   ]
  },
  {
   "cell_type": "code",
   "execution_count": 298,
   "metadata": {
    "collapsed": true
   },
   "outputs": [],
   "source": [
    "def jacobi_method_plt(A, b, tol, maxiters, plot=False):\n",
    "    D = np.diag(A)\n",
    "    U = np.triu(A)\n",
    "    np.fill_diagonal(U, 0)\n",
    "    L = np.tril(A)\n",
    "    np.fill_diagonal(L, 0)\n",
    "    \n",
    "    if plot:\n",
    "        errs = np.zeros(int(maxiters))\n",
    "    \n",
    "    iters = 0\n",
    "    x = np.zeros(A.shape[0])\n",
    "    while iters < maxiters:\n",
    "        x_n = x + ((b - np.dot(A, x)) / D)\n",
    "        err = max(abs(x_n - x))\n",
    "        if plot:\n",
    "            errs[iters] = err\n",
    "        if err < tol:\n",
    "            break\n",
    "        x = x_n\n",
    "        iters += 1\n",
    "        \n",
    "    if plot:\n",
    "        xvals = np.arange(0, iters)\n",
    "        plt.semilogy(xvals, errs[:iters])\n",
    "        plt.title(\"Convergence of Jacobi Method\")\n",
    "        plt.xlabel(\"Iteration\")\n",
    "        plt.ylabel(\"Absolute Error of Approximation\")\n",
    "        plt.show()\n",
    "        \n",
    "    return x"
   ]
  },
  {
   "cell_type": "code",
   "execution_count": 302,
   "metadata": {
    "collapsed": false
   },
   "outputs": [
    {
     "data": {
      "image/png": "[encoded data removed]",
      "text/plain": [
       "<matplotlib.figure.Figure at 0x107a8f438>"
      ]
     },
     "metadata": {},
     "output_type": "display_data"
    }
   ],
   "source": [
    "n = 20\n",
    "b = np.random.random(n)\n",
    "A = diag_dom(n)\n",
    "x = jacobi_method_plt(A, b, 1e-5, 1e6, True)"
   ]
  },
  {
   "cell_type": "markdown",
   "metadata": {},
   "source": [
    "### Problem 3:"
   ]
  },
  {
   "cell_type": "code",
   "execution_count": 303,
   "metadata": {
    "collapsed": false
   },
   "outputs": [],
   "source": [
    "def gauss_seidel_method(A, b, tol, maxiters, plot=False):\n",
    "    D = np.diag(A)\n",
    "    x = np.zeros(A.shape[0])\n",
    "    \n",
    "    if plot:\n",
    "        errs = np.zeros(maxiters)\n",
    "    \n",
    "    iters = 0\n",
    "    while iters < maxiters:\n",
    "        x0 = np.copy(x)\n",
    "        for i in range(A.shape[0]):\n",
    "            x0 = np.copy(x)\n",
    "            Aix = A[i,:].T @ x0\n",
    "            x[i] = x0[i] + ((b[i] - Aix) / D[i])\n",
    "        err = np.amax(np.absolute(x - x0))\n",
    "\n",
    "        if plot:\n",
    "            errs[iters] = err\n",
    "        if err < tol:\n",
    "            break\n",
    "        iters += 1\n",
    "    \n",
    "    if plot:\n",
    "        xvals = np.arange(0, iters)\n",
    "        plt.semilogy(xvals, errs[:iters])\n",
    "        plt.title(\"Convergence of Gauss Seidel Method\")\n",
    "        plt.xlabel(\"Iteration\")\n",
    "        plt.ylabel(\"Absolute Error of Approximation\")\n",
    "        plt.show() \n",
    "\n",
    "\n",
    "    return x"
   ]
  },
  {
   "cell_type": "code",
   "execution_count": 311,
   "metadata": {
    "collapsed": false
   },
   "outputs": [
    {
     "data": {
      "image/png": "[encoded data removed]",
      "text/plain": [
       "<matplotlib.figure.Figure at 0x10624d6a0>"
      ]
     },
     "metadata": {},
     "output_type": "display_data"
    },
    {
     "name": "stdout",
     "output_type": "stream",
     "text": [
      "[ 0.66617052  0.32360403  0.60816937 ...,  0.33131966  0.90296049\n",
      "  0.58707242]\n",
      "[ 0.66617059  0.32360432  0.60816983 ...,  0.33131966  0.90296049\n",
      "  0.58707242]\n"
     ]
    }
   ],
   "source": [
    "n = 2000\n",
    "b = np.random.random(n)\n",
    "A = diag_dom(n)\n",
    "x = gauss_seidel_method(A, b, 1e-8, 1000, True)\n",
    "\n",
    "print(A @ x)\n",
    "print(b)\n"
   ]
  },
  {
   "cell_type": "markdown",
   "metadata": {},
   "source": [
    "### Problem 4:"
   ]
  },
  {
   "cell_type": "code",
   "execution_count": 242,
   "metadata": {
    "collapsed": true
   },
   "outputs": [],
   "source": [
    "def gauss_seidel_sparse(A, b, tol, maxiters):\n",
    "    D = sparse.csr_matrix.diagonal(A)\n",
    "    x = np.zeros(A.shape[0])\n",
    "    \n",
    "    iters = 0\n",
    "    while iters < maxiters:\n",
    "        x0 = np.copy(x)\n",
    "        for i in range(A.shape[0]):\n",
    "            x0 = np.copy(x)\n",
    "            rowstart = A.indptr[i]\n",
    "            rowend = A.indptr[i + 1]\n",
    "            Aix = A.data[rowstart:rowend] @ x[A.indices[rowstart:rowend]]\n",
    "            x[i] = x0[i] + ((b[i] - Aix) / D[i])\n",
    "        err = np.amax(np.absolute(x - x0))\n",
    "        if err < tol:\n",
    "            break\n",
    "    \n",
    "    return x"
   ]
  },
  {
   "cell_type": "code",
   "execution_count": 294,
   "metadata": {
    "collapsed": false
   },
   "outputs": [
    {
     "name": "stdout",
     "output_type": "stream",
     "text": [
      "[ 0.95137337  0.10709735  0.35376798  0.18513008  0.35401211  0.83533982\n",
      "  0.08690127  0.16259713  0.70332111  0.19699887]\n",
      "[ 0.93967011  0.05096463  0.35376798  0.19293225  0.35401211  0.83533982\n",
      "  0.08690127  0.16259713  0.70332111  0.19699887]\n"
     ]
    }
   ],
   "source": [
    "n = 10\n",
    "b = np.random.random(n)\n",
    "A = sparse.csr_matrix(diag_dom(n))\n",
    "x = gauss_seidel_sparse(A, b, 1e-6, 1000)\n",
    "\n",
    "print(A @ x)\n",
    "print(b)"
   ]
  },
  {
   "cell_type": "markdown",
   "metadata": {},
   "source": [
    "### Problem 5:"
   ]
  },
  {
   "cell_type": "code",
   "execution_count": 308,
   "metadata": {
    "collapsed": false
   },
   "outputs": [],
   "source": [
    "def sor_method(A, b, omega, tol, maxiters):\n",
    "    D = sparse.csr_matrix.diagonal(A)\n",
    "    x = np.zeros(A.shape[0])\n",
    "    \n",
    "    iters = 0\n",
    "    while iters < maxiters:\n",
    "        x0 = np.copy(x)\n",
    "        for i in range(A.shape[0]):\n",
    "            x0 = np.copy(x)\n",
    "            rowstart = A.indptr[i]\n",
    "            rowend = A.indptr[i + 1]\n",
    "            Aix = A.data[rowstart:rowend] @ x[A.indices[rowstart:rowend]]\n",
    "            x[i] = x0[i] + (omega * (b[i] - Aix) / D[i])\n",
    "        err = np.amax(np.absolute(x - x0))\n",
    "        if err < tol:\n",
    "            break\n",
    "        iters += 1\n",
    "    \n",
    "    return x, iters"
   ]
  },
  {
   "cell_type": "markdown",
   "metadata": {},
   "source": [
    "### Problem 6:"
   ]
  },
  {
   "cell_type": "code",
   "execution_count": 327,
   "metadata": {
    "collapsed": true
   },
   "outputs": [],
   "source": [
    "import numpy as np\n",
    "\n",
    "def problem6(n, omega, tol = 1e-8, maxiters = 100, plot = False):\n",
    "    B = sparse.diags(np.ones(n)*-4) + sparse.diags(np.ones(n-1), -1) + sparse.diags(np.ones(n-1), 1)\n",
    "    diags = []\n",
    "    for i in range(n):\n",
    "        diags.append(B)\n",
    "    A = sparse.block_diag(diags)\n",
    "    A = A + sparse.diags(np.ones(n**2 - n), n) + sparse.diags(np.ones(n**2 - n), -(n))\n",
    "    b = np.zeros(n)\n",
    "    b[0] = -100\n",
    "    b[n-1] = -100\n",
    "    b = np.tile(b, n)\n",
    "    u = sor_method(A, b, omega, tol, maxiters) \n",
    "    \n",
    "    if plot == False:\n",
    "        return u, u[1] \n",
    "    \n",
    "    if plot == True:\n",
    "        umat = np.reshape(u[0],(n,n))\n",
    "        X = np.arange(1, n+1, 1) \n",
    "        Y = np.arange(1, n+1, 1)\n",
    "        xx, yy = np.meshgrid(X,Y)\n",
    "        plt.pcolormesh(xx, yy, umat, cmap = \"coolwarm\") #if this doesn't work, change xx and yy to X and Y\n",
    "        plt.title(\"Heatmap of Plate's Temperature in Steady State\")\n",
    "        plt.colorbar()\n",
    "        plt.show()\n",
    "        return u, u[1]"
   ]
  },
  {
   "cell_type": "code",
   "execution_count": 324,
   "metadata": {
    "collapsed": false
   },
   "outputs": [
    {
     "data": {
      "image/png": "[encoded data removed]",
      "text/plain": [
       "<matplotlib.figure.Figure at 0x10748ae10>"
      ]
     },
     "metadata": {},
     "output_type": "display_data"
    }
   ],
   "source": [
    "n = 10\n",
    "omega = 1\n",
    "problem6(n, omega, plot=True)"
   ]
  },
  {
   "cell_type": "markdown",
   "metadata": {},
   "source": [
    "### Problem 7:"
   ]
  },
  {
   "cell_type": "code",
   "execution_count": 336,
   "metadata": {
    "collapsed": true
   },
   "outputs": [],
   "source": [
    "def problem7():\n",
    "    omegavec = np.arange(1, 2, 0.05)\n",
    "    n = 20\n",
    "    itervec = np.zeros((len(omegavec),1))\n",
    "    for i in range(len(omegavec)):\n",
    "        itervec[i] = problem6(n, omegavec[i], tol = 1e-2, maxiters = 1000, plot = False)[1]\n",
    "    plt.plot(omegavec, itervec)\n",
    "    plt.xlabel(\"Omega\")\n",
    "    plt.ylabel(\"Number of Iterations\")\n",
    "    plt.title(\"Number of Iterations as a Function of Omega\")\n",
    "    plt.show()\n",
    "    \n",
    "    minindex = np.argmin(itervec)\n",
    "    return omegavec[minindex]"
   ]
  },
  {
   "cell_type": "code",
   "execution_count": 338,
   "metadata": {
    "collapsed": false
   },
   "outputs": [
    {
     "data": {
      "image/png": "[encoded data removed]",
      "text/plain": [
       "<matplotlib.figure.Figure at 0x1067ee2b0>"
      ]
     },
     "metadata": {},
     "output_type": "display_data"
    },
    {
     "name": "stdout",
     "output_type": "stream",
     "text": [
      "Minimizing index: 1.75\n"
     ]
    }
   ],
   "source": [
    "minindex = problem7()\n",
    "print(\"Minimizing index:\", minindex)"
   ]
  },
  {
   "cell_type": "code",
   "execution_count": null,
   "metadata": {
    "collapsed": true
   },
   "outputs": [],
   "source": []
  }
 ],
 "metadata": {
  "kernelspec": {
   "display_name": "Python 3",
   "language": "python",
   "name": "python3"
  },
  "language_info": {
   "codemirror_mode": {
    "name": "ipython",
    "version": 3
   },
   "file_extension": ".py",
   "mimetype": "text/x-python",
   "name": "python",
   "nbconvert_exporter": "python",
   "pygments_lexer": "ipython3",
   "version": "3.6.0"
  }
 },
 "nbformat": 4,
 "nbformat_minor": 2
}
