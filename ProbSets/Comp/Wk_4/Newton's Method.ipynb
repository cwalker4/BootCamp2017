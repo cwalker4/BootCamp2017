{
 "cells": [
  {
   "cell_type": "markdown",
   "metadata": {},
   "source": [
    "## Newton's Method Lab"
   ]
  },
  {
   "cell_type": "code",
   "execution_count": 2,
   "metadata": {
    "collapsed": true
   },
   "outputs": [],
   "source": [
    "from scipy import linalg as la\n",
    "from scipy import optimize\n",
    "import numpy as np\n",
    "from matplotlib import pyplot as plt\n",
    "import cmath\n",
    "import math\n",
    "from scipy.sparse import dok_matrix\n",
    "import sympy as sy\n",
    "from matplotlib import pyplot as plt\n",
    "from numba import jit\n",
    "from autograd import grad\n",
    "import autograd.numpy as anp\n",
    "from autograd import jacobian"
   ]
  },
  {
   "cell_type": "markdown",
   "metadata": {},
   "source": [
    "### Problem 1:"
   ]
  },
  {
   "cell_type": "code",
   "execution_count": 3,
   "metadata": {
    "collapsed": false
   },
   "outputs": [
    {
     "name": "stdout",
     "output_type": "stream",
     "text": [
      "0\n",
      "1.5\n",
      "1\n",
      "1.3472222222222223\n",
      "2\n",
      "1.3171376938034396\n",
      "3\n",
      "1.3160753007540056\n",
      "4\n",
      "1.3160740129543826\n",
      "The Value = 1.3160740129543826\n",
      "end\n",
      "True\n"
     ]
    }
   ],
   "source": [
    "f = lambda x : x**4 - 3\n",
    "f_prime = lambda x : 4*x**3\n",
    "\n",
    "def Newton(f, f_prime, x0, N, tol = 1e-5):\n",
    "    for i in range(N):\n",
    "        print(i)\n",
    "        x1 = x0 - (f(x0)/f_prime(x0))\n",
    "        print(x1)\n",
    "        if la.norm(x1 - x0) < tol:\n",
    "            print(\"The Value =\", x1)\n",
    "            print(\"end\")\n",
    "            return x1\n",
    "        else:\n",
    "            x0 = x1\n",
    "\n",
    "x1 = Newton(f, f_prime, 1, 10000, 1e-5)\n",
    "optimize.newton(f, 1)\n",
    "\n",
    "print (np.allclose(x1, optimize.newton(f, 1)))"
   ]
  },
  {
   "cell_type": "markdown",
   "metadata": {},
   "source": [
    "### Problem 2:"
   ]
  },
  {
   "cell_type": "code",
   "execution_count": 4,
   "metadata": {
    "collapsed": false
   },
   "outputs": [
    {
     "name": "stdout",
     "output_type": "stream",
     "text": [
      "The Value = [ 0.03877843]\n",
      "end\n",
      "[ 0.03877843]\n"
     ]
    }
   ],
   "source": [
    "def Newton_jacob(f, f_prime, x0, N, tol = 1e-5):\n",
    "    for i in range(N):\n",
    "        x1 = x0 - (f(x0)/jacobian_r_fn(x0)[0,0])\n",
    "        if la.norm(x1 - x0) < tol:\n",
    "            print(\"The Value =\", x1)\n",
    "            print(\"end\")\n",
    "            return x1\n",
    "        else:\n",
    "            x0 = x1\n",
    "            \n",
    "N1 = 30\n",
    "N2 = 20\n",
    "P1 = 2000\n",
    "P2 = 8000\n",
    "\n",
    "r0 = anp.array([.11])\n",
    "r_fn = lambda r : anp.array([P2*(1 - (1 + r[0])**(-N2)) - P1*((1+r[0])**N1 - 1)])\n",
    "jacobian_r_fn = jacobian(r_fn)\n",
    "\n",
    "print(Newton_jacob(r_fn, jacobian_r_fn, r0, 10000, 1e-10))"
   ]
  },
  {
   "cell_type": "markdown",
   "metadata": {},
   "source": [
    "### Problem 3:"
   ]
  },
  {
   "cell_type": "code",
   "execution_count": 5,
   "metadata": {
    "collapsed": false
   },
   "outputs": [
    {
     "name": "stdout",
     "output_type": "stream",
     "text": [
      "\n",
      "\n",
      " -- Problem 3 --\n",
      "\n",
      "False\n",
      "False\n",
      "The Value = -6.51346510752e-12\n",
      "end\n",
      "-6.51346510752e-12\n"
     ]
    }
   ],
   "source": [
    "print(\"\\n\\n -- Problem 3 --\\n\")\n",
    "\n",
    "f2 = lambda x : x**(1/3)\n",
    "f2_prime = lambda x : (1/3) * x ** (-2/3)\n",
    "\n",
    "\n",
    "f_modified = lambda x: np.sign(x) * np.power(np.abs(x), 1/3) \n",
    "f_modified_prime_plus = lambda x : np.cos(x) * np.power(np.abs(x), 1/3) \\\n",
    "                         + np.sign(x) * (1/3) * np.power(np.abs(x), -2/3)\n",
    "f_modified_prime_minus = lambda x : np.cos(x) * np.power(np.abs(x), 1/3) \\\n",
    "                         - np.sign(x) * (1/3) * np.power(np.abs(x), -2/3)\n",
    "\n",
    "\n",
    "f_2prime = lambda x : 12*x**2\n",
    "\n",
    "def Modified_Newton(f, f_modified_prime_plus, f_modified_prime_minus, x0, N, tol = 1e-5, alpha = 1):\n",
    "    for i in range(N):\n",
    "        if x0 >= 0:\n",
    "            x1 = x0 - alpha * (f_modified(x0)/f_modified_prime_plus(x0))\n",
    "        else:\n",
    "            x1 = x0 - alpha * (f_modified(x0)/f_modified_prime_minus(x0))\n",
    "        \n",
    "        if abs(x1 - x0) < tol:\n",
    "            print(\"The Value =\", x1)\n",
    "            print(\"end\")\n",
    "            return x1\n",
    "        elif i == N - 1:\n",
    "            return False\n",
    "        else:\n",
    "            x0 = x1  \n",
    "\n",
    "# could not find converged value.\n",
    "print(Modified_Newton(f2, f2_prime, f2_prime,  -1 ,10000, 1e-10, 0.1))\n",
    "\n",
    "# when alpha = 1, it fails\n",
    "print(Modified_Newton(f_modified, f_modified_prime_plus, f_modified_prime_minus, 0.01 ,10000, 1e-10, 1))\n",
    "\n",
    "# when alpha = 0.4, it converges.\n",
    "print(Modified_Newton(f_modified, f_modified_prime_plus, f_modified_prime_minus, 0.01 ,10000, 1e-10, 0.4))"
   ]
  },
  {
   "cell_type": "markdown",
   "metadata": {},
   "source": [
    "### Problem 4:"
   ]
  },
  {
   "cell_type": "code",
   "execution_count": 6,
   "metadata": {
    "collapsed": false
   },
   "outputs": [
    {
     "ename": "ValueError",
     "evalue": "cannot compute fingerprint of empty list",
     "output_type": "error",
     "traceback": [
      "\u001b[0;31m---------------------------------------------------------------------------\u001b[0m",
      "\u001b[0;31mValueError\u001b[0m                                Traceback (most recent call last)",
      "\u001b[0;32m<ipython-input-6-41fe70dc2079>\u001b[0m in \u001b[0;36m<module>\u001b[0;34m()\u001b[0m\n\u001b[1;32m     23\u001b[0m     \u001b[0;32mreturn\u001b[0m \u001b[0malpha\u001b[0m\u001b[0;34m,\u001b[0m \u001b[0miteration\u001b[0m\u001b[0;34m\u001b[0m\u001b[0m\n\u001b[1;32m     24\u001b[0m \u001b[0;34m\u001b[0m\u001b[0m\n\u001b[0;32m---> 25\u001b[0;31m \u001b[0malpha\u001b[0m\u001b[0;34m,\u001b[0m \u001b[0miteration\u001b[0m \u001b[0;34m=\u001b[0m \u001b[0malpha_plot\u001b[0m\u001b[0;34m(\u001b[0m\u001b[0mf_modified\u001b[0m\u001b[0;34m,\u001b[0m \u001b[0mf_modified_prime_plus\u001b[0m\u001b[0;34m,\u001b[0m \u001b[0mf_modified_prime_minus\u001b[0m\u001b[0;34m)\u001b[0m\u001b[0;34m\u001b[0m\u001b[0m\n\u001b[0m\u001b[1;32m     26\u001b[0m \u001b[0mplt\u001b[0m\u001b[0;34m.\u001b[0m\u001b[0mplot\u001b[0m\u001b[0;34m(\u001b[0m\u001b[0malpha\u001b[0m\u001b[0;34m,\u001b[0m \u001b[0miteration\u001b[0m\u001b[0;34m)\u001b[0m\u001b[0;34m\u001b[0m\u001b[0m\n\u001b[1;32m     27\u001b[0m \u001b[0mplt\u001b[0m\u001b[0;34m.\u001b[0m\u001b[0mylim\u001b[0m\u001b[0;34m(\u001b[0m\u001b[0;36m0\u001b[0m\u001b[0;34m,\u001b[0m\u001b[0;36m100\u001b[0m\u001b[0;34m)\u001b[0m\u001b[0;34m\u001b[0m\u001b[0m\n",
      "\u001b[0;31mValueError\u001b[0m: cannot compute fingerprint of empty list"
     ]
    }
   ],
   "source": [
    "def Modified_Newton(f_modified, f_modified_prime_plus, f_modified_prime_minus, x0, N, tol = 1e-5, alpha = 1):\n",
    "    for i in range(N):\n",
    "        if x0 >= 0:\n",
    "            x1 = x0 - alpha * (f_modified(x0)/f_modified_prime_plus(x0))\n",
    "        else:\n",
    "            x1 = x0 - alpha * (f_modified(x0)/f_modified_prime_minus(x0))\n",
    "        \n",
    "        if abs(x1 - x0) < tol:\n",
    "            return x1, i\n",
    "        elif i == N - 1:\n",
    "            return False, np.inf\n",
    "        else:\n",
    "            x0 = x1  \n",
    "\n",
    "@jit\n",
    "def alpha_plot(f_modified, f_modified_prime_plus, f_modified_prime_minus):\n",
    "    iteration = []\n",
    "    alpha = []\n",
    "    for i in range(1000):\n",
    "        alpha.append(i/1000)\n",
    "        x1, j = Modified_Newton(f_modified, f_modified_prime_plus, f_modified_prime_minus, 0.01, 1000, 1e-5, alpha[i])\n",
    "        iteration.append(j)\n",
    "    return alpha, iteration\n",
    "        \n",
    "alpha, iteration = alpha_plot(f_modified, f_modified_prime_plus, f_modified_prime_minus)\n",
    "plt.plot(alpha, iteration)\n",
    "plt.ylim(0,100)\n",
    "plt.show()"
   ]
  },
  {
   "cell_type": "markdown",
   "metadata": {},
   "source": [
    "### Problem 5:"
   ]
  },
  {
   "cell_type": "code",
   "execution_count": null,
   "metadata": {
    "collapsed": true
   },
   "outputs": [],
   "source": [
    "def Modified_Newton_n_dim(f_modified, f_modified_prime_plus, f_modified_prime_minus, x0, N, tol = 1e-5, alpha = 1):\n",
    "\n",
    "    Df =  np.zeros((np.size(x0), np.size(x0)))\n",
    "    for i in range(N):\n",
    "        if np.isscalar(x0):\n",
    "            if x0 >= 0:\n",
    "                x1 = x0 - alpha * (f_modified(x0)/f_modified_prime_plus(x0))\n",
    "            else:\n",
    "                x1 = x0 - alpha * (f_modified(x0)/f_modified_prime_minus(x0))\n",
    "        \n",
    "            if abs(x1 - x0) < tol:\n",
    "                return x1\n",
    "            elif i == N - 1:\n",
    "                return False\n",
    "            else:\n",
    "                x0 = x1\n",
    "              \n",
    "        else:\n",
    "            yk = la.solve(jacobian_f(x0), f_modified(x0))\n",
    "            x1 = x0 - alpha * yk\n",
    "            if la.norm(x1 - x0) < tol:\n",
    "                return x1\n",
    "            elif i == N - 1:\n",
    "                return False\n",
    "            else:\n",
    "                x0 = x1            \n",
    "\n",
    "x0 =  anp.array([-0.25, 0.0005005])              \n",
    "f = lambda x: anp.array([x[0]**2, x[0]+x[1] - 2])\n",
    "jacobian_f = jacobian(f)\n",
    "\n",
    "print(Modified_Newton_n_dim(f, jacobian_f, jacobian_f, x0, 10000, 1e-5, 0.5))\n",
    "print(Modified_Newton_n_dim(f_modified, f_modified_prime_plus, f_modified_prime_minus, 1, 10000, 1e-5, 0.5))"
   ]
  },
  {
   "cell_type": "markdown",
   "metadata": {},
   "source": [
    "### Problem 6:"
   ]
  },
  {
   "cell_type": "code",
   "execution_count": null,
   "metadata": {
    "collapsed": true
   },
   "outputs": [],
   "source": [
    "x0 =  anp.array([-0.25, 0.0005005])              \n",
    "f = lambda x: anp.array( [5*x[0]*x[1] - x[0]*(1+x[1]), -1*x[0]*x[1] + (1-x[1])*(1+x[1]) ])\n",
    "jacobian_f = jacobian(f)\n",
    "\n",
    "print(Modified_Newton_n_dim(f, jacobian_f, jacobian_f, x0, 10000, 1e-5, 1))\n",
    "\n",
    "\n",
    "print(\"\\n\\n -- Problem 6 -- -2 \\n\")\n",
    "x0 =  anp.array([-0.0000311, 0.0005005])              \n",
    "f = lambda x: anp.array( [5*x[0]*x[1] - x[0]*(1+x[1]), -1*x[0]*x[1] + (1-x[1])*(1+x[1]) ])\n",
    "jacobian_f = jacobian(f)\n",
    "\n",
    "print(Modified_Newton_n_dim(f, jacobian_f, jacobian_f, x0, 10000, 1e-5, 1))\n",
    "\n",
    "\n",
    "print(\"\\n\\n -- Problem 6 -- -3 \\n\")\n",
    "x0 =  anp.array([-0.04411, 0.24445])              \n",
    "f = lambda x: anp.array( [5*x[0]*x[1] - x[0]*(1+x[1]), -1*x[0]*x[1] + (1-x[1])*(1+x[1]) ])\n",
    "jacobian_f = jacobian(f)\n",
    "\n",
    "print(Modified_Newton_n_dim(f, jacobian_f, jacobian_f, x0, 10000, 1e-5, 0.55))"
   ]
  },
  {
   "cell_type": "markdown",
   "metadata": {},
   "source": [
    "### Problem 7:"
   ]
  },
  {
   "cell_type": "code",
   "execution_count": null,
   "metadata": {
    "collapsed": true
   },
   "outputs": [],
   "source": [
    "def Newton_for_mesh_grid(f, f_prime, x0, N, tol = 1e-5):\n",
    "    for i in range(N):\n",
    "        x1 = x0 - (f(x0)/f_prime(x0))\n",
    "        if la.norm(x1 - x0) < tol:\n",
    "            print(\"The Value =\", x1)\n",
    "            print(\"end\")\n",
    "            return x1\n",
    "        else:\n",
    "            x0 = x1\n",
    "            \n",
    "def problem7(f, Df, r_min, r_max, i_min, i_max, rec, iters, tol):\n",
    "    x_real = np.linspace(r_min, r_max, rec) # Real parts.\n",
    "    x_imag = np.linspace(i_min, i_max, rec) # Imaginary parts.\n",
    "    X_real, X_imag = np.meshgrid(x_real, x_imag)\n",
    "    X_0 = X_real + 1j*X_imag # Combine real and imaginary parts.\n",
    "    \n",
    "\n",
    "    X_1 = X_0 - f(X_0)/Df(X_0)\n",
    "\n",
    "    Result = Newton_for_mesh_grid(f, Df, X_0, iters, tol)\n",
    "    Result_round = np.round(Result, 8) \n",
    "    y = np.unique(Result_round)\n",
    "    howmanyroots = len(y)\n",
    "    \n",
    "    Y = np.zeros((rec, rec))\n",
    "    for j in range(rec):\n",
    "        for k in range(rec):\n",
    "            Y[j, k]  = np.where(y == Result_round[j, k])[0]\n",
    "\n",
    "    plt.pcolormesh(x_real, x_imag, Y, cmap=\"brg\")\n",
    "    plt.show()\n",
    "    \n",
    "f7 = lambda x: x**3 - 1\n",
    "Df7 = lambda x: 3*x**2\n",
    "\n",
    "problem7(f7, Df7, -1.5, 1.5, -1.5, 1.5, 500, 10000, 1e-10)\n",
    "\n",
    "f7_2 = lambda x: x**3 - x\n",
    "Df7_2 = lambda x: 3*x**2 - 1\n",
    "\n",
    "problem7(f7_2, Df7_2, -1.5, 1.5, -1.5, 1.5, 500, 10000, 1e-10)\n"
   ]
  }
 ],
 "metadata": {
  "kernelspec": {
   "display_name": "Python 3",
   "language": "python",
   "name": "python3"
  },
  "language_info": {
   "codemirror_mode": {
    "name": "ipython",
    "version": 3
   },
   "file_extension": ".py",
   "mimetype": "text/x-python",
   "name": "python",
   "nbconvert_exporter": "python",
   "pygments_lexer": "ipython3",
   "version": "3.6.0"
  }
 },
 "nbformat": 4,
 "nbformat_minor": 2
}
