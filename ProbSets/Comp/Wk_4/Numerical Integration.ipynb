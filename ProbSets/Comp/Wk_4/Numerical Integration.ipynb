{
 "cells": [
  {
   "cell_type": "markdown",
   "metadata": {},
   "source": [
    "## Numerical Integration"
   ]
  },
  {
   "cell_type": "markdown",
   "metadata": {},
   "source": [
    "### Problem 1:"
   ]
  },
  {
   "cell_type": "code",
   "execution_count": 96,
   "metadata": {
    "collapsed": true
   },
   "outputs": [],
   "source": [
    "import sympy as sy\n",
    "\n",
    "def newton_cotes(g, a, b, N, method):\n",
    "    sum_elem = 0\n",
    "    \n",
    "    if method == 'midpoint':\n",
    "        s = (b - a) / N\n",
    "        f = lambda i: a + ((2*i + 1)*(b - a)) / (2*N)\n",
    "        for i in range(N):\n",
    "            sum_elem += g(f(i))\n",
    "        return s * sum_elem\n",
    "    \n",
    "    if method == 'trapezoid':\n",
    "        s = (b - a) / (2*N)\n",
    "        f = lambda i: a + (i*(b - a)) / N\n",
    "        for i in range(N):\n",
    "            x = f(i)\n",
    "            sum_elem += g(x)\n",
    "        return s * (g(f(0)) + 2*sum_elem + g(f(N)))\n",
    "    \n",
    "    if method == 'Simpsons':\n",
    "        s = (b - a) / (3*(N + 1))\n",
    "        f = lambda i: a + (i*(b - a) / (2*N))\n",
    "        sum_elem2 = 0\n",
    "        for i in range(1,2*N):\n",
    "            x = f(i)\n",
    "            if (i % 2) == 1:\n",
    "                sum_elem2 += g(x)\n",
    "            else: \n",
    "                sum_elem += g(x)\n",
    "        return s * (g(f(0)) + 4*sum_elem + 2*sum_elem2 + g(f(2*N)))\n",
    "    \n",
    "    "
   ]
  },
  {
   "cell_type": "code",
   "execution_count": 97,
   "metadata": {
    "collapsed": false
   },
   "outputs": [
    {
     "name": "stdout",
     "output_type": "stream",
     "text": [
      "True value: 4,373.33 \n",
      "Midpoint method: 2653.7448559670765 \n",
      "Trapezoid method: 23391.27572016461 \n",
      "Simpsons method: 4841.481481481481\n"
     ]
    }
   ],
   "source": [
    "x = sy.symbols('x')\n",
    "g = sy.lambdify(x, 0.1*(x**4) - 1.5*(x**3) + 2*x + 1)\n",
    "\n",
    "mid = newton_cotes(g, -10, 10, 3, 'midpoint')\n",
    "trap = newton_cotes(g, -10, 10, 3, 'trapezoid')\n",
    "simps = newton_cotes(g, -10, 10, 3, 'Simpsons')\n",
    "\n",
    "print(\"True value: 4,373.33\",\n",
    "      \"\\nMidpoint method:\", mid,\n",
    "      \"\\nTrapezoid method:\", trap,\n",
    "      \"\\nSimpsons method:\", simps)\n"
   ]
  },
  {
   "cell_type": "markdown",
   "metadata": {},
   "source": [
    "### Problem 2:"
   ]
  },
  {
   "cell_type": "code",
   "execution_count": 107,
   "metadata": {
    "collapsed": false
   },
   "outputs": [],
   "source": [
    "import scipy as sp\n",
    "import numpy as np\n",
    "from scipy.stats import norm\n",
    "\n",
    "def approx_normal(mu, sigma, N, k, z=None):\n",
    "    w = np.zeros(N)\n",
    "    z = np.linspace(-k, k, N)\n",
    "        \n",
    "    for i in range(N):\n",
    "        if i == 0:\n",
    "            arg = (z[i] + z[i+1]) / 2\n",
    "            w[i] = sp.stats.norm.cdf(arg, mu, sigma)\n",
    "        elif i == N-1:\n",
    "            arg = (z[i-1] + z[i]) / 2\n",
    "            w[i] = 1 - sp.stats.norm.cdf(arg, mu, sigma)\n",
    "        else:\n",
    "            zmin = (z[i-1] + z[i]) / 2\n",
    "            zmax = (z[i] + z[i + 1]) / 2\n",
    "            w[i] = sp.stats.norm.cdf(zmax) - sp.stats.norm.cdf(zmin)\n",
    "    \n",
    "    return z, w"
   ]
  },
  {
   "cell_type": "code",
   "execution_count": 108,
   "metadata": {
    "collapsed": false
   },
   "outputs": [
    {
     "data": {
      "image/png": "[encoded data removed]",
      "text/plain": [
       "<matplotlib.figure.Figure at 0x10b01cb70>"
      ]
     },
     "metadata": {},
     "output_type": "display_data"
    }
   ],
   "source": [
    "import matplotlib.pyplot as plt\n",
    "\n",
    "nodes, weights = approx_normal(0, 1, 20, 4)\n",
    "plt.plot(nodes, weights)\n",
    "plt.title(\"Approximate Standard Normal with N=20\")\n",
    "plt.show()"
   ]
  },
  {
   "cell_type": "markdown",
   "metadata": {},
   "source": [
    "### Problem 3:"
   ]
  },
  {
   "cell_type": "code",
   "execution_count": 116,
   "metadata": {
    "collapsed": true
   },
   "outputs": [],
   "source": [
    "def approx_lnorm(mu, sigma, N, k):\n",
    "    nodes, weights = approx_normal(mu, sigma, N, k)\n",
    "    \n",
    "    return np.exp(nodes), weights"
   ]
  },
  {
   "cell_type": "code",
   "execution_count": 121,
   "metadata": {
    "collapsed": false
   },
   "outputs": [],
   "source": [
    "nodes, weights = approx_lnorm(0, 1, 11, 4)"
   ]
  },
  {
   "cell_type": "markdown",
   "metadata": {},
   "source": [
    "### Problem 4:"
   ]
  },
  {
   "cell_type": "code",
   "execution_count": null,
   "metadata": {
    "collapsed": true
   },
   "outputs": [],
   "source": []
  },
  {
   "cell_type": "markdown",
   "metadata": {},
   "source": [
    "### Problem 5:"
   ]
  },
  {
   "cell_type": "code",
   "execution_count": 130,
   "metadata": {
    "collapsed": true
   },
   "outputs": [],
   "source": [
    "import math\n",
    "\n",
    "def quad_approx(x):\n",
    "    x_quad = np.array([0, math.sqrt(15)/5, -math.sqrt(15)/5])\n",
    "    w = np.array([8/9, 5/9, 5/9])\n",
    "    \n",
    "    g = lambda x: 0.1*(x**4) - 1.5*(x**3) + 2*x + 1\n",
    "    \n",
    "    result = 0\n",
    "    for i in range(3):\n",
    "        result += w[i]*g(x_quad[i])\n",
    "    \n",
    "    return result"
   ]
  },
  {
   "cell_type": "markdown",
   "metadata": {},
   "source": [
    "### Problem 6:"
   ]
  },
  {
   "cell_type": "code",
   "execution_count": 135,
   "metadata": {
    "collapsed": true
   },
   "outputs": [],
   "source": [
    "def prob_6():\n",
    "    f = lambda x: 0.1*(x**4) - 1.5*(x**3) + 2*x + 1\n",
    "    \n",
    "    result = sp.integrate.quad(f, -10, 10)\n",
    "    print(result)"
   ]
  },
  {
   "cell_type": "code",
   "execution_count": 136,
   "metadata": {
    "collapsed": false
   },
   "outputs": [
    {
     "name": "stdout",
     "output_type": "stream",
     "text": [
      "(4020.0, 8.107255062006482e-11)\n"
     ]
    }
   ],
   "source": [
    "prob_6()"
   ]
  },
  {
   "cell_type": "markdown",
   "metadata": {},
   "source": [
    "### Problem 7:"
   ]
  },
  {
   "cell_type": "code",
   "execution_count": 214,
   "metadata": {
    "collapsed": false
   },
   "outputs": [
    {
     "ename": "KeyboardInterrupt",
     "evalue": "",
     "output_type": "error",
     "traceback": [
      "\u001b[0;31m---------------------------------------------------------------------------\u001b[0m",
      "\u001b[0;31mKeyboardInterrupt\u001b[0m                         Traceback (most recent call last)",
      "\u001b[0;32m<ipython-input-214-2fcf335e424f>\u001b[0m in \u001b[0;36m<module>\u001b[0;34m()\u001b[0m\n\u001b[1;32m     22\u001b[0m \u001b[0mdelta\u001b[0m \u001b[0;34m=\u001b[0m \u001b[0;36m5\u001b[0m\u001b[0;34m\u001b[0m\u001b[0m\n\u001b[1;32m     23\u001b[0m \u001b[0;32mwhile\u001b[0m \u001b[0;34m(\u001b[0m\u001b[0mdelta\u001b[0m \u001b[0;34m!=\u001b[0m \u001b[0;36m0\u001b[0m\u001b[0;34m)\u001b[0m\u001b[0;34m:\u001b[0m\u001b[0;34m\u001b[0m\u001b[0m\n\u001b[0;32m---> 24\u001b[0;31m     \u001b[0mestimate\u001b[0m \u001b[0;34m=\u001b[0m \u001b[0mmontecarlo\u001b[0m\u001b[0;34m(\u001b[0m\u001b[0mg1\u001b[0m\u001b[0;34m,\u001b[0m \u001b[0momega\u001b[0m\u001b[0;34m,\u001b[0m \u001b[0mn\u001b[0m\u001b[0;34m)\u001b[0m\u001b[0;34m\u001b[0m\u001b[0m\n\u001b[0m\u001b[1;32m     25\u001b[0m     \u001b[0mdelta\u001b[0m \u001b[0;34m=\u001b[0m \u001b[0mround\u001b[0m\u001b[0;34m(\u001b[0m\u001b[0mestimate\u001b[0m\u001b[0;34m,\u001b[0m \u001b[0;36m5\u001b[0m\u001b[0;34m)\u001b[0m \u001b[0;34m-\u001b[0m \u001b[0;36m3.1415\u001b[0m\u001b[0;34m\u001b[0m\u001b[0m\n\u001b[1;32m     26\u001b[0m     \u001b[0mn\u001b[0m \u001b[0;34m=\u001b[0m \u001b[0mn\u001b[0m \u001b[0;34m+\u001b[0m \u001b[0;36m1\u001b[0m\u001b[0;34m\u001b[0m\u001b[0m\n",
      "\u001b[0;32m<ipython-input-214-2fcf335e424f>\u001b[0m in \u001b[0;36mmontecarlo\u001b[0;34m(g, omega, N)\u001b[0m\n\u001b[1;32m     13\u001b[0m     \u001b[0msummed\u001b[0m \u001b[0;34m=\u001b[0m \u001b[0;36m0\u001b[0m\u001b[0;34m\u001b[0m\u001b[0m\n\u001b[1;32m     14\u001b[0m     \u001b[0;32mfor\u001b[0m \u001b[0mi\u001b[0m \u001b[0;32min\u001b[0m \u001b[0mrange\u001b[0m\u001b[0;34m(\u001b[0m\u001b[0mN\u001b[0m\u001b[0;34m)\u001b[0m\u001b[0;34m:\u001b[0m\u001b[0;34m\u001b[0m\u001b[0m\n\u001b[0;32m---> 15\u001b[0;31m         \u001b[0msummed\u001b[0m \u001b[0;34m=\u001b[0m \u001b[0msummed\u001b[0m \u001b[0;34m+\u001b[0m \u001b[0mg\u001b[0m\u001b[0;34m(\u001b[0m\u001b[0mxy\u001b[0m\u001b[0;34m[\u001b[0m\u001b[0mi\u001b[0m\u001b[0;34m,\u001b[0m\u001b[0;36m0\u001b[0m\u001b[0;34m]\u001b[0m\u001b[0;34m,\u001b[0m \u001b[0mxy\u001b[0m\u001b[0;34m[\u001b[0m\u001b[0mi\u001b[0m\u001b[0;34m,\u001b[0m\u001b[0;36m1\u001b[0m\u001b[0;34m]\u001b[0m\u001b[0;34m)\u001b[0m\u001b[0;34m\u001b[0m\u001b[0m\n\u001b[0m\u001b[1;32m     16\u001b[0m \u001b[0;34m\u001b[0m\u001b[0m\n\u001b[1;32m     17\u001b[0m     \u001b[0mpi\u001b[0m \u001b[0;34m=\u001b[0m \u001b[0;34m(\u001b[0m\u001b[0;36m4\u001b[0m\u001b[0;34m/\u001b[0m\u001b[0mN\u001b[0m\u001b[0;34m)\u001b[0m\u001b[0;34m*\u001b[0m\u001b[0msummed\u001b[0m\u001b[0;34m\u001b[0m\u001b[0m\n",
      "\u001b[0;32m<ipython-input-214-2fcf335e424f>\u001b[0m in \u001b[0;36mg1\u001b[0;34m(x1, y1)\u001b[0m\n\u001b[1;32m      1\u001b[0m \u001b[0;32mdef\u001b[0m \u001b[0mg1\u001b[0m\u001b[0;34m(\u001b[0m\u001b[0mx1\u001b[0m\u001b[0;34m,\u001b[0m\u001b[0my1\u001b[0m\u001b[0;34m)\u001b[0m\u001b[0;34m:\u001b[0m\u001b[0;34m\u001b[0m\u001b[0m\n\u001b[0;32m----> 2\u001b[0;31m     \u001b[0;32mif\u001b[0m \u001b[0;34m(\u001b[0m\u001b[0;34m(\u001b[0m\u001b[0mx1\u001b[0m\u001b[0;34m**\u001b[0m\u001b[0;36m2\u001b[0m\u001b[0;34m)\u001b[0m \u001b[0;34m+\u001b[0m \u001b[0;34m(\u001b[0m\u001b[0my1\u001b[0m\u001b[0;34m**\u001b[0m\u001b[0;36m2\u001b[0m\u001b[0;34m)\u001b[0m \u001b[0;34m<=\u001b[0m \u001b[0;36m1\u001b[0m\u001b[0;34m)\u001b[0m\u001b[0;34m:\u001b[0m\u001b[0;34m\u001b[0m\u001b[0m\n\u001b[0m\u001b[1;32m      3\u001b[0m         \u001b[0;32mreturn\u001b[0m \u001b[0;36m1\u001b[0m\u001b[0;34m\u001b[0m\u001b[0m\n\u001b[1;32m      4\u001b[0m     \u001b[0;32melse\u001b[0m\u001b[0;34m:\u001b[0m\u001b[0;34m\u001b[0m\u001b[0m\n\u001b[1;32m      5\u001b[0m         \u001b[0;32mreturn\u001b[0m \u001b[0;36m0\u001b[0m\u001b[0;34m\u001b[0m\u001b[0m\n",
      "\u001b[0;31mKeyboardInterrupt\u001b[0m: "
     ]
    }
   ],
   "source": [
    "def g1(x1,y1):\n",
    "    if ((x1**2) + (y1**2) <= 1):\n",
    "        return 1\n",
    "    else:\n",
    "        return 0\n",
    "\n",
    "omega = np.array([-1,1])\n",
    "def montecarlo(g, omega, N):\n",
    "    a = omega[0]\n",
    "    b = omega[1]\n",
    "    \n",
    "    xy = np.random.rand(N,2)*(b-a) - 1\n",
    "    summed = 0\n",
    "    for i in range(N):\n",
    "        summed = summed + g(xy[i,0], xy[i,1])\n",
    "        \n",
    "    pi = (4/N)*summed\n",
    "    \n",
    "    return pi\n",
    "\n",
    "n = 1000\n",
    "delta = 5\n",
    "while (delta != 0):\n",
    "    estimate = montecarlo(g1, omega, n)\n",
    "    delta = round(estimate, 5) - 3.1415\n",
    "    n = n + 1\n",
    "print(estimate)\n",
    "print(\"Smallest number of draws: \", n)"
   ]
  },
  {
   "cell_type": "code",
   "execution_count": 169,
   "metadata": {
    "collapsed": false
   },
   "outputs": [],
   "source": []
  },
  {
   "cell_type": "markdown",
   "metadata": {},
   "source": [
    "### Problem 8:"
   ]
  },
  {
   "cell_type": "code",
   "execution_count": 211,
   "metadata": {
    "collapsed": true
   },
   "outputs": [],
   "source": [
    "from sympy import sieve\n",
    "\n",
    "#todo: fix me\n",
    "\n",
    "def prob_8(n, d, method):\n",
    "    p_n = sieve[n]\n",
    "    \n",
    "    result = np.zeros(d)\n",
    "    \n",
    "    if method == 'Weyl':\n",
    "        for i in range(d):\n",
    "            result[i] = n*sieve[i]**(0.5)\n",
    "        return result % 1\n",
    "    \n",
    "    if method == 'Haber':\n",
    "        for i in range(d):\n",
    "            result[i] = (sieve[i]**0.5) * (n*(n+1)) / 2\n",
    "        return result % 1\n",
    "    \n",
    "    if method == 'Niederreiter':\n",
    "        for i in range(d):\n",
    "            result[i] = n* (2**(1 / (n + 1)))\n",
    "        return result % 1\n",
    "    \n",
    "    '''\n",
    "    if method == 'Baker':\n",
    "        for i in range(d):\n",
    "    '''\n",
    "        \n",
    "    "
   ]
  },
  {
   "cell_type": "code",
   "execution_count": 213,
   "metadata": {
    "collapsed": false
   },
   "outputs": [
    {
     "data": {
      "text/plain": [
       "array([ 0.47184906,  0.3137085 ,  0.85640646,  0.88854382,  0.16601049,\n",
       "        0.53299832,  0.8444102 ,  0.984845  ,  0.87119155,  0.36665219,\n",
       "        0.08131846,  0.5421149 ,  0.66210024,  0.2249939 ,  0.45950819,\n",
       "        0.8452368 ,  0.24087911,  0.44916598,  0.48199741])"
      ]
     },
     "execution_count": 213,
     "metadata": {},
     "output_type": "execute_result"
    }
   ],
   "source": [
    "prob_8(8, 19, 'Weyl')"
   ]
  },
  {
   "cell_type": "markdown",
   "metadata": {},
   "source": [
    "### Problem 9:"
   ]
  },
  {
   "cell_type": "code",
   "execution_count": null,
   "metadata": {
    "collapsed": true
   },
   "outputs": [],
   "source": [
    "def approx_pi_mc(g, omega, N):\n",
    "    "
   ]
  }
 ],
 "metadata": {
  "kernelspec": {
   "display_name": "Python 3",
   "language": "python",
   "name": "python3"
  },
  "language_info": {
   "codemirror_mode": {
    "name": "ipython",
    "version": 3
   },
   "file_extension": ".py",
   "mimetype": "text/x-python",
   "name": "python",
   "nbconvert_exporter": "python",
   "pygments_lexer": "ipython3",
   "version": "3.6.0"
  }
 },
 "nbformat": 4,
 "nbformat_minor": 2
}
