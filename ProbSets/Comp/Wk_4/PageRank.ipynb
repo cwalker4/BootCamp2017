{
 "cells": [
  {
   "cell_type": "markdown",
   "metadata": {},
   "source": [
    "## PageRank Lab"
   ]
  },
  {
   "cell_type": "markdown",
   "metadata": {},
   "source": [
    "### Problem 1:"
   ]
  },
  {
   "cell_type": "code",
   "execution_count": 108,
   "metadata": {
    "collapsed": false
   },
   "outputs": [],
   "source": [
    "import numpy as np\n",
    "from scipy import linalg as la\n",
    "\n",
    "def get_A():\n",
    "    A = np.zeros((8,8))\n",
    "    with open('matrix.txt', 'r') as myfile:\n",
    "        for line in myfile:\n",
    "            line = line.strip().split()\n",
    "            try:\n",
    "                line = list(map(int, line))\n",
    "                n_in = line[0]\n",
    "                n_out = line[1]\n",
    "                A[n_in, n_out] =  1\n",
    "            except:\n",
    "                continue\n",
    "    return A"
   ]
  },
  {
   "cell_type": "code",
   "execution_count": 109,
   "metadata": {
    "collapsed": false
   },
   "outputs": [
    {
     "data": {
      "text/plain": [
       "array([[ 0.,  0.,  0.,  0.,  0.,  0.,  0.,  1.],\n",
       "       [ 1.,  0.,  0.,  0.,  0.,  0.,  0.,  0.],\n",
       "       [ 0.,  0.,  0.,  0.,  0.,  0.,  0.,  0.],\n",
       "       [ 1.,  0.,  1.,  0.,  0.,  0.,  1.,  0.],\n",
       "       [ 1.,  0.,  0.,  0.,  0.,  1.,  1.,  0.],\n",
       "       [ 1.,  0.,  0.,  0.,  0.,  0.,  1.,  0.],\n",
       "       [ 1.,  0.,  0.,  0.,  0.,  0.,  0.,  0.],\n",
       "       [ 1.,  0.,  0.,  0.,  0.,  0.,  0.,  0.]])"
      ]
     },
     "execution_count": 109,
     "metadata": {},
     "output_type": "execute_result"
    }
   ],
   "source": [
    "get_A()"
   ]
  },
  {
   "cell_type": "markdown",
   "metadata": {},
   "source": [
    "### Problem 2:"
   ]
  },
  {
   "cell_type": "code",
   "execution_count": 214,
   "metadata": {
    "collapsed": false
   },
   "outputs": [],
   "source": [
    "def get_K(A):\n",
    "    # make modified adjacency matrix\n",
    "    r_sum = np.sum(A, axis=1)\n",
    "    Am = np.copy(A)\n",
    "    N = np.shape(Am)[0]\n",
    "    for i in range(N):\n",
    "        if r_sum[i] == 0:\n",
    "            Am[i,:] = 1\n",
    "\n",
    "    # make diagonal matrix\n",
    "    D = np.zeros(N)\n",
    "    r_sum = np.sum(Am, axis=1)\n",
    "    for i in range(N):\n",
    "        D[i] = r_sum[i]\n",
    "\n",
    "    # compute K with array broadcasting\n",
    "    K = np.zeros_like(A)\n",
    "    for i in range(N):\n",
    "        if D[i] != 0:\n",
    "            K = Am / D[:,None]\n",
    "            K = K.T\n",
    "\n",
    "    return K"
   ]
  },
  {
   "cell_type": "markdown",
   "metadata": {},
   "source": [
    "### Problem 3:"
   ]
  },
  {
   "cell_type": "code",
   "execution_count": 230,
   "metadata": {
    "collapsed": false
   },
   "outputs": [],
   "source": [
    "def get_SS(A, N=None, d=0.85, tol=1e-5):\n",
    "    if N != None:\n",
    "        A = A[:N,:N]\n",
    "    else: \n",
    "        N = np.shape(A)[0]\n",
    "    K = get_K(A)\n",
    "    p = np.random.rand(N)\n",
    "    while True:\n",
    "        p_next = d * (K @ p) + ((1 - d) / N) * np.ones(N)\n",
    "        if np.allclose(p_next, p, tol):\n",
    "            break\n",
    "        p = p_next\n",
    "    \n",
    "    return p\n",
    "#    print(p)"
   ]
  },
  {
   "cell_type": "code",
   "execution_count": 231,
   "metadata": {
    "collapsed": false
   },
   "outputs": [
    {
     "data": {
      "text/plain": [
       "array([ 0.43870075,  0.02171029,  0.02786154,  0.02171029,  0.02171029,\n",
       "        0.02786154,  0.04585394,  0.39460421])"
      ]
     },
     "execution_count": 231,
     "metadata": {},
     "output_type": "execute_result"
    }
   ],
   "source": [
    "get_SS(get_A())"
   ]
  },
  {
   "cell_type": "markdown",
   "metadata": {},
   "source": [
    "### Problem 4:"
   ]
  },
  {
   "cell_type": "code",
   "execution_count": 232,
   "metadata": {
    "collapsed": true
   },
   "outputs": [],
   "source": [
    "def get_SS_ev(A, N=None, d=0.85):\n",
    "    if N != None:\n",
    "        A = A[:N,:N]\n",
    "    else:\n",
    "        N = np.shape(A)[0]\n",
    "    K = get_K(A)\n",
    "    B = d * K + ((1 - d) / N) * np.ones(N)\n",
    "    eigs = la.eig(B)\n",
    "    evals = eigs[0]\n",
    "    evecs = eigs[1]\n",
    "    \n",
    "    return evecs[:,0] / sum(evecs[:,0])"
   ]
  },
  {
   "cell_type": "code",
   "execution_count": 233,
   "metadata": {
    "collapsed": false
   },
   "outputs": [
    {
     "data": {
      "text/plain": [
       "array([ 0.43869288,  0.02171029,  0.02786154,  0.02171029,  0.02171029,\n",
       "        0.02786154,  0.04585394,  0.39459924])"
      ]
     },
     "execution_count": 233,
     "metadata": {},
     "output_type": "execute_result"
    }
   ],
   "source": [
    "get_SS_ev(get_A())"
   ]
  },
  {
   "cell_type": "markdown",
   "metadata": {},
   "source": [
    "### Problem 5:"
   ]
  },
  {
   "cell_type": "code",
   "execution_count": 260,
   "metadata": {
    "collapsed": false
   },
   "outputs": [],
   "source": [
    "def rank_bball():\n",
    "    teams = set()\n",
    "    with open('ncaa2013.csv', 'r') as ncaafile:\n",
    "        ncaafile.readline() # skip first line\n",
    "        for line in ncaafile:\n",
    "            match = line.strip().split(',')\n",
    "            teams.add(match[0])\n",
    "            teams.add(match[1])\n",
    "    \n",
    "    teams = np.array(list(teams))\n",
    "    N = np.size(teams)\n",
    "    A = np.zeros((N,N))\n",
    "    index_dict = dict(enumerate(teams))\n",
    "    index_dict = {v: k for k, v in index_dict.items()}\n",
    "    \n",
    "    A = np.zeros((N,N))\n",
    "    with open('ncaa2013.csv', 'r') as ncaafile:\n",
    "        ncaafile.readline()\n",
    "        for line in ncaafile:\n",
    "            match = line.strip().split(',')\n",
    "            winner = index_dict[match[0]]\n",
    "            loser = index_dict[match[1]]\n",
    "            A[loser, winner] = 1\n",
    "      \n",
    "    rank = get_SS(A, d=0.7)\n",
    "    rank_sort = np.argsort(rank)\n",
    "    teams_sort = teams[rank_sort[::-1]]\n",
    "    print(\"The top five teams are:\", teams_sort[:5])\n",
    "        "
   ]
  },
  {
   "cell_type": "code",
   "execution_count": 261,
   "metadata": {
    "collapsed": false
   },
   "outputs": [
    {
     "name": "stdout",
     "output_type": "stream",
     "text": [
      "The top five teams are: ['Duke' 'Butler' 'Louisville' 'Illinois' 'Indiana']\n"
     ]
    }
   ],
   "source": [
    "rank_bball()"
   ]
  },
  {
   "cell_type": "code",
   "execution_count": null,
   "metadata": {
    "collapsed": true
   },
   "outputs": [],
   "source": []
  }
 ],
 "metadata": {
  "kernelspec": {
   "display_name": "Python 3",
   "language": "python",
   "name": "python3"
  },
  "language_info": {
   "codemirror_mode": {
    "name": "ipython",
    "version": 3
   },
   "file_extension": ".py",
   "mimetype": "text/x-python",
   "name": "python",
   "nbconvert_exporter": "python",
   "pygments_lexer": "ipython3",
   "version": "3.6.0"
  }
 },
 "nbformat": 4,
 "nbformat_minor": 2
}
