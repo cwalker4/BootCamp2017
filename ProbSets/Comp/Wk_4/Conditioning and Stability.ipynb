{
 "cells": [
  {
   "cell_type": "markdown",
   "metadata": {},
   "source": [
    "## Conditioning and Stability Lab:"
   ]
  },
  {
   "cell_type": "markdown",
   "metadata": {},
   "source": [
    "### Problem 1:"
   ]
  },
  {
   "cell_type": "code",
   "execution_count": 5,
   "metadata": {
    "collapsed": true
   },
   "outputs": [],
   "source": [
    "import numpy as np\n",
    "from scipy import linalg as la\n",
    "\n",
    "def compute_condition(A):\n",
    "    svd_vals = la.svdvals(A)\n",
    "    if min(svd_vals) == 0:\n",
    "        return np.inf\n",
    "    else:\n",
    "        return max(svd_vals) / min(svd_vals)\n"
   ]
  },
  {
   "cell_type": "code",
   "execution_count": 22,
   "metadata": {
    "collapsed": false
   },
   "outputs": [
    {
     "name": "stdout",
     "output_type": "stream",
     "text": [
      "True\n",
      "True\n",
      "True\n"
     ]
    }
   ],
   "source": [
    "A = np.random.rand(4,4)\n",
    "print(compute_condition(A) == np.linalg.cond(A))\n",
    "\n",
    "A_ortho = la.qr(A)[0]\n",
    "print(int(compute_condition(A_ortho)) == 1)\n",
    "\n",
    "A_sing = np.array([[1, 0],\n",
    "                   [1, 0]])\n",
    "print(compute_condition(A_sing) == np.inf)"
   ]
  },
  {
   "cell_type": "markdown",
   "metadata": {},
   "source": [
    "### Problem 2:"
   ]
  },
  {
   "cell_type": "code",
   "execution_count": 64,
   "metadata": {
    "collapsed": true
   },
   "outputs": [],
   "source": [
    "import sympy as sy\n",
    "from matplotlib import pyplot as plt\n",
    "\n",
    "def poly_experiment():\n",
    "    w_roots = np.arange(1, 21)\n",
    "    x, i = sy.symbols('x i')\n",
    "    w = sy.poly_from_expr(sy.product(x-i, (i, 1, 20)))[0]\n",
    "    w_coeffs = np.array(w.all_coeffs())\n",
    "    \n",
    "    orig_roots = np.roots(np.poly1d(w_coeffs))\n",
    "    plt.plot(orig_roots.real, orig_roots.imag, '.', color='blue', ms=10)\n",
    "    \n",
    "    for i in range(100):\n",
    "        r = np.random.normal(1, 1e-10, 21)\n",
    "        new_coeffs = w_coeffs * r\n",
    "        new_roots = np.roots(np.poly1d(new_coeffs))\n",
    "        plt.plot(new_roots.real, new_roots.imag, ',', color='black')\n",
    "    \n",
    "    plt.xlabel('Real Axis')\n",
    "    plt.ylabel('Imaginary Axis')\n",
    "    plt.ylim([-6,6])\n",
    "    plt.xlim([0,25])\n",
    "    plt.show()"
   ]
  },
  {
   "cell_type": "code",
   "execution_count": 65,
   "metadata": {
    "collapsed": false
   },
   "outputs": [
    {
     "data": {
      "image/png": "[encoded data removed]",
      "text/plain": [
       "<matplotlib.figure.Figure at 0x115521ba8>"
      ]
     },
     "metadata": {},
     "output_type": "display_data"
    }
   ],
   "source": [
    "poly_experiment()"
   ]
  },
  {
   "cell_type": "markdown",
   "metadata": {},
   "source": [
    "### Problem 3:"
   ]
  },
  {
   "cell_type": "code",
   "execution_count": 68,
   "metadata": {
    "collapsed": true
   },
   "outputs": [],
   "source": [
    "def eigenvalue_condition(A):\n",
    "    reals = np.random.normal(0, 1e-10, A.shape)\n",
    "    imags = np.random.normal(0, 1e-10, A.shape)\n",
    "    H = reals + 1j*imags\n",
    "    \n",
    "    A_eigs = la.eigvals(A)\n",
    "    AH_eigs = la.eigvals(A + H)\n",
    "    \n",
    "    abs_cond = la.norm(A_eigs - AH_eigs) / la.norm(H)\n",
    "    rel_cond = (la.norm(A) / la.norm(A_eigs)) * abs_cond\n",
    "    \n",
    "    return abs_cond, rel_cond"
   ]
  },
  {
   "cell_type": "markdown",
   "metadata": {},
   "source": [
    "### Problem 4:"
   ]
  },
  {
   "cell_type": "code",
   "execution_count": 144,
   "metadata": {
    "collapsed": true
   },
   "outputs": [],
   "source": [
    "# TODO: Fix me!\n",
    "\n",
    "def plot_conditions(bounds, res):\n",
    "    xmin, xmax, ymin, ymax = bounds\n",
    "    A = np.array([[1, ]])\n",
    "    \n",
    "    x = np.linspace(xmin, xmax, res)\n",
    "    y = np.linspace(ymin, ymax, res)\n",
    "    X, Y = np.meshgrid(x, y)\n",
    "    Z = np.zeros((res,res))\n",
    "    \n",
    "    for i in range(res):\n",
    "        for j in range(res):\n",
    "            Z[i,j] = eigenvalue_condition(np.array([[1,x[i]],[y[i],i]]))[1]\n",
    "    \n",
    "    plt.pcolormesh(X, Y, Z, cmap='gray_r')\n",
    "    plt.colorbar()\n",
    "    plt.show()\n",
    "    \n",
    "    "
   ]
  },
  {
   "cell_type": "code",
   "execution_count": 90,
   "metadata": {
    "collapsed": false
   },
   "outputs": [
    {
     "data": {
      "image/png": "[encoded data removed]",
      "text/plain": [
       "<matplotlib.figure.Figure at 0x1158518d0>"
      ]
     },
     "metadata": {},
     "output_type": "display_data"
    }
   ],
   "source": [
    "plot_conditions([-100, 100, -100, 100], 200)"
   ]
  },
  {
   "cell_type": "code",
   "execution_count": 117,
   "metadata": {
    "collapsed": true
   },
   "outputs": [],
   "source": [
    "def problem_5(n):\n",
    "    xk, yk = np.load(\"stability_data.npy\").T\n",
    "    A = np.vander(xk, n+1)\n",
    "    \n",
    "    coeffs_normal = la.inv(A.T @ A) @ A.T @ yk\n",
    "    \n",
    "    Q, R = la.qr(A, mode='economic')\n",
    "    coeffs_qr = la.solve_triangular(R, Q.T @ yk)\n",
    "    \n",
    "    err_normal = la.norm(A @ coeffs_normal - yk)\n",
    "    err_qr = la.norm(A @ coeffs_qr - yk)\n",
    "    \n",
    "    y_normal = np.polyval(coeffs_normal, xk)\n",
    "    y_qr = np.polyval(coeffs_qr, xk)\n",
    "    \n",
    "    plt.plot(xk, yk, '*', color='black', ms=2)\n",
    "    plt.plot(xk, y_normal, label=\"Normal Equations\")\n",
    "    plt.plot(xk, y_qr, label=\"QR Solver\")\n",
    "    plt.xlim([0,1])\n",
    "    plt.ylim([0,25])\n",
    "    plt.legend()\n",
    "    plt.show()\n",
    "    \n",
    "    return err_normal, err_qr"
   ]
  },
  {
   "cell_type": "code",
   "execution_count": 130,
   "metadata": {
    "collapsed": false
   },
   "outputs": [
    {
     "data": {
      "image/png": "[encoded data removed]",
      "text/plain": [
       "<matplotlib.figure.Figure at 0x10f5497f0>"
      ]
     },
     "metadata": {},
     "output_type": "display_data"
    },
    {
     "data": {
      "text/plain": [
       "(157.8548096433658, 4.527556161403399)"
      ]
     },
     "execution_count": 130,
     "metadata": {},
     "output_type": "execute_result"
    }
   ],
   "source": [
    "problem_5(15)"
   ]
  },
  {
   "cell_type": "markdown",
   "metadata": {},
   "source": [
    "### Problem 6:"
   ]
  },
  {
   "cell_type": "code",
   "execution_count": 143,
   "metadata": {
    "collapsed": false
   },
   "outputs": [
    {
     "data": {
      "image/png": "[encoded data removed]",
      "text/plain": [
       "<matplotlib.figure.Figure at 0x1157bb6a0>"
      ]
     },
     "metadata": {},
     "output_type": "display_data"
    }
   ],
   "source": [
    "import math\n",
    "from mpmath import *\n",
    "\n",
    "def subfac(n):\n",
    "    result = 0\n",
    "    nfac = math.factorial(n)\n",
    "    for k in range(n):\n",
    "        result += (-1 ** k) / math.factorial(k)\n",
    "    return result * nfac\n",
    "\n",
    "x = sy.Symbol('x')\n",
    "\n",
    "int_results = np.zeros(10)\n",
    "i = 0\n",
    "for n in np.arange(5, 51, 5):\n",
    "    int_results[i] = sy.integrate(x**int(n) * sy.exp(x - 1), (x, 0, 1))\n",
    "    i += 1\n",
    "\n",
    "\n",
    "func_results = np.zeros(10)\n",
    "i = 0\n",
    "for n in np.arange(5, 51, 5):\n",
    "    func_results[i] = ((-1 ** int(n)) * sy.subfactorial(int(n)) + \n",
    "                       (-1 ** int(n + 1)) * (sy.factorial(n) / mp.e))\n",
    "    i += 1\n",
    "\n",
    "err = abs(func_results - int_results)\n",
    "plt.semilogy(range(5,51,5), err)\n",
    "plt.show()\n",
    "    \n",
    "\n"
   ]
  },
  {
   "cell_type": "code",
   "execution_count": null,
   "metadata": {
    "collapsed": true
   },
   "outputs": [],
   "source": []
  },
  {
   "cell_type": "code",
   "execution_count": null,
   "metadata": {
    "collapsed": true
   },
   "outputs": [],
   "source": []
  }
 ],
 "metadata": {
  "kernelspec": {
   "display_name": "Python 3",
   "language": "python",
   "name": "python3"
  },
  "language_info": {
   "codemirror_mode": {
    "name": "ipython",
    "version": 3
   },
   "file_extension": ".py",
   "mimetype": "text/x-python",
   "name": "python",
   "nbconvert_exporter": "python",
   "pygments_lexer": "ipython3",
   "version": "3.6.0"
  }
 },
 "nbformat": 4,
 "nbformat_minor": 2
}
