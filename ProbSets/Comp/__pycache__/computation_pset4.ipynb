{
 "cells": [
  {
   "cell_type": "markdown",
   "metadata": {},
   "source": [
    "# Page Rank"
   ]
  },
  {
   "cell_type": "code",
   "execution_count": 89,
   "metadata": {},
   "outputs": [
    {
     "name": "stdout",
     "output_type": "stream",
     "text": [
      "nodescopy ['0', '1', '2', '3', '4', '5', '6', '7']\n",
      "adj [['0' '7']\n",
      " ['1' '0']\n",
      " ['3' '0']\n",
      " ['3' '2']\n",
      " ['3' '6']\n",
      " ['4' '0']\n",
      " ['4' '5']\n",
      " ['4' '6']\n",
      " ['5' '0']\n",
      " ['5' '6']\n",
      " ['6' '0']\n",
      " ['7' '0']]\n",
      "[[ True  True  True  True  True  True  True  True]\n",
      " [ True  True  True  True  True  True  True  True]\n",
      " [ True  True  True  True  True  True  True  True]\n",
      " [ True  True  True  True  True  True  True  True]\n",
      " [ True  True  True  True  True  True  True  True]\n",
      " [ True  True  True  True  True  True  True  True]\n",
      " [ True  True  True  True  True  True  True  True]\n",
      " [ True  True  True  True  True  True  True  True]]\n"
     ]
    }
   ],
   "source": [
    "import numpy as np\n",
    "import sympy as sp\n",
    "from scipy.sparse import dok_matrix\n",
    "from numpy import linalg as la\n",
    "\n",
    "#PAGERANK Problem 1\n",
    "\n",
    "def AMAT(name, N):\n",
    "    with open(name, 'r') as myfile:\n",
    "        nodes = []\n",
    "        for line in myfile.readlines()[1:]:\n",
    "            for node in line.strip().split():\n",
    "                nodes.append(node)\n",
    "    m = int(len(nodes)/2)\n",
    "\n",
    "    nodescopy = sorted(list(set([node.rstrip(\"\\n\") for node in nodes])))\n",
    "    print(\"nodescopy\",nodescopy)\n",
    "    adj = np.asarray([node.rstrip(\"\\n\") for node in nodes]).reshape(m,2)\n",
    "    print(\"adj\",adj)\n",
    "    A = dok_matrix((N,N))\n",
    "    for row in adj:\n",
    "        i = nodescopy.index(row[0])\n",
    "        j = nodescopy.index(row[1])\n",
    "        A[i,j] = A[i,j] + 1\n",
    "        \n",
    "    return A\n",
    "\n",
    " \n",
    "A = np.array([[ 0,  0,  0,  0,  0,  0,  0,  1],\n",
    "          [ 1,  0,  0,  0,  0,  0,  0,  0],\n",
    "          [ 0,  0,  0,  0,  0,  0,  0,  0],\n",
    "          [ 1,  0,  1,  0,  0,  0,  1,  0],\n",
    "          [ 1,  0,  0,  0,  0,  1,  1,  0],\n",
    "          [ 1,  0,  0,  0,  0,  0,  1,  0],\n",
    "          [ 1,  0,  0,  0,  0,  0,  0,  0],\n",
    "          [ 1,  0,  0,  0,  0,  0,  0,  0]])\n",
    "print(AMAT(\"matrix.txt\", 8) == A)"
   ]
  },
  {
   "cell_type": "code",
   "execution_count": 90,
   "metadata": {},
   "outputs": [
    {
     "name": "stdout",
     "output_type": "stream",
     "text": [
      "[[ 0.          1.          0.125       0.33333333  0.33333333  0.5         1.\n",
      "   1.        ]\n",
      " [ 0.          0.          0.125       0.          0.          0.          0.\n",
      "   0.        ]\n",
      " [ 0.          0.          0.125       0.33333333  0.          0.          0.\n",
      "   0.        ]\n",
      " [ 0.          0.          0.125       0.          0.          0.          0.\n",
      "   0.        ]\n",
      " [ 0.          0.          0.125       0.          0.          0.          0.\n",
      "   0.        ]\n",
      " [ 0.          0.          0.125       0.          0.33333333  0.          0.\n",
      "   0.        ]\n",
      " [ 0.          0.          0.125       0.33333333  0.33333333  0.5         0.\n",
      "   0.        ]\n",
      " [ 1.          0.          0.125       0.          0.          0.          0.\n",
      "   0.        ]]\n"
     ]
    }
   ],
   "source": [
    "#PAGERANK Problem 2\n",
    "#Note that a node is a sink if its row sum in the adjacency matrix is equal to 0\n",
    "\n",
    "def KMAT(A):\n",
    "    A = np.asarray(A)\n",
    "\n",
    "    sink = np.where(~A.any(axis = 1))\n",
    "    Am = np.copy(A)\n",
    "   \n",
    "    for rowindex in sink:\n",
    "        Am[rowindex] = np.repeat(1, len(A))\n",
    "    \n",
    "    rowsum = np.sum(Am, axis = 1)\n",
    "    D = rowsum\n",
    "    K = (Am.T / D)\n",
    "    \n",
    "    \n",
    "    return K\n",
    "\n",
    "print(KMAT(A))\n",
    " "
   ]
  },
  {
   "cell_type": "code",
   "execution_count": 91,
   "metadata": {},
   "outputs": [
    {
     "name": "stdout",
     "output_type": "stream",
     "text": [
      "[ 0.43869288  0.02171029  0.02786154  0.02171029  0.02171029  0.02786154\n",
      "  0.04585394  0.39459924]\n"
     ]
    }
   ],
   "source": [
    "#PAGERANK Problem 3\n",
    "def steadystate(A, N = None, d = 0.85):\n",
    "    K = KMAT(A)\n",
    "    A = np.asarray(A)\n",
    "    I = np.eye(N)\n",
    "    p = np.random.choice(5, N)\n",
    "    p = [float(i)/sum(p) for i in p]\n",
    "    \n",
    "    diff = 5\n",
    "    eps = 1e-10\n",
    "    \n",
    "    while diff > eps:\n",
    "        pold = np.copy(p)\n",
    "        p = d * K @ p + ((1-d) / N) * np.ones(N)\n",
    "        diff = (np.absolute(pold - p)).max()\n",
    "        \n",
    "    return p\n",
    "\n",
    "print(steadystate(A, 8))"
   ]
  },
  {
   "cell_type": "code",
   "execution_count": 92,
   "metadata": {},
   "outputs": [
    {
     "name": "stdout",
     "output_type": "stream",
     "text": [
      "[[ 0.43869457]\n",
      " [ 0.02171029]\n",
      " [ 0.02786154]\n",
      " [ 0.02171029]\n",
      " [ 0.02171029]\n",
      " [ 0.02786154]\n",
      " [ 0.04585394]\n",
      " [ 0.39459755]]\n"
     ]
    }
   ],
   "source": [
    "#PAGERANK Problem 4\n",
    "\n",
    "def dominant(A,N,tol):\n",
    "    m = A.shape[0]\n",
    "    n = A.shape[1]\n",
    "    x = np.random.random((n,1))\n",
    "    x = x/la.norm(x)\n",
    "    diff = 1\n",
    "    k = 0\n",
    "    while ((diff > tol) & (k < N)):\n",
    "        xnew = (A @ x)\n",
    "        xnew = xnew/la.norm(xnew)\n",
    "        diff = la.norm(xnew - x)\n",
    "        x = xnew.copy()\n",
    "        del(xnew)\n",
    "        k = k + 1\n",
    "\n",
    "    return x.T @ A @ x, x\n",
    "\n",
    "\n",
    "\n",
    "def steadystate_eig(A, N = None, d = 0.85):\n",
    "    K = KMAT(A)\n",
    "    E = np.ones(N)\n",
    "    B = d * K + ((1 - d)/N) * E\n",
    "    p = dominant(B, 1000, 1e-5)[1]\n",
    "    sump = sum(p)\n",
    "    p = p/sump\n",
    "    return p\n",
    "\n",
    "print(steadystate_eig(A, 8))"
   ]
  },
  {
   "cell_type": "code",
   "execution_count": 93,
   "metadata": {},
   "outputs": [
    {
     "name": "stdout",
     "output_type": "stream",
     "text": [
      "[['Duke' '0.009656735782493077']\n",
      " ['Butler' '0.008535400729543017']\n",
      " ['Louisville' '0.008494955682030719']\n",
      " ['Illinois' '0.008332028412173818']\n",
      " ['Indiana' '0.008221514638637541']\n",
      " ['Miami FL' '0.00814668377659458']\n",
      " ['Syracuse' '0.00789188211102955']\n",
      " ['Ohio St' '0.007775237826327088']\n",
      " ['Michigan St' '0.007618919181072098']\n",
      " ['Kansas' '0.007583806473329538']\n",
      " ['Minnesota' '0.007511047931821575']\n",
      " ['Michigan' '0.007397245584150507']\n",
      " ['Georgetown' '0.00739006708180595']\n",
      " ['Wisconsin' '0.00687748442602707']\n",
      " ['St Louis' '0.006749911054239554']\n",
      " ['New Mexico' '0.006671311196418934']\n",
      " ['Virginia' '0.006671146749132959']\n",
      " ['Marquette' '0.00656021793956054']\n",
      " ['Notre Dame' '0.006555148976244562']\n",
      " ['NC State' '0.006545229591433438']\n",
      " ['VA Commonwealth' '0.00639280128718036']\n",
      " ['Oklahoma St' '0.006344746547622161']\n",
      " ['Florida' '0.006337529664061449']\n",
      " ['Villanova' '0.006324925469192482']\n",
      " ['Temple' '0.006305157179583237']\n",
      " ['Arizona' '0.006106811224327509']\n",
      " ['UNLV' '0.006062641088320836']\n",
      " ['Missouri' '0.00601652263226561']\n",
      " ['Cincinnati' '0.005909838587634481']\n",
      " ['Pittsburgh' '0.005898581807762055']\n",
      " ['Xavier' '0.005837183140600249']\n",
      " ['UCLA' '0.0058358346672136305']\n",
      " ['Connecticut' '0.0057703047889922']\n",
      " ['Colorado' '0.005741308586985844']\n",
      " ['Gonzaga' '0.005709641917775111']\n",
      " ['Creighton' '0.005426933655704209']\n",
      " ['Oregon' '0.00540517648023617']\n",
      " ['San Diego St' '0.005294407319151964']\n",
      " ['Oklahoma' '0.005172799114376158']\n",
      " ['California' '0.005172757881347752']\n",
      " ['Wichita St' '0.005091989349733495']\n",
      " ['Maryland' '0.005086588445869314']\n",
      " ['La Salle' '0.005065355937932727']\n",
      " ['Tennessee' '0.005042057929824127']\n",
      " ['Colorado St' '0.004976500896425547']\n",
      " ['North Carolina' '0.00495973076902031']\n",
      " ['Kentucky' '0.00493322508294646']\n",
      " ['Indiana St' '0.0049180269873557204']\n",
      " ['Mississippi' '0.004911095034633645']\n",
      " ['Boise St' '0.004908543076630942']\n",
      " ['Charlotte' '0.004772159854069595']\n",
      " ['Iowa St' '0.004757005964659063']\n",
      " ['Baylor' '0.004645494742534619']\n",
      " ['Kansas St' '0.00461339628999143']\n",
      " ['Arkansas' '0.0045477886734645616']\n",
      " ['Texas A&M' '0.0045286276371641855']\n",
      " ['Iowa' '0.00441478703621671']\n",
      " ['Georgia Tech' '0.004390593635745851']\n",
      " ['Air Force' '0.0043809917148449505']\n",
      " ['Massachusetts' '0.004379336467552158']\n",
      " ['Florida St' '0.004377543782676157']\n",
      " ['Memphis' '0.004329702009991843']\n",
      " ['Washington' '0.004259551566044969']\n",
      " ['Arizona St' '0.004213237723576933']\n",
      " ['USC' '0.004181891925299791']\n",
      " ['Wake Forest' '0.004176443804757945']\n",
      " ['Utah' '0.004129119389736583']\n",
      " ['Alabama' '0.004085858928934287']\n",
      " [\"St John's\" '0.004035740113604044']\n",
      " ['Northern Iowa' '0.003960911825601314']\n",
      " [\"St Mary's CA\" '0.0039290940057339465']\n",
      " ['Purdue' '0.0038804952447528763']\n",
      " ['Stanford' '0.0038678607262243596']\n",
      " ['Providence' '0.0038510186926834014']\n",
      " ['Richmond' '0.003800320932175742']\n",
      " ['Belmont' '0.0037915871574545363']\n",
      " ['Illinois St' '0.0036448883670693426']\n",
      " ['Bucknell' '0.003595965873680805']\n",
      " ['Akron' '0.003571006748126426']\n",
      " ['Dayton' '0.0035699707129401657']\n",
      " [\"St Joseph's PA\" '0.0035597842877381955']\n",
      " ['LSU' '0.0035226162479049384']\n",
      " ['Nebraska' '0.003507241734920534']\n",
      " ['Evansville' '0.003490835906854127']\n",
      " ['Boston College' '0.003459276915172313']\n",
      " ['BYU' '0.0034333700915613508']\n",
      " ['Murray St' '0.003430628601312562']\n",
      " ['South Florida' '0.0034071044380139']\n",
      " ['Northwestern' '0.0033962059753256065']\n",
      " ['S Dakota St' '0.003373730230636654']\n",
      " ['Middle Tenn St' '0.0033717645572369547']\n",
      " ['Texas' '0.003357879211486944']\n",
      " ['New Mexico St' '0.0032968689308478356']\n",
      " ['Southern Miss' '0.003285526306096629']\n",
      " ['UTEP' '0.0032340382289268157']\n",
      " ['Virginia Tech' '0.0032301710903056688']\n",
      " ['Wyoming' '0.003219633358077183']\n",
      " ['Louisiana Tech' '0.0032119515223018222']\n",
      " ['Penn St' '0.003202256242563189']\n",
      " ['Valparaiso' '0.0031369977240115754']\n",
      " ['Pacific' '0.003130043529879844']\n",
      " ['Rutgers' '0.0031106998994702307']\n",
      " ['Detroit' '0.0031097678545500894']\n",
      " ['UCF' '0.0031019211782251583']\n",
      " ['FL Gulf Coast' '0.0030826458977773323']\n",
      " ['Drake' '0.00307222557502439']\n",
      " ['Santa Clara' '0.0030599433580864254']\n",
      " ['TCU' '0.003024327607321876']\n",
      " ['Canisius' '0.0030226766607706363']\n",
      " ['St Bonaventure' '0.00301233645384297']\n",
      " ['Oregon St' '0.0029816798636158105']\n",
      " ['S Illinois' '0.002968703654837058']\n",
      " ['Denver' '0.0029651829117171994']\n",
      " ['IL Chicago' '0.0029608635241840367']\n",
      " ['Iona' '0.0029354841715637002']\n",
      " ['Vanderbilt' '0.0029146179202577155']\n",
      " ['Georgia' '0.0028981910967922375']\n",
      " ['Loyola MD' '0.0028748212751522092']\n",
      " ['Northeastern' '0.0028603532945214566']\n",
      " ['Utah St' '0.0028579926859938817']\n",
      " ['Robert Morris' '0.0028535889263954124']\n",
      " ['Albany NY' '0.0028486468928663163']\n",
      " ['Seton Hall' '0.0028067042202763394']\n",
      " ['Col Charleston' '0.0027794075654613533']\n",
      " ['Nevada' '0.0027657358397403923']\n",
      " ['Kent' '0.002749403250999216']\n",
      " ['Vermont' '0.0027452236771191574']\n",
      " ['Bryant' '0.002741028956574173']\n",
      " ['Niagara' '0.002734125308508183']\n",
      " ['Ohio' '0.0027302759796317376']\n",
      " ['Bradley' '0.002729711812346818']\n",
      " ['South Carolina' '0.0027278488233389775']\n",
      " ['Fresno St' '0.0027258751003723415']\n",
      " ['WI Green Bay' '0.002716043098251189']\n",
      " ['E Kentucky' '0.002694401120693768']\n",
      " ['Stony Brook' '0.0026943490901079987']\n",
      " ['Princeton' '0.002663477515403766']\n",
      " ['SF Austin' '0.002659044283812224']\n",
      " ['G Washington' '0.0026500635186426833']\n",
      " ['Tennessee St' '0.002644171559072173']\n",
      " ['Quinnipiac' '0.00264377466865172']\n",
      " ['Davidson' '0.0026360505431013426']\n",
      " ['George Mason' '0.002612140328912123']\n",
      " ['Washington St' '0.002611747282566024']\n",
      " ['Lehigh' '0.0026065568925117393']\n",
      " ['UC Irvine' '0.002584758367925224']\n",
      " ['Florida Intl' '0.002572688323742994']\n",
      " ['Clemson' '0.002571877622953079']\n",
      " ['Northwestern LA' '0.002555511821376132']\n",
      " ['Arkansas St' '0.00255471513668644']\n",
      " ['Cal Poly SLO' '0.002553532535940002']\n",
      " ['Harvard' '0.0025275233679641733']\n",
      " ['Rider' '0.002523431835260437']\n",
      " ['N Dakota St' '0.002518145207089796']\n",
      " ['Rhode Island' '0.002513669479168616']\n",
      " ['Lafayette' '0.0024787444284309164']\n",
      " ['Oakland' '0.0024140941734763703']\n",
      " ['Mercer' '0.0024007830155421328']\n",
      " ['Tulane' '0.002397565146283876']\n",
      " [\"Mt St Mary's\" '0.0023761972783507583']\n",
      " ['Delaware' '0.002375453942421505']\n",
      " ['East Carolina' '0.0023748248256086307']\n",
      " ['W Michigan' '0.0023739914381684666']\n",
      " ['Tulsa' '0.0023559116835034553']\n",
      " ['Long Island' '0.002352353660895483']\n",
      " ['Maine' '0.002309415462625699']\n",
      " ['San Francisco' '0.002302841966233323']\n",
      " ['Houston' '0.0022913136458835004']\n",
      " ['Wagner' '0.002287545656651425']\n",
      " ['Fairfield' '0.002283945288807595']\n",
      " ['Hartford' '0.002282589359383358']\n",
      " ['Central Conn' '0.002275895114421973']\n",
      " ['Marshall' '0.0022735477883078963']\n",
      " ['Auburn' '0.0022715504788261487']\n",
      " ['UAB' '0.002260965217175044']\n",
      " ['Wright St' '0.002250756276768507']\n",
      " ['Weber St' '0.0022484393391216163']\n",
      " ['Morehead St' '0.0022422700247291517']\n",
      " ['Towson' '0.0022396344950790137']\n",
      " ['UT Arlington' '0.0022373771780038352']\n",
      " ['James Madison' '0.0022081010463514046']\n",
      " ['Buffalo' '0.0021947675011123203']\n",
      " ['West Virginia' '0.0021853087595173582']\n",
      " ['Youngstown St' '0.002174152272088996']\n",
      " ['Ark Little Rock' '0.002171799883408416']\n",
      " ['SMU' '0.002168560950435896']\n",
      " ['W Illinois' '0.0021663450629828785']\n",
      " ['Georgia St' '0.0021659698502212396']\n",
      " ['Loyola-Chicago' '0.0021547185711699012']\n",
      " ['Duquesne' '0.0021493307402182184']\n",
      " ['Gardner Webb' '0.0021411364860526643']\n",
      " ['Long Beach St' '0.002136327216270817']\n",
      " ['Missouri St' '0.0021312057771361017']\n",
      " ['NC A&T' '0.0021246462018186456']\n",
      " ['DePaul' '0.0021177557382202803']\n",
      " ['Manhattan' '0.0021169952553257913']\n",
      " ['Jacksonville St' '0.002106838082341111']\n",
      " ['Ga Southern' '0.00210566416412084']\n",
      " ['Santa Barbara' '0.002097304665243507']\n",
      " ['CS Northridge' '0.0020962477529378972']\n",
      " ['Drexel' '0.0020911320991333715']\n",
      " ['W Kentucky' '0.0020826534099044657']\n",
      " ['Columbia' '0.0020698740402344193']\n",
      " ['Savannah St' '0.002063187875334487']\n",
      " ['Bowling Green' '0.0020583872442350285']\n",
      " ['Cleveland St' '0.0020571252683668716']\n",
      " ['Boston Univ' '0.002042077651780276']\n",
      " ['Marist' '0.002038676439228703']\n",
      " ['Hawaii' '0.0020325513488449348']\n",
      " ['Oral Roberts' '0.002032353765614156']\n",
      " ['Mississippi St' '0.0020231157622095032']\n",
      " ['South Alabama' '0.002021773653455626']\n",
      " ['Montana' '0.002013412142199368']\n",
      " ['Winthrop' '0.0020062259804857125']\n",
      " ['Brown' '0.002000934313415741']\n",
      " ['St Francis NY' '0.0020003213986312975']\n",
      " ['Coastal Car' '0.001993335129219973']\n",
      " ['San Diego' '0.0019845200603264704']\n",
      " ['Wofford' '0.001976276731953852']\n",
      " ['Texas Tech' '0.001968936486076036']\n",
      " ['UNC Asheville' '0.0019644716846635123']\n",
      " ['FL Atlantic' '0.001955697323966465']\n",
      " ['UC Davis' '0.001954905794461095']\n",
      " ['Yale' '0.0019473218776208281']\n",
      " ['Troy' '0.0019376769487397852']\n",
      " ['Toledo' '0.0019355296577691747']\n",
      " ['Elon' '0.0019231188544732575']\n",
      " ['Sacred Heart' '0.0019203378538103504']\n",
      " ['SE Louisiana' '0.0019157376018894817']\n",
      " ['UT San Antonio' '0.0019103902438343421']\n",
      " ['Norfolk St' '0.0018939561756080277']\n",
      " ['McNeese St' '0.0018765655933121652']\n",
      " ['NC Central' '0.001864201836682935']\n",
      " ['CS Fullerton' '0.0018458777942430083']\n",
      " ['C Michigan' '0.001812882220376945']\n",
      " ['E Michigan' '0.0018057824317455897']\n",
      " ['Ball St' '0.001804982378271772']\n",
      " ['CS Sacramento' '0.0018015218891556516']\n",
      " ['Morgan St' '0.0017962504024273658']\n",
      " ['SE Missouri St' '0.001789826609505103']\n",
      " ['North Texas' '0.0017718028482716932']\n",
      " ['Tennessee Tech' '0.0017710500101607888']\n",
      " ['Cornell' '0.0017631931985198452']\n",
      " ['San Jose St' '0.0017597329852723415']\n",
      " ['Southern Univ' '0.0017589448126315785']\n",
      " ['Jacksonville' '0.0017585025060263336']\n",
      " ['Holy Cross' '0.0017573746432551609']\n",
      " [\"St Peter's\" '0.001744808732532856']\n",
      " ['Loy Marymount' '0.0017369575904661546']\n",
      " ['ULL' '0.001736574377641696']\n",
      " ['Delaware St' '0.0017344978300545414']\n",
      " ['Army' '0.0017343909710824139']\n",
      " ['Old Dominion' '0.001725386196032237']\n",
      " ['Montana St' '0.0017240721849756618']\n",
      " ['Charleston So' '0.0017234610813685308']\n",
      " ['Colgate' '0.0017171938452458881']\n",
      " ['UNC Wilmington' '0.0017161667685665033']\n",
      " ['Hampton' '0.0017128314292374797']\n",
      " ['Idaho' '0.001712155370145959']\n",
      " ['South Dakota' '0.0016915591542291928']\n",
      " ['Stetson' '0.0016812522314017407']\n",
      " ['Lipscomb' '0.0016799221350454478']\n",
      " ['ETSU' '0.0016762899430462688']\n",
      " ['E Illinois' '0.001671468162992781']\n",
      " ['CS Bakersfield' '0.0016609493193284345']\n",
      " ['Samford' '0.0016601708311441096']\n",
      " ['Pepperdine' '0.0016567207725551414']\n",
      " ['Sam Houston St' '0.0016495366065958526']\n",
      " ['WI Milwaukee' '0.0016469975498576797']\n",
      " ['Edwardsville' '0.0016459678810674223']\n",
      " ['Texas St' '0.00163971384701034']\n",
      " ['High Point' '0.0016379532111591513']\n",
      " ['SC Upstate' '0.0016358224495984638']\n",
      " ['William & Mary' '0.001620876272414366']\n",
      " ['IPFW' '0.0016194300844371385']\n",
      " ['American Univ' '0.0016123735905616042']\n",
      " ['N Kentucky' '0.00161022219348991']\n",
      " ['Campbell' '0.001607981914017371']\n",
      " ['Penn' '0.0015995986577826266']\n",
      " ['Liberty' '0.0015984430114973141']\n",
      " ['Portland' '0.0015975948044416087']\n",
      " ['Bethune-Cookman' '0.001591952649040368']\n",
      " ['Monmouth NJ' '0.0015886884354039004']\n",
      " ['Northern Arizona' '0.0015771877954621795']\n",
      " ['TX Pan American' '0.0015622947127674437']\n",
      " ['Miami OH' '0.001557752580231244']\n",
      " ['Appalachian St' '0.00155279389846439']\n",
      " ['Hofstra' '0.0015502496290073949']\n",
      " ['W Carolina' '0.001538334637878247']\n",
      " ['Fordham' '0.0015344456493847792']\n",
      " ['TN Martin' '0.001532336537781125']\n",
      " ['Chattanooga' '0.0015196434770989656']\n",
      " ['North Florida' '0.00151712954142508']\n",
      " ['North Dakota' '0.0015156539559565915']\n",
      " ['TX Southern' '0.0015155555983146387']\n",
      " ['NJIT' '0.0015150022590882585']\n",
      " ['Siena' '0.0015146036239733005']\n",
      " ['Nicholls St' '0.001511544074049359']\n",
      " ['Utah Valley' '0.0015085612247218083']\n",
      " ['Radford' '0.001497478006208092']\n",
      " ['Navy' '0.0014954289358409048']\n",
      " ['Cent Arkansas' '0.0014938365936815784']\n",
      " ['E Washington' '0.0014725838116788448']\n",
      " ['Southern Utah' '0.0014695884261033908']\n",
      " ['Ark Pine Bluff' '0.0014681143434938345']\n",
      " ['Seattle' '0.0014586362063042408']\n",
      " ['F Dickinson' '0.0014516467213940517']\n",
      " ['Dartmouth' '0.0014402285611497699']\n",
      " ['N Colorado' '0.0014400111306187915']\n",
      " ['VMI' '0.0014211803369792338']\n",
      " ['Prairie View' '0.001377401300414807']\n",
      " ['MD Baltimore Co' '0.0013358439385928148']\n",
      " ['Alcorn St' '0.0013263258768094882']\n",
      " ['Houston Bap' '0.001313708329845883']\n",
      " ['New Hampshire' '0.0013122761750648253']\n",
      " ['NE Omaha' '0.0013094097247584593']\n",
      " ['Jackson St' '0.0013048837561203583']\n",
      " ['Coppin St' '0.0012878408021617324']\n",
      " ['Austin Peay' '0.0012866053304155262']\n",
      " ['Missouri KC' '0.0012854257241499054']\n",
      " ['Longwood' '0.0012804986917533299']\n",
      " ['St Francis PA' '0.0012681936839174387']\n",
      " ['UC Riverside' '0.0012656237099176737']\n",
      " ['Portland St' '0.0012624975335338486']\n",
      " ['Alabama A&M' '0.0012582705174515524']\n",
      " ['Idaho St' '0.0012462572648071772']\n",
      " ['TAM C. Christi' '0.0012426887839077604']\n",
      " ['N Illinois' '0.0012425178458485538']\n",
      " ['Chicago St' '0.0012366273969058135']\n",
      " ['Presbyterian' '0.0012306030705543005']\n",
      " ['Citadel' '0.0012257711188291389']\n",
      " ['IUPUI' '0.0012074850178469248']\n",
      " ['S Carolina St' '0.001204897366740972']\n",
      " ['Alabama St' '0.0012027900576351677']\n",
      " ['Rice' '0.0011892256276865684']\n",
      " ['Furman' '0.001187702288673618']\n",
      " ['New Orleans' '0.0011760622319718695']\n",
      " ['UNC Greensboro' '0.0011678083867553235']\n",
      " ['Kennesaw' '0.001156399729470954']\n",
      " ['ULM' '0.0011406250462626616']\n",
      " ['Howard' '0.0011163170242493947']\n",
      " ['Lamar' '0.001094514966367425']\n",
      " ['Florida A&M' '0.001083430344493781']\n",
      " ['MS Valley St' '0.0010721855934340606']\n",
      " ['Binghamton' '0.001052830677559809']\n",
      " ['MD E Shore' '0.000981414347001867']\n",
      " ['Grambling' '0.0008645533141210376']]\n"
     ]
    }
   ],
   "source": [
    "#PAGERANK Problem 5\n",
    "\n",
    "def AMAT1(name):\n",
    "    \n",
    "    with open(name, 'r') as myfile:\n",
    "        nodes = []\n",
    "        for line in myfile.readlines()[1:]:\n",
    "            for node in line.split(\",\"):\n",
    "                nodes.append(node)\n",
    "    \n",
    "    m = int(len(nodes)/2)\n",
    "    nodescopy = sorted(list(set([node.rstrip(\"\\n\") for node in nodes])))\n",
    "    adj = np.asarray([node.rstrip(\"\\n\") for node in nodes]).reshape(m,2)\n",
    "    A = np.zeros((len(nodescopy),len(nodescopy)))\n",
    "    for row in adj:\n",
    "        i = nodescopy.index(row[0])\n",
    "        j = nodescopy.index(row[1])\n",
    "        A[j,i] = 1\n",
    "    \n",
    "    ranks = steadystate(A, len(nodescopy), d = 0.7).reshape(len(nodescopy),1)\n",
    "    nodescopy = np.asarray(nodescopy).reshape(len(nodescopy),1)\n",
    "    rankmat = np.hstack((nodescopy,ranks))\n",
    "    rankmat = rankmat[rankmat[:,1].argsort()[::-1]]\n",
    "    print(rankmat)\n",
    "    return rankmat\n",
    "\n",
    "amat = AMAT1(\"ncaa2013.csv\")"
   ]
  },
  {
   "cell_type": "markdown",
   "metadata": {},
   "source": [
    "# Conditioning"
   ]
  },
  {
   "cell_type": "code",
   "execution_count": 94,
   "metadata": {},
   "outputs": [
    {
     "name": "stdout",
     "output_type": "stream",
     "text": [
      "MY ANSWER:  14.9330343737\n",
      "NUMPY'S ANSWER:  14.9330343737\n",
      "Orthonormal matrix's condition:  1.0\n",
      "Singular matrix's condition:  inf\n"
     ]
    }
   ],
   "source": [
    "#CONDITIONING Problem 1\n",
    "from scipy import linalg as la\n",
    "A = np.array([[1,2],[3,4]])\n",
    "def condition(A):\n",
    "    sv = la.svdvals(A)\n",
    "    svmax = max(sv)\n",
    "    svmin = min(sv)\n",
    "    if svmin == 0:\n",
    "        return np.inf\n",
    "    else:\n",
    "        K = svmax / svmin\n",
    "    return K\n",
    "\n",
    "print(\"MY ANSWER: \", condition(A))\n",
    "print(\"NUMPY'S ANSWER: \", np.linalg.cond(A))\n",
    "\n",
    "orth = np.array([[1,0],[0,1]])\n",
    "sing = np.array([[1,0],[0,0]])\n",
    "print(\"Orthonormal matrix's condition: \", condition(orth))\n",
    "print(\"Singular matrix's condition: \", condition(sing))\n",
    "\n"
   ]
  },
  {
   "cell_type": "code",
   "execution_count": 95,
   "metadata": {},
   "outputs": [
    {
     "data": {
      "image/png": "[encoded data removed]",
      "text/plain": [
       "<matplotlib.figure.Figure at 0x10bfe6208>"
      ]
     },
     "metadata": {},
     "output_type": "display_data"
    },
    {
     "name": "stdout",
     "output_type": "stream",
     "text": [
      "3.59199349772968e+25\n"
     ]
    }
   ],
   "source": [
    "#CONDITIONING Problem 2\n",
    "from matplotlib import pyplot as plt\n",
    "import sympy as sy\n",
    "\n",
    "def wilkinson():\n",
    "    for j in range(100):\n",
    "        w_roots = np.arange(1,21)\n",
    "        x,  i = sy.symbols('x i')\n",
    "        w = sy.poly_from_expr(sy.product(x-i, (i, 1, 20)))[0]\n",
    "        \n",
    "        w_coeffs = np.array(w.all_coeffs())\n",
    "        new_coeffs = np.copy(w_coeffs)\n",
    "        \n",
    "        for i in range(len(new_coeffs)):\n",
    "            new_coeffs[i] = new_coeffs[i] * np.random.normal(1, 10e-10)\n",
    "            \n",
    "        h = np.zeros(21)\n",
    "        h[1]=1e-7\n",
    "\n",
    "        new_roots = np.roots(new_coeffs)\n",
    "        w_roots = np.sort(w_roots)\n",
    "        new_roots = np.sort(new_roots)\n",
    "        k = la.norm(new_roots - w_roots, np.inf) / la.norm(h, np.inf)\n",
    "\n",
    "        plt.scatter(new_roots.real, new_roots.imag, marker = '.')\n",
    "        plt.scatter(w_roots.real, w_roots.imag)\n",
    "\n",
    "    plt.show()\n",
    "    return k * la.norm(w_coeffs, np.inf) / la.norm(w_roots, np.inf)\n",
    "    \n",
    "print(wilkinson())\n",
    "    \n",
    "    "
   ]
  },
  {
   "cell_type": "code",
   "execution_count": 96,
   "metadata": {},
   "outputs": [
    {
     "name": "stdout",
     "output_type": "stream",
     "text": [
      "(0.87707545084808725, 0.89206927971278394)\n"
     ]
    }
   ],
   "source": [
    "#CONDITIONING Problem 3\n",
    "\n",
    "def condition_est(A):\n",
    "    reals = np.random.normal(0, 1e-10, A.shape)\n",
    "    imags = np.random.normal(0, 1e-10, A.shape)\n",
    "    H = reals + 1j*imags\n",
    "    Abar = A + H\n",
    "    evalues_A = la.eigvals(A)\n",
    "    evalues_Abar = la.eigvals(Abar)\n",
    "    K_hat = la.norm(evalues_A - evalues_Abar)/la.norm(H)\n",
    "    K = la.norm(A)*K_hat/la.norm(evalues_A)\n",
    "    return K_hat, K\n",
    "\n",
    "print(condition_est(A))\n"
   ]
  },
  {
   "cell_type": "code",
   "execution_count": 97,
   "metadata": {},
   "outputs": [
    {
     "data": {
      "image/png": "[encoded data removed]",
      "text/plain": [
       "<matplotlib.figure.Figure at 0x117e5ec88>"
      ]
     },
     "metadata": {},
     "output_type": "display_data"
    }
   ],
   "source": [
    "#CONDIITIONING Problem 4\n",
    "def getmat(x,y):\n",
    "    A = np.array([[1,x],[y,1]])\n",
    "    return A\n",
    "\n",
    "def resolution(xmin, xmax, ymin, ymax, res):\n",
    "    \n",
    "    xvec = np.linspace(xmin, xmax, res)\n",
    "    yvec = np.linspace(ymin, ymax, res)\n",
    "    zvec = np.zeros((res, res))\n",
    "    \n",
    "    for i in range(res): #loop over xvec\n",
    "        for j in range(res): #loop over yvec\n",
    "            A = getmat(xvec[i], yvec[j])\n",
    "            zvec[i,j] = condition_est(A)[1]\n",
    "    \n",
    "    plt.pcolormesh(xvec,yvec,zvec, cmap = 'gray_r')\n",
    "    plt.colorbar()\n",
    "    plt.show()\n",
    "        \n",
    "resolution(-100,100,-100,100,200)"
   ]
  },
  {
   "cell_type": "code",
   "execution_count": 98,
   "metadata": {},
   "outputs": [
    {
     "data": {
      "image/png": "[encoded data removed]",
      "text/plain": [
       "<matplotlib.figure.Figure at 0x117e29f60>"
      ]
     },
     "metadata": {},
     "output_type": "display_data"
    },
    {
     "name": "stdout",
     "output_type": "stream",
     "text": [
      "Normal Equations \n",
      " [ -7.66616491e+04   1.48146119e+05   2.47646334e+05  -7.23672014e+05\n",
      "  -1.39533785e+05   2.01096280e+06  -2.71905138e+06   1.74399461e+06\n",
      "  -5.49052946e+05   3.52181893e+04   3.07342783e+04  -9.76671206e+03\n",
      "   1.14167987e+03  -4.28343696e+01   1.27155211e+00]\n",
      "QR Decomposition \n",
      " [ -9.45621067e+06   6.62579037e+07  -2.08103552e+08   3.86657583e+08\n",
      "  -4.72212316e+08   3.98175538e+08  -2.36823643e+08   9.96324432e+07\n",
      "  -2.92403232e+07   5.78803296e+06  -7.24564873e+05   5.05308373e+04\n",
      "  -1.42447803e+03   1.40662429e+00   1.15251488e+00]\n",
      "Normal Equations Error:  152.14373083716285\n",
      "QR Decomposition Error:  4.568370945324403\n"
     ]
    }
   ],
   "source": [
    "#CONDIITIONING Problem 5\n",
    "\n",
    "def coef(n):\n",
    "    xk, yk = np.load(\"stability_data.npy\").T\n",
    "    A = np.vander(xk, n+1)    \n",
    "    xhat = la.inv(A.T @ A) @ A.T @ yk\n",
    "    \n",
    "    Q, R = la.qr(A, mode = \"economic\")\n",
    "    xhat_qr = la.solve_triangular(R, (Q.T) @ yk)\n",
    "    \n",
    "    yhat = np.polyval(xhat, xk)\n",
    "    yhat_qr = np.polyval(xhat_qr,xk)\n",
    "    \n",
    "    plt.scatter(xk,yk, marker = \".\")\n",
    "    p1a, = plt.plot(xk,yhat)\n",
    "    p1b, = plt.plot(xk,yhat_qr)\n",
    "    plt.legend([p1a, (p1a,p1b)],[\"Normal Equations\", \"QR Solver\"])\n",
    "    plt.show()\n",
    "    \n",
    "    error = la.norm(yhat - yk)\n",
    "    error_qr = la.norm(yhat_qr - yk)\n",
    "    \n",
    "    print(\"Normal Equations\",  '\\n', xhat)\n",
    "    print(\"QR Decomposition\",  '\\n', xhat_qr)\n",
    "    print(\"Normal Equations Error: \", error)\n",
    "    print(\"QR Decomposition Error: \", error_qr)\n",
    "\n",
    "    return\n",
    "\n",
    "coef(14)"
   ]
  },
  {
   "cell_type": "code",
   "execution_count": 99,
   "metadata": {},
   "outputs": [
    {
     "name": "stdout",
     "output_type": "stream",
     "text": [
      "ANS_INTEGRATE_VEC:  \n",
      " [[ 0.14553294]\n",
      " [ 0.08387707]\n",
      " [ 0.05901754]\n",
      " [ 0.04554488]\n",
      " [ 0.03708621]\n",
      " [ 0.03127967]\n",
      " [ 0.02704629]\n",
      " [ 0.02382273]\n",
      " [ 0.02128604]\n",
      " [ 0.01923775]]\n",
      "ANS_FACTORIAL_VEC:  \n",
      " [[ 0.14553294]\n",
      " [ 0.08387707]\n",
      " [ 0.05901754]\n",
      " [ 0.04554488]\n",
      " [ 0.03708621]\n",
      " [ 0.03127967]\n",
      " [ 0.02704629]\n",
      " [ 0.02382273]\n",
      " [ 0.02128604]\n",
      " [ 0.01923775]]\n",
      "ERROR_FACTORIAL_VEC:  \n",
      " [[ 0.]\n",
      " [ 0.]\n",
      " [ 0.]\n",
      " [ 0.]\n",
      " [ 0.]\n",
      " [ 0.]\n",
      " [ 0.]\n",
      " [ 0.]\n",
      " [ 0.]\n",
      " [ 0.]]\n"
     ]
    }
   ],
   "source": [
    "#CONDITIONING Problem 6\n",
    "\n",
    "def problem6():\n",
    "    x = sy.symbols(\"x\")\n",
    "    n = sy.symbols(\"n\")\n",
    "    \n",
    "    ans_int_vec = np.zeros((10,1))\n",
    "    ans_fac_vec = np.zeros((10,1))\n",
    "    error_fac_vec = np.zeros((10,1))\n",
    "    \n",
    "    for n in range(5, 55, 5):\n",
    "        ans_int = sy.integrate((x**(n))*sy.exp((x-1)), (x,0,1))\n",
    "        i = int(n/5) - 1\n",
    "        ans_int_vec[i] = ans_int\n",
    "                        \n",
    "    print(\"ANS_INTEGRATE_VEC: \", '\\n', ans_int_vec)\n",
    "    \n",
    "    for n in range(5, 55, 5):\n",
    "        ans_fac = float(((-1)**(n))*sy.subfactorial(n) + ((-1)**(n+1))*sy.factorial(n)/sy.exp(1))\n",
    "        i = int(n/5) - 1\n",
    "        ans_fac_vec[i] = ans_fac\n",
    "        error_fac_vec[i] = float(la.norm(ans_int_vec[i] - ans_fac_vec[i])/la.norm(ans_int_vec[i]))\n",
    "    \n",
    "    print(\"ANS_FACTORIAL_VEC: \", '\\n',ans_fac_vec)\n",
    "    print(\"ERROR_FACTORIAL_VEC: \", '\\n',error_fac_vec)\n",
    "    \n",
    "    plt.yscale('log')\n",
    "\n",
    "    return\n",
    "\n",
    "problem6()\n",
    "    "
   ]
  },
  {
   "cell_type": "markdown",
   "metadata": {},
   "source": [
    "# Differentiation"
   ]
  },
  {
   "cell_type": "code",
   "execution_count": 100,
   "metadata": {},
   "outputs": [
    {
     "data": {
      "image/png": "[encoded data removed]",
      "text/plain": [
       "<matplotlib.figure.Figure at 0x116f316d8>"
      ]
     },
     "metadata": {},
     "output_type": "display_data"
    }
   ],
   "source": [
    "#DIFFERENTIATION Problem 1\n",
    "\n",
    "import sympy as sy\n",
    "from matplotlib import pyplot as plt\n",
    "\n",
    "def f(x):\n",
    "    return (np.sin(x) + 1)**(np.sin(np.cos(x)))\n",
    "\n",
    "def derivative(xvec):\n",
    "    x = sy.symbols(\"x\")\n",
    "    func = sy.lambdify(x, sy.diff((sy.sin(x) + 1)**(sy.sin(sy.cos(x)))),'numpy') # returns a numpy-ready function\n",
    "    fvec = np.vectorize(f)\n",
    "    yvec = fvec(xvec)\n",
    "    yvecprime = func(xvec)\n",
    "    return yvec, yvecprime\n",
    "\n",
    "xvec = np.linspace(-np.pi, np.pi, 1000)\n",
    "yvec, yvecprime = derivative(xvec)\n",
    "plt.plot(xvec, yvecprime)\n",
    "plt.plot(xvec, yvec)\n",
    "ax = plt.gca()\n",
    "ax.spines[\"bottom\"].set_position(\"zero\")\n",
    "ax.plot\n",
    "plt.show()"
   ]
  },
  {
   "cell_type": "code",
   "execution_count": 101,
   "metadata": {},
   "outputs": [
    {
     "data": {
      "image/png": "[encoded data removed]",
      "text/plain": [
       "<matplotlib.figure.Figure at 0x118b1d240>"
      ]
     },
     "metadata": {},
     "output_type": "display_data"
    }
   ],
   "source": [
    "#DIFFERENTIATION Problem 2\n",
    "import sympy as sy\n",
    "import numpy as np\n",
    "from matplotlib import pyplot as plt\n",
    "\n",
    "\n",
    "h = sy.symbols('h')\n",
    "x = sy.symbols(\"x\")\n",
    "\n",
    "\n",
    "def f(x):\n",
    "    return (sy.sin(x) + 1) ** (sy.sin(sy.cos(x)))\n",
    "    \n",
    "def forward1(g, points, h):\n",
    "\n",
    "    function = sy.lambdify(x, g(x), \"numpy\")\n",
    "    fpoints1 = function(points + h)\n",
    "    fpoints2 = function(points)\n",
    "    derive = (fpoints1 - fpoints2) / h\n",
    "    \n",
    "    return derive\n",
    "\n",
    "def forward2(g, points, h):\n",
    "    \n",
    "    function = sy.lambdify(x, g(x), \"numpy\")\n",
    "    fpoints1 = function(points)\n",
    "    fpoints2 = function(points+h)\n",
    "    fpoints3 = function(points+ 2*h)\n",
    "    derive = (-3*fpoints1 + 4*fpoints2 - fpoints3) / (2*h)\n",
    "    \n",
    "    return derive\n",
    "\n",
    "def backward1(g, points, h):\n",
    "    \n",
    "    function = sy.lambdify(x, g(x), \"numpy\")\n",
    "    fpoints1 = function(points - h)\n",
    "    fpoints2 = function(points)\n",
    "    derive = (fpoints2 - fpoints1) / h\n",
    "    \n",
    "    return derive\n",
    "\n",
    "def backward2(g, points, h):\n",
    "    \n",
    "    function = sy.lambdify(x, g(x), \"numpy\")\n",
    "    fpoints1 = function(points)\n",
    "    fpoints2 = function(points - h)\n",
    "    fpoints3 = function(points - 2*h)\n",
    "    derive = (3*fpoints1 - 4*fpoints2 + fpoints3) / (2*h)\n",
    "    \n",
    "    return derive\n",
    "\n",
    "    \n",
    "def center2(g, points, h):\n",
    "    \n",
    "    function = sy.lambdify(x, g(x), \"numpy\")\n",
    "    fpoints1 = function(points + h)\n",
    "    fpoints2 = function(points - h)\n",
    "    derive = (fpoints1 - fpoints2) / (2 * h)\n",
    "    \n",
    "    return derive\n",
    "\n",
    "def center4(g, points, h):\n",
    "    \n",
    "    function = sy.lambdify(x, g(x), \"numpy\")\n",
    "    fpoints1 = function(points - 2*h)\n",
    "    fpoints2 = function(points - h)\n",
    "    fpoints3 = function(points + h)\n",
    "    fpoints4 = function(points + 2*h)\n",
    "    derive = (fpoints1 - 8*fpoints2 + 8*fpoints3 -fpoints4) / (12 * h)\n",
    "    \n",
    "    return derive\n",
    "\n",
    "points = np.linspace( -np.pi, np.pi, 100)\n",
    "\n",
    "derivef1 = forward1(f, points, 0.01)\n",
    "deriveb1 = backward1(f, points, 0.01)\n",
    "derivec2 = center2(f, points, 0.01)\n",
    "derivef2 = forward2(f, points, 0.01)\n",
    "deriveb2 = backward2(f, points, 0.01)\n",
    "derivec4 = center4(f, points, 0.01)\n",
    "\n",
    "plt.plot(points, derivef1, 'b', label = 'Forward1')\n",
    "plt.plot(points, deriveb1, 'g', label = 'Backward1')\n",
    "plt.plot(points, derivec2, 'y', label = 'Center2')\n",
    "plt.plot(points, derivef2, 'r', label = 'Forward2')\n",
    "plt.plot(points, deriveb2, 'm', label = 'Backward2')\n",
    "plt.plot(points, derivec4, 'k', label = 'Center4')\n",
    "plt.legend(loc = 'lower right')\n",
    "ax = plt.gca()\n",
    "ax.spines[\"bottom\"].set_position(\"zero\")\n",
    "\n",
    "plt.show()"
   ]
  },
  {
   "cell_type": "code",
   "execution_count": 102,
   "metadata": {},
   "outputs": [
    {
     "data": {
      "image/png": "[encoded data removed]",
      "text/plain": [
       "<matplotlib.figure.Figure at 0x115fac2e8>"
      ]
     },
     "metadata": {},
     "output_type": "display_data"
    }
   ],
   "source": [
    "#DIFFERENTIATION Problem 3\n",
    "x = sy.symbols(\"x\")\n",
    "\n",
    "def problem3(x):\n",
    "    hvec = np.logspace(-8,0,9)\n",
    "    xvec = np.repeat(x,9)\n",
    "    exact = derivative(xvec)[1]\n",
    "    errf1 = abs(forward1(f,xvec,hvec)-exact)\n",
    "    errf2 = abs(forward2(f,xvec,hvec)-exact)\n",
    "    errb1 = abs(backward1(f,xvec,hvec)-exact)\n",
    "    errb2 = abs(backward1(f,xvec,hvec)-exact)\n",
    "    errc2 = abs(center2(f,xvec,hvec)-exact)\n",
    "    errc4 = abs(center4(f,xvec,hvec)-exact)\n",
    "    plt.plot(hvec,errf1, 'b', label = 'Order 1 Forward')\n",
    "    plt.plot(hvec,errf2, 'k', label = 'Order 2 Forward')\n",
    "    plt.plot(hvec,errb1, 'g', label = 'Order 1 Backward')\n",
    "    plt.plot(hvec,errb2, 'r', label = 'Order 2 Backward')\n",
    "    plt.plot(hvec,errc2, 'y', label = 'Order 2 Centered')\n",
    "    plt.plot(hvec,errc4, 'm', label = 'Order 4 Centered')\n",
    "    plt.legend(loc = 'upper left')\n",
    "    plt.loglog()\n",
    "    plt.show()\n",
    "\n",
    "    \n",
    "problem3(1)"
   ]
  },
  {
   "cell_type": "code",
   "execution_count": 103,
   "metadata": {},
   "outputs": [
    {
     "name": "stdout",
     "output_type": "stream",
     "text": [
      "[[  7.    56.25  67.54]\n",
      " [  8.    55.53  66.57]\n",
      " [  9.    54.8   65.59]\n",
      " [ 10.    54.06  64.59]\n",
      " [ 11.    53.34  63.62]\n",
      " [ 12.    52.69  62.74]\n",
      " [ 13.    51.94  61.72]\n",
      " [ 14.    51.28  60.82]]\n"
     ]
    },
    {
     "data": {
      "text/plain": [
       "array([[ 8.09424127],\n",
       "       [ 0.03165647],\n",
       "       [ 0.31016449],\n",
       "       [ 0.60187847],\n",
       "       [ 0.89408327],\n",
       "       [ 1.16632658],\n",
       "       [ 1.49116613],\n",
       "       [ 9.20069756]])"
      ]
     },
     "execution_count": 103,
     "metadata": {},
     "output_type": "execute_result"
    }
   ],
   "source": [
    "def forward(f,alpha,beta,h):\n",
    "    return (f(alpha+h, beta+h)-f(alpha, beta))/h\n",
    "def backward(f,alpha,beta,h):\n",
    "    return (f(alpha, beta)-f(alpha-h, beta-h))/h\n",
    "def centered(f,alpha,beta,h):\n",
    "    return (f(alpha+h, beta+h)-f(alpha-h, beta-h))/(2*h)\n",
    "\n",
    "def xfunc(alpha, beta):\n",
    "    return alpha*np.tan(beta)/(np.tan(beta)-np.tan(alpha))\n",
    "\n",
    "def yfunc(alpha, beta):\n",
    "    return alpha*np.tan(beta)*np.tan(alpha)/(np.tan(beta)-np.tan(alpha))\n",
    "\n",
    "def problem4():\n",
    "    plane = np.load(\"plane.npy\")\n",
    "    print(plane)\n",
    "    m = len(plane)\n",
    "    alpha = plane[:,1]\n",
    "    beta = plane[:,2]\n",
    "    alpha = np.deg2rad(alpha)\n",
    "    beta = np.deg2rad(beta)\n",
    "    xvec = np.zeros((m,1))\n",
    "    yvec = np.zeros((m,1))\n",
    "    h = 0.00001\n",
    "    xvec[0] = forward(xfunc, alpha[0], beta[0], h)\n",
    "    yvec[0] = forward(yfunc, alpha[0], beta[0], h)\n",
    "\n",
    "    for i in range(1,m-1):\n",
    "        xvec[i] = centered(xfunc, alpha[i], beta[i], h)\n",
    "        yvec[i] = centered(xfunc, alpha[i], beta[i], h)\n",
    "    \n",
    "    xvec[m-1] = backward(xfunc, alpha[m-1], beta[m-1], h)\n",
    "    yvec[m-1] = backward(yfunc, alpha[m-1], beta[m-1], h)\n",
    "\n",
    "    speed = np.zeros((m,1))\n",
    "    for i in range(m):\n",
    "        speed[i] = np.sqrt((xvec[i]**2) + (yvec[i]**2))\n",
    "        \n",
    "    return speed\n",
    "\n",
    "problem4()\n"
   ]
  },
  {
   "cell_type": "code",
   "execution_count": 104,
   "metadata": {},
   "outputs": [
    {
     "name": "stdout",
     "output_type": "stream",
     "text": [
      "[16 62]\n"
     ]
    },
    {
     "data": {
      "text/plain": [
       "array([[  8.        ,   0.        ],\n",
       "       [ 48.00000001,  -1.        ]])"
      ]
     },
     "execution_count": 104,
     "metadata": {},
     "output_type": "execute_result"
    }
   ],
   "source": [
    "#DIFFERENTIATION Problem 5\n",
    "\n",
    "xyvec = np.array([4,2])\n",
    "\n",
    "def ftest(xyvec):\n",
    "    z = np.array([xyvec[0]**2, (xyvec[0]**3) - xyvec[1]])\n",
    "    return z.T\n",
    "\n",
    "print(ftest(xyvec))\n",
    "\n",
    "def jacobian(f, xyvec, h):\n",
    "    m = len(f(xyvec))\n",
    "    n = len(xyvec)\n",
    "    I = np.eye(n)\n",
    "    jacob = np.zeros((m,n))\n",
    "    \n",
    "    for j in range(m):\n",
    "        I2 = I[:,j]\n",
    "        sum1 = xyvec + h*I2\n",
    "        sum2 = xyvec - h*I2\n",
    "        jacob[:,j] = (f(sum1) - f(sum2))/(2*h)            \n",
    "        \n",
    "    return jacob\n",
    "\n",
    "jacobian(ftest, xyvec, 0.0001)\n",
    "\n"
   ]
  },
  {
   "cell_type": "code",
   "execution_count": 105,
   "metadata": {},
   "outputs": [
    {
     "name": "stdout",
     "output_type": "stream",
     "text": [
      "Sympy time:  0.0007120000000000459 Sympy error:  0\n",
      "Second Center time:  0.004273000000004856 Second Center error:  1.38440092723e-11\n",
      "Autograd time:  0.00029899999999827287 Sympy error:  5.55111512313e-17\n"
     ]
    },
    {
     "data": {
      "text/plain": [
       "(0.2302590111469609, 0.23025901114696085, 0.23025901116080491)"
      ]
     },
     "execution_count": 105,
     "metadata": {},
     "output_type": "execute_result"
    }
   ],
   "source": [
    "#DIFFERENTIATION Problem 6\n",
    "import numpy as np\n",
    "import sympy as sy\n",
    "from autograd import grad\n",
    "import autograd.numpy as anp \n",
    "from autograd import multigrad\n",
    "import time\n",
    "\n",
    "x = sy.symbols(\"x\")\n",
    "\n",
    "def h(x):\n",
    "    return sy.log(sy.sqrt(sy.sin(sy.sqrt(x))))\n",
    "\n",
    "def center2(g, points, h):\n",
    "    \n",
    "    function = sy.lambdify(x, g(x), \"numpy\")\n",
    "    fpoints1 = function(points + h)\n",
    "    fpoints2 = function(points - h)\n",
    "    derive = (fpoints1 - fpoints2) / (2 * h)\n",
    "    \n",
    "    return derive\n",
    "\n",
    "def problem6():\n",
    "    a = sy.diff(h(x),x)\n",
    "    b = sy.lambdify(x,a)\n",
    "    start_time = time.clock()\n",
    "    c = b(sy.pi/4)\n",
    "    c_time = time.clock() - start_time\n",
    "    \n",
    "    start_time = time.clock()\n",
    "    g = lambda x: anp.log(anp.sqrt(anp.sin(anp.sqrt(x))))\n",
    "    \n",
    "    start_time = time.clock()\n",
    "    grad_g = grad(g)\n",
    "    d = grad_g(np.pi/4)\n",
    "    d_time = time.clock() - start_time\n",
    "    \n",
    "    start_time = time.clock()\n",
    "    e = center2(h, np.pi/4, 1e-5)\n",
    "    e_time = time.clock() - start_time\n",
    "\n",
    "    print(\"Sympy time: \", c_time, \"Sympy error: \", 0)\n",
    "    print(\"Second Center time: \", e_time,\"Second Center error: \", abs(e - c))\n",
    "    print(\"Autograd time: \", d_time, \"Sympy error: \", abs(d -c ))\n",
    "    \n",
    "    return c, d, e\n",
    "\n",
    "problem6()"
   ]
  },
  {
   "cell_type": "code",
   "execution_count": 106,
   "metadata": {},
   "outputs": [
    {
     "data": {
      "image/png": "[encoded data removed]",
      "text/plain": [
       "<matplotlib.figure.Figure at 0x118b38048>"
      ]
     },
     "metadata": {},
     "output_type": "display_data"
    }
   ],
   "source": [
    "#DIFFERENTIATION Problem 7\n",
    "from matplotlib import pyplot as plt\n",
    "\n",
    "def taylor_exp(x, tol= 0.0001):\n",
    "    result = 0\n",
    "    cur_term = x\n",
    "    i = 1\n",
    "    j = 0\n",
    "    \n",
    "    while (anp.abs(cur_term) >= tol):\n",
    "        cur_term = ((-1)**j)*(x**i)/np.math.factorial(i)\n",
    "        result += cur_term\n",
    "        j += 1\n",
    "        i += 2\n",
    "        \n",
    "    return result\n",
    "\n",
    "def problem7():\n",
    "    sin_taylor_exp_1 = grad(taylor_exp)\n",
    "    sin_taylor_exp_2 = grad(grad(taylor_exp))\n",
    "    xvec = anp.linspace(-anp.pi, anp.pi, 100)\n",
    "    yvec0 = anp.zeros((len(xvec),1))\n",
    "    yvec1 = anp.zeros((len(xvec),1))\n",
    "    yvec2 = anp.zeros((len(xvec),1))\n",
    "    for i in range(len(xvec)):\n",
    "        yvec1[i] = sin_taylor_exp_1(xvec[i])\n",
    "        yvec2[i] = sin_taylor_exp_2(xvec[i])\n",
    "        yvec0[i] = taylor_exp(xvec[i])\n",
    "    plt.plot(xvec, yvec0)\n",
    "    plt.plot(xvec, yvec1)\n",
    "    plt.plot(xvec, yvec2)\n",
    "    plt.show()\n",
    "    return\n",
    "\n",
    "problem7()"
   ]
  },
  {
   "cell_type": "code",
   "execution_count": 115,
   "metadata": {},
   "outputs": [
    {
     "data": {
      "text/plain": [
       "(array([[ 2.71828183,  3.        ],\n",
       "        [ 0.84147098,  3.        ]]), Matrix([\n",
       " [E*sin(1), E*cos(1) + 3],\n",
       " [  sin(1),            3]]))"
      ]
     },
     "execution_count": 115,
     "metadata": {},
     "output_type": "execute_result"
    }
   ],
   "source": [
    "#DIFFERENTIATION Problem 8\n",
    "from autograd import elementwise_grad\n",
    "from autograd import jacobian\n",
    "\n",
    "\n",
    "def problem8():\n",
    "    k = lambda q : anp.array([anp.exp(q[0])+(q[1]**3), 3*q[1] - anp.cos(q[0])])\n",
    "    jacobian_k = jacobian(k)\n",
    "    start_time = time.clock()   \n",
    "    \n",
    "    jacob_auto = jacobian_k(anp.array([1.,1.]))\n",
    "    auto_time = time.clock() - start_time\n",
    "   \n",
    "    x = sy.symbols(\"x\")\n",
    "    z = sy.symbols(\"z\")\n",
    "    \n",
    "    function = sy.lambdify(x, g(x), \"numpy\")\n",
    "    symat = sy.Matrix([sy.exp(x)*sy.sin(z) + z**3, 3*z - sy.cos(x)])\n",
    "    jacob_sy = symat.jacobian([x,z]).subs([(x,1),(z,1)])\n",
    "    \n",
    "    \n",
    "\n",
    "    return jacob_auto, jacob_sy\n",
    "\n",
    "problem8()"
   ]
  },
  {
   "cell_type": "markdown",
   "metadata": {},
   "source": [
    "# Integration"
   ]
  },
  {
   "cell_type": "code",
   "execution_count": 142,
   "metadata": {},
   "outputs": [
    {
     "data": {
      "text/plain": [
       "4373.33336"
      ]
     },
     "execution_count": 142,
     "metadata": {},
     "output_type": "execute_result"
    }
   ],
   "source": [
    "#INTEGRATION Problem 1\n",
    "def integrate1(g, a, b, N, method):\n",
    "    ans = 0\n",
    "    if method == \"midpoint\":\n",
    "        for i in range(N):\n",
    "            x = a + ((2*i + 1)*(b-a))/(2*N)\n",
    "            ans = ans + g(x)\n",
    "        ans = (b-a)/N * ans\n",
    "        \n",
    "    if method == \"trapezoid\":\n",
    "        for i in range(1,N):\n",
    "            x = a + i*(b-a)/N\n",
    "            ans = ans + g(x)\n",
    "        x0 = a\n",
    "        xn = b\n",
    "        ans = (b-a)/(2*N) * (g(x0) + 2*ans + g(xn))\n",
    "\n",
    "    if method == \"Simpsons\":\n",
    "        odd = 0\n",
    "        even = 0\n",
    "        for i in range(1, 2*N):\n",
    "            if ((i == 1) | (i%2 == 1)) & (i < 2*N):\n",
    "                x = a + i*(b-a)/(2*N)\n",
    "                odd = odd + g(x)\n",
    "            if (i%2 == 0) & (i < 2*N - 1):\n",
    "                x = a + i*(b-a)/(2*N)\n",
    "                even = even + g(x)\n",
    "        x0 = a \n",
    "        x2n = b\n",
    "        ans = (b-a)/(6*N)*(g(x0) + 4*odd + 2*even + g(x2n))\n",
    "    \n",
    "    return ans\n",
    "\n",
    "def g(x):\n",
    "    return 0.1*(x**4) - 1.5*(x**3) + 0.53*(x**2) + 2*x + 1\n",
    "\n",
    "integrate1(g, -10, 10, 100, method = \"Simpsons\")\n",
    "    "
   ]
  },
  {
   "cell_type": "code",
   "execution_count": null,
   "metadata": {
    "collapsed": true
   },
   "outputs": [],
   "source": [
    "def f8(x,y):\n",
    "    z = sy.zeros((2,1))\n",
    "    z[0] = (sy.exp(x))*sy.sin(y) + y**3\n",
    "    z[1] = 3*y - sy.cos(x)\n",
    "    return z\n",
    "\n",
    "\n"
   ]
  },
  {
   "cell_type": "code",
   "execution_count": 119,
   "metadata": {},
   "outputs": [
    {
     "data": {
      "text/plain": [
       "(array([-4. , -3.2, -2.4, -1.6, -0.8,  0. ,  0.8,  1.6,  2.4,  3.2,  4. ]),\n",
       " array([[  1.59108590e-04],\n",
       "        [  2.39602174e-03],\n",
       "        [  2.01950016e-02],\n",
       "        [  9.23195383e-02],\n",
       "        [  2.29508588e-01],\n",
       "        [  3.10843483e-01],\n",
       "        [  2.29508588e-01],\n",
       "        [  9.23195383e-02],\n",
       "        [  2.01950016e-02],\n",
       "        [  2.39602174e-03],\n",
       "        [  1.59108590e-04]]))"
      ]
     },
     "execution_count": 119,
     "metadata": {},
     "output_type": "execute_result"
    }
   ],
   "source": [
    "#INTEGRATION Problem 2\n",
    "from scipy.stats import norm\n",
    "\n",
    "def newtoncotes(mu, sigma, N, k):\n",
    "    z = np.linspace(mu - k*sigma, mu + k*sigma, N)\n",
    "    w = np.zeros((N,1))\n",
    "\n",
    "    for i in range(1,N-1):\n",
    "        zmin = (z[i-1] + z[i])/2\n",
    "        zmax = (z[i] + z[i+1])/2\n",
    "        w[i] = norm.cdf(zmax,loc = mu, scale = sigma) - norm.cdf(zmin,loc = mu, scale = sigma)\n",
    "        \n",
    "    w[0] = norm.cdf((z[0]+z[1])/2,loc = mu, scale = sigma)\n",
    "    w[N-1] = 1 - norm.cdf((z[N-2]+z[N-1])/2,loc = mu, scale = sigma)\n",
    "    \n",
    "    return z,w\n",
    "\n",
    "newtoncotes(0,1,11,4)\n",
    "    "
   ]
  },
  {
   "cell_type": "code",
   "execution_count": 124,
   "metadata": {},
   "outputs": [
    {
     "data": {
      "text/plain": [
       "(array([-4. , -3.2, -2.4, -1.6, -0.8,  0. ,  0.8,  1.6,  2.4,  3.2,  4. ]),\n",
       " array([[  1.59108590e-04],\n",
       "        [  2.39602174e-03],\n",
       "        [  2.01950016e-02],\n",
       "        [  9.23195383e-02],\n",
       "        [  2.29508588e-01],\n",
       "        [  3.10843483e-01],\n",
       "        [  2.29508588e-01],\n",
       "        [  9.23195383e-02],\n",
       "        [  2.01950016e-02],\n",
       "        [  2.39602174e-03],\n",
       "        [  1.59108590e-04]]))"
      ]
     },
     "execution_count": 124,
     "metadata": {},
     "output_type": "execute_result"
    }
   ],
   "source": [
    "#INTEGRATION Problem 3\n",
    "def lognormal(mu, sigma, N, k):\n",
    "    z = newtoncotes(mu, sigma, N, k)[0]\n",
    "    A = np.exp(z)\n",
    "    z = np.log(A)\n",
    "    w = np.zeros((N,1))\n",
    "\n",
    "    for i in range(1,N-1):\n",
    "        zmin = (z[i-1] + z[i])/2\n",
    "        zmax = (z[i] + z[i+1])/2\n",
    "        w[i] = norm.cdf(zmax,loc = mu, scale = sigma) - norm.cdf(zmin,loc = mu, scale = sigma)\n",
    "\n",
    "    w[0] = norm.cdf((z[0]+z[1])/2,loc = mu, scale = sigma)\n",
    "    w[N-1] = 1 - norm.cdf((z[N-2]+z[N-1])/2,loc = mu, scale = sigma)\n",
    "    \n",
    "    return z,w\n",
    "\n",
    "lognormal(0,1,11,4)"
   ]
  },
  {
   "cell_type": "code",
   "execution_count": 137,
   "metadata": {},
   "outputs": [
    {
     "name": "stdout",
     "output_type": "stream",
     "text": [
      "My Approximation:  [ 50005.03168291]\n",
      "Exact Value:  50011.0870085\n"
     ]
    }
   ],
   "source": [
    "#INTEGRATION Problem 4\n",
    "def expectedincome(mu, sigma, N, k):\n",
    "    z, w = lognormal(mu, sigma, N, k)\n",
    "    z = np.exp(z)\n",
    "    return np.dot(z,w)\n",
    "\n",
    "print(\"My Approximation: \", expectedincome(mu = 10.5, sigma = 0.8, N = 1000, k = 4))\n",
    "print(\"Exact Value: \", np.exp(10.5 + (0.8**2)/2))\n",
    "    "
   ]
  },
  {
   "cell_type": "code",
   "execution_count": 139,
   "metadata": {},
   "outputs": [
    {
     "name": "stdout",
     "output_type": "stream",
     "text": [
      "4373.33333333\n"
     ]
    }
   ],
   "source": [
    "#INTEGRATION Problem 5\n",
    "x1 = 0\n",
    "x2 = np.sqrt(3/5*1.0)\n",
    "x3 = -np.sqrt(3/5*1.0)\n",
    "w1 = 8/9*1.0\n",
    "w2 = 5/9*1.0\n",
    "w3 = 5/9*1.0\n",
    "\n",
    "def g(x):\n",
    "    return 0.1*(x**4) - 1.5*(x**3) + 0.53*(x**2) + 2*x + 1\n",
    "\n",
    "def gaussquad(g,a,b):\n",
    "    return (b-a)/2 * ((w1*g((b-a)/2*x1 + (a+b)/2)) + (w2*g((b-a)/2*x2 + (a+b)/2) + (a+b)/2) + (w3*g((b-a)/2*x3 + (a+b)/2)))\n",
    "\n",
    "print(\"Gaussian Quadrature: \", gaussquad(g,-10,10))"
   ]
  },
  {
   "cell_type": "code",
   "execution_count": 144,
   "metadata": {},
   "outputs": [
    {
     "name": "stdout",
     "output_type": "stream",
     "text": [
      "4373.333333333334\n"
     ]
    }
   ],
   "source": [
    "#INTEGRATION Problem 6\n",
    "from scipy import integrate\n",
    "print(integrate.quad(g, -10,10)[0])"
   ]
  },
  {
   "cell_type": "code",
   "execution_count": 162,
   "metadata": {},
   "outputs": [
    {
     "name": "stdout",
     "output_type": "stream",
     "text": [
      "3.141502370851011\n",
      "Smallest number of draws:  4008\n"
     ]
    }
   ],
   "source": [
    "#INTEGRATION Problem 7\n",
    "#let omega be a 1x2 array [a,b]\n",
    "def g1(x1,y1):\n",
    "    if ((x1**2) + (y1**2) <= 1):\n",
    "        return 1\n",
    "    else:\n",
    "        return 0\n",
    "\n",
    "omega = np.array([-1,1])\n",
    "def montecarlo(g, omega, N):\n",
    "    a = omega[0]\n",
    "    b = omega[1]\n",
    "    \n",
    "    xy = np.random.rand(N,2)*(b-a) - 1\n",
    "    summed = 0\n",
    "    for i in range(N):\n",
    "        summed = summed + g(xy[i,0], xy[i,1])\n",
    "        \n",
    "    pi = (4/N)*summed\n",
    "    \n",
    "    return pi\n",
    "\n",
    "n = 1000\n",
    "delta = 5\n",
    "while (delta != 0):\n",
    "    estimate = montecarlo(g1, omega, n)\n",
    "    delta = round(estimate, 5) - 3.1415\n",
    "    n = n + 1\n",
    "print(estimate)\n",
    "print(\"Smallest number of draws: \", n)"
   ]
  },
  {
   "cell_type": "code",
   "execution_count": 14,
   "metadata": {},
   "outputs": [
    {
     "name": "stdout",
     "output_type": "stream",
     "text": [
      "[2 3 5 7]\n"
     ]
    },
    {
     "data": {
      "text/plain": [
       "array([ 1732.05080757])"
      ]
     },
     "execution_count": 14,
     "metadata": {},
     "output_type": "execute_result"
    }
   ],
   "source": [
    "#INTEGRATION Problem 8\n",
    "\n",
    "def prime(i, primes):\n",
    "    for prime in primes:\n",
    "        if not (i == prime or i % prime):\n",
    "            return False\n",
    "    primes.add(i)\n",
    "    return i\n",
    "\n",
    "def primegen(n):\n",
    "    primes = set([2])\n",
    "    i, p = 2, 0\n",
    "    while True:\n",
    "        if prime(i, primes):\n",
    "            p += 1\n",
    "            if p == n:\n",
    "                return np.array(list(primes))\n",
    "        i += 1\n",
    "\n",
    "print(primegen(4))\n",
    "def nthelement(name, N, d):\n",
    "    primes = primegen(d)\n",
    "    if name == \"Weyl\":\n",
    "        weyl = np.zeros((d,1))\n",
    "        for i in range(d):\n",
    "            weyl[i] = N*(primes[i]**0.5)\n",
    "        return weyl\n",
    "    \n",
    "    if name == \"Haber\":\n",
    "        haber = np.zeros((d,1))\n",
    "        for i in range(d):\n",
    "            haber[i] = N*(N+1)/2*(primes[i]**0.5)\n",
    "        return haber\n",
    "    \n",
    "    if name == \"Niederreiter\":\n",
    "        niederreiter = np.zeros((d,1))\n",
    "        for i in range(0,d):\n",
    "            niederreiter[i] = N*(2**(i+1/(N+1)))\n",
    "        return niederreiter\n",
    "    \n",
    "    if name == \"Baker\":\n",
    "        baker = np.zeros((d,1))\n",
    "        for i in range(d):\n",
    "            baker[i] = N*np.exp(primes[i])\n",
    "        return baker\n",
    "\n",
    "nthelement(\"Weyl\", 1000, 5)[1]"
   ]
  },
  {
   "cell_type": "code",
   "execution_count": 198,
   "metadata": {},
   "outputs": [
    {
     "name": "stdout",
     "output_type": "stream",
     "text": [
      "[2 3 5 7]\n"
     ]
    },
    {
     "data": {
      "text/plain": [
       "array([[ 0.61231024],\n",
       "       [ 0.29960525]])"
      ]
     },
     "execution_count": 198,
     "metadata": {},
     "output_type": "execute_result"
    }
   ],
   "source": [
    "#INTEGRATION Problem 8\n",
    "\n",
    "def prime(i, primes):\n",
    "    for prime in primes:\n",
    "        if not (i == prime or i % prime):\n",
    "            return False\n",
    "    primes.add(i)\n",
    "    return i\n",
    "\n",
    "def primegen(n):\n",
    "    primes = set([2])\n",
    "    i, p = 2, 0\n",
    "    while True:\n",
    "        if prime(i, primes):\n",
    "            p += 1\n",
    "            if p == n:\n",
    "                return np.array(list(primes))\n",
    "        i += 1\n",
    "\n",
    "print(primegen(4))\n",
    "def nthelement(name, N, d):\n",
    "    primes = primegen(d)\n",
    "    if name == \"Weyl\":\n",
    "        weyl = N*(primes**0.5)\n",
    "        weyl = weyl - np.floor(weyl)\n",
    "        return weyl\n",
    "    \n",
    "    if name == \"Haber\":\n",
    "        haber = N*(N+1)/2*(primes**0.5)\n",
    "        haber = haber - np.floor(haber)\n",
    "        return haber\n",
    "    \n",
    "    if name == \"Niederreiter\":\n",
    "        niederreiter = np.zeros((d,1))\n",
    "        for i in range(0,d):\n",
    "            niederreiter[i] = N*(2**((i+1)/(N+1)))\n",
    "        niederreiter = niederreiter - np.floor(niederreiter)\n",
    "        return niederreiter\n",
    "    \n",
    "    if name == \"Baker\":\n",
    "        baker = N*np.exp(primes)\n",
    "        baker = baker - np.floor(baker)\n",
    "        return baker\n",
    "\n",
    "nthelement(\"Niederreiter\", 5, 2) #5th array in niederreiter sequence"
   ]
  },
  {
   "cell_type": "code",
   "execution_count": 207,
   "metadata": {},
   "outputs": [
    {
     "name": "stdout",
     "output_type": "stream",
     "text": [
      "3.1414982164090364\n",
      "Smallest number of draws:  1683\n"
     ]
    }
   ],
   "source": [
    "#INTEGRATION Problem 9\n",
    "#let omega be a 1x2 array [a,b]\n",
    "def g1(x1,y1):\n",
    "    if ((x1**2) + (y1**2) <= 1):\n",
    "        return 1\n",
    "    else:\n",
    "        return 0\n",
    "\n",
    "omega = np.array([-1,1])\n",
    "def piapprox(g, omega, name, n):\n",
    "    a = omega[0]\n",
    "    b = omega[1]\n",
    "    delta = 5 \n",
    "    summed = 0\n",
    "    for i in range(n):\n",
    "        xy = nthelement(name, i, 2)\n",
    "        summed = summed + g(xy[0], xy[1])\n",
    "    pi2 = (4/n)*summed\n",
    "    \n",
    "    return pi2\n",
    "\n",
    "n = 1\n",
    "delta = 5\n",
    "while (delta != 0):\n",
    "    estimate = piapprox(g, omega, \"Weyl\", n)\n",
    "    delta = round(estimate, 5) - 3.1415\n",
    "    n = n + 1\n",
    "print(estimate)\n",
    "print(\"Smallest number of draws: \", n)"
   ]
  },
  {
   "cell_type": "markdown",
   "metadata": {},
   "source": [
    "# Line Search"
   ]
  },
  {
   "cell_type": "code",
   "execution_count": 15,
   "metadata": {},
   "outputs": [
    {
     "data": {
      "text/plain": [
       "(15, 1.3861587121128613)"
      ]
     },
     "execution_count": 15,
     "metadata": {},
     "output_type": "execute_result"
    }
   ],
   "source": [
    "import numpy as np\n",
    "from scipy import linalg as la\n",
    "from scipy import optimize\n",
    "from scipy.misc import derivative\n",
    "from matplotlib import pyplot as plt\n",
    "import cmath\n",
    "import math\n",
    "from scipy.sparse import dok_matrix\n",
    "import sympy as sy\n",
    "from matplotlib import pyplot as plt\n",
    "from autograd import grad\n",
    "import autograd.numpy as anp\n",
    "from autograd import jacobian\n",
    "\n",
    "#LINE Problem 1\n",
    "\n",
    "def L1(x):\n",
    "    return np.exp(x) - 4*x\n",
    "\n",
    "def golden(f, a, b, niter):\n",
    "    rho = (1/2)*(3-np.sqrt(5))\n",
    "    a = a + rho*(b-a)\n",
    "    b = a + (1-rho)*(b-a)\n",
    "    n = 0\n",
    "    midpoint = (1/2)*(a + b)\n",
    "\n",
    "    while (abs(b-a) > 0.001) & (n < niter):\n",
    "        \n",
    "        if f(a) >= f(b):\n",
    "            a = a + rho*(b-a)\n",
    "            midpoint = (1/2)*(a + b)\n",
    "        elif f(a) <= f(b):\n",
    "            b = a + (1-rho)*(b-a)\n",
    "            midpoint = (1/2)*(a + b)\n",
    "            \n",
    "        n = n + 1\n",
    "        \n",
    "    return n, midpoint \n",
    "\n",
    "golden(L1, 0, 3, 1000)"
   ]
  },
  {
   "cell_type": "code",
   "execution_count": 16,
   "metadata": {},
   "outputs": [
    {
     "data": {
      "text/plain": [
       "(12, 1.2249755859375)"
      ]
     },
     "execution_count": 16,
     "metadata": {},
     "output_type": "execute_result"
    }
   ],
   "source": [
    "#LINE Problem 2\n",
    "\n",
    "def bisect(f, a, b, niter):\n",
    "    x = (b+a)/2\n",
    "    n = 0\n",
    "    \n",
    "    while(abs(b-a) > 0.001) & (n < niter):\n",
    "        fprime = derivative(f, x)\n",
    "        if fprime >= 0:\n",
    "            b = x\n",
    "        elif fprime <= 0:\n",
    "            a = x\n",
    "        x = (b+a)/2\n",
    "        n = n + 1\n",
    "        \n",
    "    return n, x\n",
    "\n",
    "bisect(L1, 0, 3, 1000)"
   ]
  },
  {
   "cell_type": "code",
   "execution_count": 17,
   "metadata": {},
   "outputs": [
    {
     "data": {
      "text/plain": [
       "(48, -1.4473142236328096)"
      ]
     },
     "execution_count": 17,
     "metadata": {},
     "output_type": "execute_result"
    }
   ],
   "source": [
    "#LINE Problem 3\n",
    "\n",
    "def L2(x):\n",
    "    return (x**2) + np.sin(5*x)\n",
    "\n",
    "def newton(fprime, fprimeprime, initial):\n",
    "    xold = initial\n",
    "    xnew = xold - fprime(xold)/fprimeprime(xold)\n",
    "    n = 1\n",
    "    diff = 5\n",
    "    while(diff > 1e-5):\n",
    "        xold = np.copy(xnew)\n",
    "        xnew = xold - (fprime(xold)/fprimeprime(xold))\n",
    "        diff = np.linalg.norm(xnew - xold)/np.linalg.norm(xold)\n",
    "        n = n + 1\n",
    "    return n, xnew\n",
    "\n",
    "def L2prime(x):\n",
    "    return 2*x + 5*np.cos(5*x)\n",
    "\n",
    "def L2primeprime(x):\n",
    "    return 2 - 25*np.sin(5*x)\n",
    "\n",
    "newton(L2prime, L2primeprime, 0)\n",
    "\n"
   ]
  },
  {
   "cell_type": "code",
   "execution_count": 18,
   "metadata": {},
   "outputs": [
    {
     "name": "stdout",
     "output_type": "stream",
     "text": [
      "(8, -0.77697898997149095)\n",
      "(3, -0.16367722112811267)\n",
      "(5, -0.1636772212262588)\n"
     ]
    }
   ],
   "source": [
    "#LINE Problem 4\n",
    "\n",
    "def L3(x):\n",
    "    return (x**2) + np.sin(x) + np.sin(10*x)\n",
    "\n",
    "def L3prime(x):\n",
    "    return 2*x + np.cos(x) + 10*np.cos(10*x)\n",
    "\n",
    "def secant(fprime, x1, x2):\n",
    "    xold = x1\n",
    "    xoldold = x2\n",
    "    fppapprox = (fprime(xold) - fprime(xoldold))/(xold - xoldold)\n",
    "    xnew = xold - fprime(xold)/fppapprox\n",
    "    n = 1\n",
    "    diff = 5\n",
    "    while(diff > 1e-5):\n",
    "        xoldold = np.copy(xold)\n",
    "        xold = np.copy(xnew)\n",
    "        fppapprox = (fprime(xold) - fprime(xoldold))/(xold - xoldold)\n",
    "        xnew = xold - fprime(xold)/fppapprox\n",
    "        diff = abs(xnew - xold)/abs(xold)\n",
    "        n = n + 1\n",
    "    return n, xnew\n",
    "\n",
    "print(secant(L3prime, 0, -1))\n",
    "print(secant(L3prime, -0.15, -0.2))\n",
    "print(secant(L3prime, -0.15, -1))"
   ]
  },
  {
   "cell_type": "code",
   "execution_count": 19,
   "metadata": {},
   "outputs": [
    {
     "name": "stdout",
     "output_type": "stream",
     "text": [
      "MY ANSWER:  0.125\n",
      "NUMPY's ANSWER:  0.125649913345\n"
     ]
    }
   ],
   "source": [
    "#LINE Problem 5\n",
    "\n",
    "def backtrack(f, jacob, x, p):\n",
    "    alpha = 1\n",
    "    c = 0.5\n",
    "    rho = 0.5\n",
    "    \n",
    "    value = jacob(x).T @ p\n",
    "    while (f(x + alpha*p) > f(x) + c*alpha*value):\n",
    "        alpha = rho*alpha\n",
    "    \n",
    "    return alpha\n",
    "\n",
    "from scipy.optimize import line_search\n",
    "\n",
    "def objective(x):\n",
    "    return x[0]**2 + 4*x[1]**2\n",
    "\n",
    "def grad(x):\n",
    "    return np.array([2*x[0], 8*x[1]])\n",
    "\n",
    "x = np.array([1., 3.])\n",
    "p = -grad(x)\n",
    "a = line_search(objective, grad, x, p)[0]\n",
    "print(\"MY ANSWER: \", backtrack(objective, grad, x, p))\n",
    "print(\"NUMPY's ANSWER: \", a)"
   ]
  },
  {
   "cell_type": "markdown",
   "metadata": {},
   "source": [
    "# Newton's Method"
   ]
  },
  {
   "cell_type": "code",
   "execution_count": 20,
   "metadata": {},
   "outputs": [
    {
     "name": "stdout",
     "output_type": "stream",
     "text": [
      "0\n",
      "1.5\n",
      "1\n",
      "1.3472222222222223\n",
      "2\n",
      "1.3171376938034396\n",
      "3\n",
      "1.3160753007540056\n",
      "4\n",
      "1.3160740129543826\n",
      "The Value = 1.3160740129543826\n",
      "end\n",
      "True\n"
     ]
    }
   ],
   "source": [
    "#NEWTON Problem 1\n",
    "\n",
    "f = lambda x : x**4 - 3\n",
    "f_prime = lambda x : 4*x**3\n",
    "\n",
    "def newtonprob1(f, f_prime, x0, N, tol = 1e-5):\n",
    "    for i in range(N):\n",
    "        print(i)\n",
    "        x1 = x0 - (f(x0)/f_prime(x0))\n",
    "        print(x1)\n",
    "        if la.norm(x1 - x0) < tol:\n",
    "            print(\"The Value =\", x1)\n",
    "            print(\"end\")\n",
    "            return x1\n",
    "        else:\n",
    "            x0 = x1\n",
    "\n",
    "x1 = newtonprob1(f, f_prime, 1, 10000, 1e-5)\n",
    "optimize.newton(f, 1)\n",
    "\n",
    "print (np.allclose(x1, optimize.newton(f, 1)))"
   ]
  },
  {
   "cell_type": "code",
   "execution_count": 21,
   "metadata": {},
   "outputs": [
    {
     "name": "stdout",
     "output_type": "stream",
     "text": [
      "The Value = [ 0.03877843]\n",
      "end\n",
      "[ 0.03877843]\n"
     ]
    }
   ],
   "source": [
    "#NEWTON Problem 2\n",
    "def newtonprob2(f, f_prime, x0, N, tol = 1e-5):\n",
    "    for i in range(N):\n",
    "        x1 = x0 - (f(x0)/jacobian_r_fn(x0)[0,0])\n",
    "        if la.norm(x1 - x0) < tol:\n",
    "            print(\"The Value =\", x1)\n",
    "            print(\"end\")\n",
    "            return x1\n",
    "        else:\n",
    "            x0 = x1\n",
    "    return\n",
    "            \n",
    "N1 = 30\n",
    "N2 = 20\n",
    "P1 = 2000\n",
    "P2 = 8000\n",
    "\n",
    "r0 = anp.array([.11])\n",
    "r_fn = lambda r : anp.array([P2*(1 - (1 + r[0])**(-N2)) - P1*((1+r[0])**N1 - 1)])\n",
    "jacobian_r_fn = jacobian(r_fn)\n",
    "\n",
    "print(newtonprob2(r_fn, jacobian_r_fn, r0, 10000, 1e-10))\n",
    "\n"
   ]
  },
  {
   "cell_type": "code",
   "execution_count": 22,
   "metadata": {},
   "outputs": [
    {
     "name": "stdout",
     "output_type": "stream",
     "text": [
      "False\n",
      "False\n",
      "Value:  -6.51346510752e-12\n",
      "End\n",
      "-6.51346510752e-12\n"
     ]
    }
   ],
   "source": [
    "#NEWTON Problem 3\n",
    "f2 = lambda x : x**(1/3)\n",
    "f2_prime = lambda x : (1/3) * x ** (-2/3)\n",
    "\n",
    "\n",
    "f_modified = lambda x: np.sign(x) * np.power(np.abs(x), 1/3) \n",
    "f_modified_prime_plus = lambda x : np.cos(x) * np.power(np.abs(x), 1/3) \\\n",
    "                         + np.sign(x) * (1/3) * np.power(np.abs(x), -2/3)\n",
    "f_modified_prime_minus = lambda x : np.cos(x) * np.power(np.abs(x), 1/3) \\\n",
    "                         - np.sign(x) * (1/3) * np.power(np.abs(x), -2/3)\n",
    "\n",
    "\n",
    "f_2prime = lambda x : 12*x**2\n",
    "\n",
    "def newtonprob3(f, f_modified_prime_plus, f_modified_prime_minus, x0, N, tol = 1e-5, alpha = 1):\n",
    "    for i in range(N):\n",
    "        if x0 >= 0:\n",
    "            x1 = x0 - alpha * (f_modified(x0)/f_modified_prime_plus(x0))\n",
    "        else:\n",
    "            x1 = x0 - alpha * (f_modified(x0)/f_modified_prime_minus(x0))\n",
    "        \n",
    "        if abs(x1 - x0) < tol:\n",
    "            print(\"Value: \", x1)\n",
    "            print(\"End\")\n",
    "            return x1\n",
    "        elif i == N - 1:\n",
    "            return False\n",
    "        else:\n",
    "            x0 = x1\n",
    "    \n",
    "    return\n",
    "\n",
    "print(newtonprob3(f2, f2_prime, f2_prime,  -1 ,10000, 1e-10, 0.1))\n",
    "print(newtonprob3(f_modified, f_modified_prime_plus, f_modified_prime_minus, 0.01 ,10000, 1e-10, 1))\n",
    "print(newtonprob3(f_modified, f_modified_prime_plus, f_modified_prime_minus, 0.01 ,10000, 1e-10, 0.4))"
   ]
  },
  {
   "cell_type": "code",
   "execution_count": 23,
   "metadata": {},
   "outputs": [
    {
     "data": {
      "image/png": "[encoded data removed]",
      "text/plain": [
       "<matplotlib.figure.Figure at 0x122563e80>"
      ]
     },
     "metadata": {},
     "output_type": "display_data"
    }
   ],
   "source": [
    "#NEWTON Problem 4\n",
    "def newtonprob4(f_modified, f_modified_prime_plus, f_modified_prime_minus, x0, N, tol = 1e-5, alpha = 1):\n",
    "    for i in range(N):\n",
    "        if x0 >= 0:\n",
    "            x1 = x0 - alpha * (f_modified(x0)/f_modified_prime_plus(x0))\n",
    "        else:\n",
    "            x1 = x0 - alpha * (f_modified(x0)/f_modified_prime_minus(x0))\n",
    "        \n",
    "        if abs(x1 - x0) < tol:\n",
    "            return x1, i\n",
    "        elif i == N - 1:\n",
    "            return False, np.inf\n",
    "        else:\n",
    "            x0 = x1\n",
    "    \n",
    "    return\n",
    "\n",
    "def alpha_plot(f_modified, f_modified_prime_plus, f_modified_prime_minus):\n",
    "    iteration = []\n",
    "    alpha = []\n",
    "    for i in range(1000):\n",
    "        alpha.append(i/1000)\n",
    "        x1, j = newtonprob4(f_modified, f_modified_prime_plus, f_modified_prime_minus, 0.01, 1000, 1e-5, alpha[i])\n",
    "        iteration.append(j)\n",
    "    return alpha, iteration\n",
    "        \n",
    "alpha, iteration = alpha_plot(f_modified, f_modified_prime_plus, f_modified_prime_minus)\n",
    "plt.plot(alpha, iteration)\n",
    "plt.ylim(0,100)\n",
    "plt.show()"
   ]
  },
  {
   "cell_type": "code",
   "execution_count": 24,
   "metadata": {},
   "outputs": [
    {
     "name": "stdout",
     "output_type": "stream",
     "text": [
      "[-0.00001883  2.00001883]\n",
      "-2.09894809985e-06\n"
     ]
    }
   ],
   "source": [
    "#NEWTON Problem 5\n",
    "def newtonprob5(f_modified, f_modified_prime_plus, f_modified_prime_minus, x0, N, tol = 1e-5, alpha = 1):\n",
    "\n",
    "    Df =  np.zeros((np.size(x0), np.size(x0)))\n",
    "    for i in range(N):\n",
    "        if np.isscalar(x0):\n",
    "            if x0 >= 0:\n",
    "                x1 = x0 - alpha * (f_modified(x0)/f_modified_prime_plus(x0))\n",
    "            else:\n",
    "                x1 = x0 - alpha * (f_modified(x0)/f_modified_prime_minus(x0))\n",
    "                \n",
    "            if abs(x1 - x0) < tol:\n",
    "                return x1\n",
    "            elif i == N - 1:\n",
    "                return False\n",
    "            else:\n",
    "                x0 = x1\n",
    "              \n",
    "        else:\n",
    "            yk = la.solve(jacobian_f(x0), f_modified(x0))\n",
    "            x1 = x0 - alpha * yk\n",
    "            if la.norm(x1 - x0) < tol:\n",
    "                return x1\n",
    "            elif i == N - 1:\n",
    "                return False\n",
    "            else:\n",
    "                x0 = x1\n",
    "    return\n",
    "  \n",
    "x0 =  anp.array([-0.25, 0.0005005])              \n",
    "f = lambda x: anp.array([x[0]**2, x[0]+x[1] - 2])\n",
    "jacobian_f = jacobian(f)\n",
    "\n",
    "print(newtonprob5(f, jacobian_f, jacobian_f, x0, 10000, 1e-5, 0.5))\n",
    "print(newtonprob5(f_modified, f_modified_prime_plus, f_modified_prime_minus, 1, 10000, 1e-5, 0.5))"
   ]
  },
  {
   "cell_type": "code",
   "execution_count": 25,
   "metadata": {},
   "outputs": [
    {
     "name": "stdout",
     "output_type": "stream",
     "text": [
      "[-0. -1.]\n",
      "[-0.  1.]\n",
      "[ 3.74999408  0.24999754]\n"
     ]
    }
   ],
   "source": [
    "#NEWTON Problem 6\n",
    "x0 =  anp.array([-0.25, 0.0005005])              \n",
    "f = lambda x: anp.array( [5*x[0]*x[1] - x[0]*(1+x[1]), -1*x[0]*x[1] + (1-x[1])*(1+x[1]) ])\n",
    "jacobian_f = jacobian(f)\n",
    "\n",
    "print(newtonprob5(f, jacobian_f, jacobian_f, x0, 10000, 1e-5, 1))\n",
    "\n",
    "x0 =  anp.array([-0.0000311, 0.0005005])              \n",
    "f = lambda x: anp.array( [5*x[0]*x[1] - x[0]*(1+x[1]), -1*x[0]*x[1] + (1-x[1])*(1+x[1]) ])\n",
    "jacobian_f = jacobian(f)\n",
    "\n",
    "print(newtonprob5(f, jacobian_f, jacobian_f, x0, 10000, 1e-5, 1))\n",
    "\n",
    "x0 =  anp.array([-0.04411, 0.24445])              \n",
    "f = lambda x: anp.array( [5*x[0]*x[1] - x[0]*(1+x[1]), -1*x[0]*x[1] + (1-x[1])*(1+x[1]) ])\n",
    "jacobian_f = jacobian(f)\n",
    "\n",
    "print(newtonprob5(f, jacobian_f, jacobian_f, x0, 10000, 1e-5, 0.55))"
   ]
  },
  {
   "cell_type": "code",
   "execution_count": 26,
   "metadata": {},
   "outputs": [
    {
     "name": "stdout",
     "output_type": "stream",
     "text": [
      "Value:  [[-0.5-0.8660254j -0.5-0.8660254j -0.5-0.8660254j ...,  1.0+0.j         1.0+0.j\n",
      "   1.0+0.j       ]\n",
      " [-0.5-0.8660254j -0.5-0.8660254j -0.5-0.8660254j ...,  1.0+0.j         1.0+0.j\n",
      "   1.0+0.j       ]\n",
      " [-0.5-0.8660254j -0.5-0.8660254j -0.5-0.8660254j ...,  1.0+0.j         1.0+0.j\n",
      "   1.0+0.j       ]\n",
      " ..., \n",
      " [-0.5+0.8660254j -0.5+0.8660254j -0.5+0.8660254j ...,  1.0+0.j         1.0+0.j\n",
      "   1.0+0.j       ]\n",
      " [-0.5+0.8660254j -0.5+0.8660254j -0.5+0.8660254j ...,  1.0+0.j         1.0+0.j\n",
      "   1.0+0.j       ]\n",
      " [-0.5+0.8660254j -0.5+0.8660254j -0.5+0.8660254j ...,  1.0+0.j         1.0+0.j\n",
      "   1.0+0.j       ]]\n",
      "End\n"
     ]
    },
    {
     "data": {
      "image/png": "[encoded data removed]",
      "text/plain": [
       "<matplotlib.figure.Figure at 0x11fb70d68>"
      ]
     },
     "metadata": {},
     "output_type": "display_data"
    },
    {
     "name": "stdout",
     "output_type": "stream",
     "text": [
      "Value:  [[-1.+0.j -1.+0.j -1.+0.j ...,  1.+0.j  1.+0.j  1.+0.j]\n",
      " [-1.+0.j -1.+0.j -1.+0.j ...,  1.+0.j  1.+0.j  1.+0.j]\n",
      " [-1.+0.j -1.+0.j -1.+0.j ...,  1.+0.j  1.+0.j  1.+0.j]\n",
      " ..., \n",
      " [-1.+0.j -1.+0.j -1.+0.j ...,  1.+0.j  1.+0.j  1.+0.j]\n",
      " [-1.+0.j -1.+0.j -1.+0.j ...,  1.+0.j  1.+0.j  1.+0.j]\n",
      " [-1.+0.j -1.+0.j -1.+0.j ...,  1.+0.j  1.+0.j  1.+0.j]]\n",
      "End\n"
     ]
    },
    {
     "data": {
      "image/png": "[encoded data removed]",
      "text/plain": [
       "<matplotlib.figure.Figure at 0x11fb74f28>"
      ]
     },
     "metadata": {},
     "output_type": "display_data"
    }
   ],
   "source": [
    "#NEWTON Problem 7\n",
    "def newtonmesh(f, f_prime, x0, N, tol = 1e-5):\n",
    "    for i in range(N):\n",
    "        x1 = x0 - (f(x0)/f_prime(x0))\n",
    "        if la.norm(x1 - x0) < tol:\n",
    "            print(\"Value: \", x1)\n",
    "            print(\"End\")\n",
    "            return x1\n",
    "        else:\n",
    "            x0 = x1\n",
    "    return\n",
    "           \n",
    "def newtonprob7(f, Df, r_min, r_max, i_min, i_max, rec, iters, tol):\n",
    "    x_real = np.linspace(r_min, r_max, rec) \n",
    "    x_imag = np.linspace(i_min, i_max, rec) \n",
    "    X_real, X_imag = np.meshgrid(x_real, x_imag)\n",
    "    X_0 = X_real + 1j*X_imag\n",
    "    \n",
    "\n",
    "    X_1 = X_0 - f(X_0)/Df(X_0)\n",
    "\n",
    "    result = newtonmesh(f, Df, X_0, iters, tol)\n",
    "    result_round = np.round(result, 8) \n",
    "    y = np.unique(result_round)\n",
    "    howmanyroots = len(y)\n",
    "    \n",
    "    Y = np.zeros((rec, rec))\n",
    "    for j in range(rec):\n",
    "        for k in range(rec):\n",
    "            Y[j, k]  = np.where(y == result_round[j, k])[0]\n",
    "\n",
    "    plt.pcolormesh(x_real, x_imag, Y, cmap=\"brg\")\n",
    "    plt.show()\n",
    "    \n",
    "f7 = lambda x: x**3 - 1\n",
    "Df7 = lambda x: 3*x**2\n",
    "\n",
    "newtonprob7(f7, Df7, -1.5, 1.5, -1.5, 1.5, 500, 10000, 1e-10)\n",
    "\n",
    "f7_2 = lambda x: x**3 - x\n",
    "Df7_2 = lambda x: 3*x**2 - 1\n",
    "\n",
    "newtonprob7(f7_2, Df7_2, -1.5, 1.5, -1.5, 1.5, 500, 10000, 1e-10)"
   ]
  },
  {
   "cell_type": "markdown",
   "metadata": {},
   "source": [
    "# Simplex"
   ]
  },
  {
   "cell_type": "code",
   "execution_count": 27,
   "metadata": {},
   "outputs": [
    {
     "data": {
      "text/plain": [
       "(5.2000000000000002,\n",
       " {0: 1.6000000000000001, 1: 0.19999999999999982, 2: 0.59999999999999964},\n",
       " {3: 0.0, 4: 0.0})"
      ]
     },
     "execution_count": 27,
     "metadata": {},
     "output_type": "execute_result"
    }
   ],
   "source": [
    "#SIMPLEX\n",
    "\n",
    "class SimplexSolver(object):\n",
    "    \n",
    "    def __init__(self, c, A, b):\n",
    "        self.c = c\n",
    "        self.A = A\n",
    "        self.b = b\n",
    "        self.m, self.n = A.shape\n",
    "        \n",
    "        origin = np.zeros(A.shape[1])\n",
    "        is_not_feasible = (A @ origin > b).all()\n",
    "        \n",
    "        if is_not_feasible:\n",
    "            raise ValueError('Origin is not in range of A.')\n",
    "        else:\n",
    "            self.tracklist = list(range(self.n, self.m+self.n))\n",
    "            self.tracklist += range(self.n)\n",
    "\n",
    "        \n",
    "    def make_tableau(self):\n",
    "        A_bar = np.concatenate([A, np.identity(self.m)], axis=1)\n",
    "        c_bar = np.concatenate([c, np.zeros(self.m)])\n",
    "\n",
    "        tab1 = np.concatenate([np.array([0]), -1*c_bar, np.array([1])])\n",
    "        tab2 = np.concatenate([b.reshape(self.m ,1), A_bar,\n",
    "                               np.zeros((self.m, 1))], axis=1)\n",
    "\n",
    "        self.tableau = np.concatenate([tab1.reshape(1, len(tab1)),\n",
    "                                       tab2],\n",
    "                                      axis=0)\n",
    "    def blands_rule(self):\n",
    "        # to determine the pivot column\n",
    "        # find the first negativ element in the top row\n",
    "        neg_values = np.where(self.tableau[0] < 0)\n",
    "        entry = neg_values[0][0] \n",
    "        self.entry = entry        # equal to pivot column in tableau\n",
    "        \n",
    "        # find element in this column on which to pivot\n",
    "        if (self.tableau[:,entry + 1] < 0).all():\n",
    "            raise ValueError('Problem is unbounded. There exists no solution.')\n",
    "        \n",
    "        else:\n",
    "            T_ks = list(np.where(self.tableau[:, entry ] > 0)[0])\n",
    "            self.T_ks = T_ks\n",
    "            \n",
    "            T_ratios = (self.tableau[T_ks, entry-1] / \n",
    "                        self.tableau[T_ks, entry])\n",
    "            \n",
    "            \n",
    "            self.T_ratios = T_ratios\n",
    "            self.leave = solv.T_ks[np.argmin(solv.T_ratios)] + 1\n",
    "    \n",
    "    def swap(self):\n",
    "        self.tracklist[self.leave], self.tracklist[self.entry] = self.tracklist[self.entry], self.tracklist[self.leave]\n",
    "            \n",
    "    def pivot(self):\n",
    "        pivot_value = self.tableau[self.leave-1, self.entry]\n",
    "        # leave-1 corresponds to the pivot row in the tableau\n",
    "        self.tableau[self.leave - 1,:] = (self.tableau[self.leave - 1,:] /\n",
    "                        self.tableau[self.leave-1, self.entry])\n",
    "        \n",
    "        rows_to_zero_out = [x for x in range(len(self.tableau)) if x != self.leave - 1]\n",
    "        \n",
    "        factors = self.tableau[:,self.entry][rows_to_zero_out]\n",
    "        \n",
    "        self.tableau[[rows_to_zero_out]] -= np.outer(factors,\n",
    "                                                     self.tableau[self.leave-1])\n",
    "        \n",
    "    def one_step(self):\n",
    "            \n",
    "        self.blands_rule()\n",
    "        self.swap()\n",
    "        self.pivot()\n",
    "        \n",
    "    def solve(self):\n",
    "        self.make_tableau()\n",
    "        first_row_is_not_pos = (self.tableau[0] < 0).any()\n",
    "        while first_row_is_not_pos:\n",
    "            self.one_step()\n",
    "            first_row_is_not_pos = (self.tableau[0] < 0).any()\n",
    "        \n",
    "        objective_value = self.tableau[0,0]\n",
    "        basic_indices = self.tracklist[:self.m]\n",
    "        basics = self.tableau[1:,0]\n",
    "        \n",
    "        nonbasic_indices =  self.tracklist[self.m:]\n",
    "        nonbasics = np.zeros(len(nonbasic_indices))\n",
    "        np.set_printoptions(suppress=True)\n",
    "        return (objective_value, \n",
    "                dict(zip(self.tracklist[:self.m], basics)),\n",
    "                dict(zip(nonbasic_indices, nonbasics)))\n",
    "    \n",
    "c = np.array([3., 2])\n",
    "b = np.array([2., 5, 7])\n",
    "A = np.array([[1., -1], [3, 1], [4, 3]])\n",
    "solv = SimplexSolver(c, A, b)\n",
    "\n",
    "\n",
    "solution = solv.solve()\n",
    "solution"
   ]
  },
  {
   "cell_type": "markdown",
   "metadata": {
    "collapsed": true
   },
   "source": [
    "# Iterative Solvers"
   ]
  },
  {
   "cell_type": "code",
   "execution_count": 1,
   "metadata": {
    "collapsed": true
   },
   "outputs": [],
   "source": [
    "import numpy.linalg as la\n",
    "import numpy as np\n",
    "import matplotlib.pyplot as plt\n",
    "from scipy import sparse\n",
    "\n",
    "def jacobi_method(A, b, tol, maxiters):\n",
    "    D = np.diag(A)\n",
    "    U = np.triu(A)\n",
    "    np.fill_diagonal(U, 0)\n",
    "    L = np.tril(A)\n",
    "    np.fill_diagonal(L, 0)\n",
    "    \n",
    "    iters = 0\n",
    "    x = np.zeros(A.shape[0])\n",
    "    while iters < maxiters:\n",
    "        x_n = x + ((b - np.dot(A, x)) / D)\n",
    "        if max(abs(x_n - x)) < tol:\n",
    "            break\n",
    "        x = x_n\n",
    "    return x"
   ]
  },
  {
   "cell_type": "code",
   "execution_count": 2,
   "metadata": {},
   "outputs": [
    {
     "name": "stdout",
     "output_type": "stream",
     "text": [
      "True\n"
     ]
    }
   ],
   "source": [
    "def diag_dom(n, num_entries=None):\n",
    "    \n",
    "    if num_entries is None:\n",
    "        num_entries = int(n**1.5) - n\n",
    "    A = np.zeros((n,n))\n",
    "    rows = np.random.choice(np.arange(0,n), size=num_entries)\n",
    "    cols = np.random.choice(np.arange(0,n), size=num_entries)\n",
    "    data = np.random.randint(-4, 4, size=num_entries)\n",
    "    for i in range(num_entries):\n",
    "        A[rows[i], cols[i]] = data[i]\n",
    "    for i in range(n):\n",
    "        A[i,i] = np.sum(np.abs(A[i])) + 1\n",
    "    return A\n",
    "\n",
    "n = 10\n",
    "b = np.random.random(n)\n",
    "A = diag_dom(n)\n",
    "x = jacobi_method(A, b, 1e-5, 1e5)\n",
    "\n",
    "print(np.allclose(A@x, b, 1e-3))"
   ]
  },
  {
   "cell_type": "code",
   "execution_count": 3,
   "metadata": {},
   "outputs": [
    {
     "data": {
      "image/png": "[encoded data removed]",
      "text/plain": [
       "<matplotlib.figure.Figure at 0x10958b780>"
      ]
     },
     "metadata": {},
     "output_type": "display_data"
    }
   ],
   "source": [
    "def jacobi_method_plt(A, b, tol, maxiters, plot=False):\n",
    "    D = np.diag(A)\n",
    "    U = np.triu(A)\n",
    "    np.fill_diagonal(U, 0)\n",
    "    L = np.tril(A)\n",
    "    np.fill_diagonal(L, 0)\n",
    "    \n",
    "    if plot:\n",
    "        errs = np.zeros(int(maxiters))\n",
    "    \n",
    "    iters = 0\n",
    "    x = np.zeros(A.shape[0])\n",
    "    while iters < maxiters:\n",
    "        x_n = x + ((b - np.dot(A, x)) / D)\n",
    "        err = max(abs(x_n - x))\n",
    "        if plot:\n",
    "            errs[iters] = err\n",
    "        if err < tol:\n",
    "            break\n",
    "        x = x_n\n",
    "        iters += 1\n",
    "        \n",
    "    if plot:\n",
    "        xvals = np.arange(0, iters)\n",
    "        plt.semilogy(xvals, errs[:iters])\n",
    "        plt.title(\"Convergence of Jacobi Method\")\n",
    "        plt.xlabel(\"Iteration\")\n",
    "        plt.ylabel(\"Absolute Error of Approximation\")\n",
    "        plt.show()\n",
    "        \n",
    "    return x\n",
    "n = 20\n",
    "b = np.random.random(n)\n",
    "A = diag_dom(n)\n",
    "x = jacobi_method_plt(A, b, 1e-5, 1e6, True)"
   ]
  },
  {
   "cell_type": "code",
   "execution_count": 4,
   "metadata": {},
   "outputs": [
    {
     "data": {
      "image/png": "[encoded data removed]",
      "text/plain": [
       "<matplotlib.figure.Figure at 0x10d271748>"
      ]
     },
     "metadata": {},
     "output_type": "display_data"
    },
    {
     "name": "stdout",
     "output_type": "stream",
     "text": [
      "[ 0.68451141  0.8716826   0.87344518 ...,  0.71732142  0.08758843\n",
      "  0.80178893]\n",
      "[ 0.68451154  0.87168392  0.87344535 ...,  0.71732142  0.08758843\n",
      "  0.80178893]\n"
     ]
    }
   ],
   "source": [
    "def gauss_seidel_method(A, b, tol, maxiters, plot=False):\n",
    "    D = np.diag(A)\n",
    "    x = np.zeros(A.shape[0])\n",
    "    \n",
    "    if plot:\n",
    "        errs = np.zeros(maxiters)\n",
    "    \n",
    "    iters = 0\n",
    "    while iters < maxiters:\n",
    "        x0 = np.copy(x)\n",
    "        for i in range(A.shape[0]):\n",
    "            x0 = np.copy(x)\n",
    "            Aix = A[i,:].T @ x0\n",
    "            x[i] = x0[i] + ((b[i] - Aix) / D[i])\n",
    "        err = np.amax(np.absolute(x - x0))\n",
    "\n",
    "        if plot:\n",
    "            errs[iters] = err\n",
    "        if err < tol:\n",
    "            break\n",
    "        iters += 1\n",
    "    \n",
    "    if plot:\n",
    "        xvals = np.arange(0, iters)\n",
    "        plt.semilogy(xvals, errs[:iters])\n",
    "        plt.title(\"Convergence of Gauss Seidel Method\")\n",
    "        plt.xlabel(\"Iteration\")\n",
    "        plt.ylabel(\"Absolute Error of Approximation\")\n",
    "        plt.show() \n",
    "\n",
    "\n",
    "    return x\n",
    "\n",
    "\n",
    "n = 2000\n",
    "b = np.random.random(n)\n",
    "A = diag_dom(n)\n",
    "x = gauss_seidel_method(A, b, 1e-8, 1000, True)\n",
    "\n",
    "print(A @ x)\n",
    "print(b)"
   ]
  },
  {
   "cell_type": "code",
   "execution_count": 5,
   "metadata": {},
   "outputs": [
    {
     "name": "stdout",
     "output_type": "stream",
     "text": [
      "[ 0.49526563  0.0487045   0.81222923  0.31849928  0.91762828  0.20348543\n",
      "  0.39755427  0.59378976  0.01448878  0.02260054]\n",
      "[ 0.66627898  0.30522454  0.81222923  0.31849928  0.91762828  0.20348543\n",
      "  0.39755427  0.59378976  0.01448878  0.02260054]\n"
     ]
    }
   ],
   "source": [
    "def gauss_seidel_sparse(A, b, tol, maxiters):\n",
    "    D = sparse.csr_matrix.diagonal(A)\n",
    "    x = np.zeros(A.shape[0])\n",
    "    \n",
    "    iters = 0\n",
    "    while iters < maxiters:\n",
    "        x0 = np.copy(x)\n",
    "        for i in range(A.shape[0]):\n",
    "            x0 = np.copy(x)\n",
    "            rowstart = A.indptr[i]\n",
    "            rowend = A.indptr[i + 1]\n",
    "            Aix = A.data[rowstart:rowend] @ x[A.indices[rowstart:rowend]]\n",
    "            x[i] = x0[i] + ((b[i] - Aix) / D[i])\n",
    "        err = np.amax(np.absolute(x - x0))\n",
    "        if err < tol:\n",
    "            break\n",
    "    \n",
    "    return x\n",
    "\n",
    "n = 10\n",
    "b = np.random.random(n)\n",
    "A = sparse.csr_matrix(diag_dom(n))\n",
    "x = gauss_seidel_sparse(A, b, 1e-6, 1000)\n",
    "\n",
    "print(A @ x)\n",
    "print(b)"
   ]
  },
  {
   "cell_type": "code",
   "execution_count": 6,
   "metadata": {
    "collapsed": true
   },
   "outputs": [],
   "source": [
    "def sor_method(A, b, omega, tol, maxiters):\n",
    "    D = sparse.csr_matrix.diagonal(A)\n",
    "    x = np.zeros(A.shape[0])\n",
    "    \n",
    "    iters = 0\n",
    "    while iters < maxiters:\n",
    "        x0 = np.copy(x)\n",
    "        for i in range(A.shape[0]):\n",
    "            x0 = np.copy(x)\n",
    "            rowstart = A.indptr[i]\n",
    "            rowend = A.indptr[i + 1]\n",
    "            Aix = A.data[rowstart:rowend] @ x[A.indices[rowstart:rowend]]\n",
    "            x[i] = x0[i] + (omega * (b[i] - Aix) / D[i])\n",
    "        err = np.amax(np.absolute(x - x0))\n",
    "        if err < tol:\n",
    "            break\n",
    "        iters += 1\n",
    "    \n",
    "    return x, iters"
   ]
  },
  {
   "cell_type": "code",
   "execution_count": 7,
   "metadata": {},
   "outputs": [
    {
     "data": {
      "image/png": "[encoded data removed]",
      "text/plain": [
       "<matplotlib.figure.Figure at 0x10f8bd5f8>"
      ]
     },
     "metadata": {},
     "output_type": "display_data"
    },
    {
     "data": {
      "text/plain": [
       "((array([ 49.99753998,  30.35712266,  21.44053349,  17.11890029,\n",
       "          15.30087441,  15.30117113,  17.1197188 ,  21.44166819,\n",
       "          30.35826103,  49.99830442,  69.63381828,  49.99165998,\n",
       "          38.28768034,  31.73593859,  28.78519506,  28.7857414 ,\n",
       "          31.73744568,  38.28976962,  49.99375601,  69.63522582,\n",
       "          78.547316  ,  61.68994749,  49.98499662,  42.75463539,\n",
       "          39.32090133,  39.32163411,  42.75665679,  49.98779887,\n",
       "          61.6927588 ,  78.54920387,  82.86706756,  68.23822465,\n",
       "          57.21071095,  49.97998991,  46.42543853,  46.42628479,\n",
       "          49.98232435,  57.21394717,  68.24147133,  82.86924779,\n",
       "          84.68447492,  71.18782933,  60.64291752,  53.53277726,\n",
       "          49.978187  ,  49.97907057,  53.5352146 ,  60.6462964 ,\n",
       "          71.19121912,  84.68675125,  84.68477165,  71.18837567,\n",
       "          60.64365031,  53.53362353,  49.97907058,  49.97991835,\n",
       "          53.53596215,  60.64689232,  71.19162816,  84.68695577,\n",
       "          82.86788608,  68.23973176,  57.21273237,  49.98232437,\n",
       "          46.42787589,  46.42862343,  49.98438647,  57.21559105,\n",
       "          68.24259968,  82.86981196,  78.54845072,  61.69203679,\n",
       "          49.9877989 ,  42.75787164,  39.32428024,  39.32487616,\n",
       "          42.7595155 ,  49.99007777,  61.69432302,  78.54998598,\n",
       "          69.63495666,  49.99375603,  38.29049168,  31.7391853 ,\n",
       "          28.78858489,  28.78899392,  31.74031363,  38.29205589,\n",
       "          49.99532529,  69.63601046,  49.99830442,  30.3585302 ,\n",
       "          21.44242137,  17.12108053,  15.30315075,  15.30335527,\n",
       "          17.1216447 ,  21.44320347,  30.35931483,  49.99883132]), 100), 100)"
      ]
     },
     "execution_count": 7,
     "metadata": {},
     "output_type": "execute_result"
    }
   ],
   "source": [
    "def iterprob6(n, omega, tol = 1e-8, maxiters = 100, plot = False):\n",
    "    B = sparse.diags(np.ones(n)*-4) + sparse.diags(np.ones(n-1), -1) + sparse.diags(np.ones(n-1), 1)\n",
    "    diags = []\n",
    "    for i in range(n):\n",
    "        diags.append(B)\n",
    "    A = sparse.block_diag(diags)\n",
    "    A = A + sparse.diags(np.ones(n**2 - n), n) + sparse.diags(np.ones(n**2 - n), -(n))\n",
    "    b = np.zeros(n)\n",
    "    b[0] = -100\n",
    "    b[n-1] = -100\n",
    "    b = np.tile(b, n)\n",
    "    u = sor_method(A, b, omega, tol, maxiters) \n",
    "    \n",
    "    if plot == False:\n",
    "        return u, u[1] \n",
    "    \n",
    "    if plot == True:\n",
    "        umat = np.reshape(u[0],(n,n))\n",
    "        X = np.arange(1, n+1, 1) \n",
    "        Y = np.arange(1, n+1, 1)\n",
    "        xx, yy = np.meshgrid(X,Y)\n",
    "        plt.pcolormesh(xx, yy, umat, cmap = \"coolwarm\") #if this doesn't work, change xx and yy to X and Y\n",
    "        plt.title(\"Heatmap of Plate's Temperature in Steady State\")\n",
    "        plt.colorbar()\n",
    "        plt.show()\n",
    "        return u, u[1]\n",
    "    \n",
    "n = 10\n",
    "omega = 1\n",
    "iterprob6(n, omega, plot=True)"
   ]
  },
  {
   "cell_type": "code",
   "execution_count": 8,
   "metadata": {},
   "outputs": [
    {
     "data": {
      "image/png": "[encoded data removed]",
      "text/plain": [
       "<matplotlib.figure.Figure at 0x10f81bf98>"
      ]
     },
     "metadata": {},
     "output_type": "display_data"
    },
    {
     "name": "stdout",
     "output_type": "stream",
     "text": [
      "Minimizing index: 1.75\n"
     ]
    }
   ],
   "source": [
    "def iterprob7():\n",
    "    omegavec = np.arange(1, 2, 0.05)\n",
    "    n = 20\n",
    "    itervec = np.zeros((len(omegavec),1))\n",
    "    for i in range(len(omegavec)):\n",
    "        itervec[i] = iterprob6(n, omegavec[i], tol = 1e-2, maxiters = 1000, plot = False)[1]\n",
    "    plt.plot(omegavec, itervec)\n",
    "    plt.xlabel(\"Omega\")\n",
    "    plt.ylabel(\"Number of Iterations\")\n",
    "    plt.title(\"Number of Iterations as a Function of Omega\")\n",
    "    plt.show()\n",
    "    \n",
    "    minindex = np.argmin(itervec)\n",
    "    return omegavec[minindex]\n",
    "\n",
    "minindex = iterprob7()\n",
    "print(\"Minimizing index:\", minindex)"
   ]
  }
 ],
 "metadata": {
  "kernelspec": {
   "display_name": "Python 3",
   "language": "python",
   "name": "python3"
  },
  "language_info": {
   "codemirror_mode": {
    "name": "ipython",
    "version": 3
   },
   "file_extension": ".py",
   "mimetype": "text/x-python",
   "name": "python",
   "nbconvert_exporter": "python",
   "pygments_lexer": "ipython3",
   "version": "3.6.1"
  }
 },
 "nbformat": 4,
 "nbformat_minor": 2
}
