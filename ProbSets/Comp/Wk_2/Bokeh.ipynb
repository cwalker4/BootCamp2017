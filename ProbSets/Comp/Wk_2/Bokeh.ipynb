{
 "cells": [
  {
   "cell_type": "markdown",
   "metadata": {},
   "source": [
    "## Bokeh Lab"
   ]
  },
  {
   "cell_type": "code",
   "execution_count": 23,
   "metadata": {
    "collapsed": false
   },
   "outputs": [
    {
     "name": "stdout",
     "output_type": "stream",
     "text": [
      "             ST_CASE          STATE       LATITUDE       LONGITUD  \\\n",
      "count  148206.000000  148206.000000  148206.000000  148206.000000   \n",
      "mean   280064.232946      27.943963      36.704845     -91.815633   \n",
      "std    162307.103941      16.234001       5.165450      14.717386   \n",
      "min     10001.000000       0.000000      18.960467    -165.407103   \n",
      "25%    122094.000000      12.000000      33.237144     -97.673128   \n",
      "50%    280228.000000      28.000000      36.578921     -87.688676   \n",
      "75%    420772.000000      42.000000      40.653129     -81.306327   \n",
      "max    560137.000000      56.000000      68.433764     -66.993169   \n",
      "\n",
      "                HOUR            DAY          MONTH           YEAR  \\\n",
      "count  148206.000000  148206.000000  148206.000000  148206.000000   \n",
      "mean       12.638557      15.663320       6.753856    2012.000432   \n",
      "std         6.929258       8.847314       3.347173       1.411410   \n",
      "min         0.000000       1.000000       1.000000    2010.000000   \n",
      "25%         7.000000       8.000000       4.000000    2011.000000   \n",
      "50%        14.000000      16.000000       7.000000    2012.000000   \n",
      "75%        18.000000      23.000000      10.000000    2013.000000   \n",
      "max        23.000000      31.000000      12.000000    2014.000000   \n",
      "\n",
      "            DRUNK_DR        WEATHER             SP         FATALS  \\\n",
      "count  148206.000000  148206.000000  148206.000000  148206.000000   \n",
      "mean        0.313483       2.815534       0.295757       1.089301   \n",
      "std         0.484263       5.699032       0.456384       0.360859   \n",
      "min         0.000000       1.000000       0.000000       1.000000   \n",
      "25%         0.000000       1.000000       0.000000       1.000000   \n",
      "50%         0.000000       1.000000       0.000000       1.000000   \n",
      "75%         1.000000       2.000000       1.000000       1.000000   \n",
      "max         4.000000      98.000000       1.000000      15.000000   \n",
      "\n",
      "                  x             y  \n",
      "count  1.482060e+05  1.482060e+05  \n",
      "mean  -1.022087e+07  4.422899e+06  \n",
      "std    1.638332e+06  7.292994e+05  \n",
      "min   -1.841303e+07  2.150282e+06  \n",
      "25%   -1.087292e+07  3.926823e+06  \n",
      "50%   -9.761459e+06  4.380575e+06  \n",
      "75%   -9.050979e+06  4.961312e+06  \n",
      "max   -7.457646e+06  1.057712e+07  \n"
     ]
    }
   ],
   "source": [
    "import numpy as np\n",
    "import bokeh as bk\n",
    "import pandas as pd\n",
    "import pickle\n",
    "from pyproj import Proj\n",
    "from pyproj import transform\n",
    "\n",
    "#Problem 2\n",
    "fars = np.load('FARS.npy')\n",
    "accidents = pd.read_pickle('final_accidents2.pickle')\n",
    "drivers = pd.read_pickle('final_drivers.pickle')\n",
    "\n",
    "from_proj = Proj(init=\"epsg:4326\")\n",
    "to_proj = Proj(init=\"epsg:3857\")\n",
    "def convert(longitudes, latitudes):\n",
    "    \"\"\"Converts latlon coordinates to meters.\n",
    "    Inputs:\n",
    "        longitudes (array-like) : array of longitudes\n",
    "        latitudes (array-like) : array of latitudes\n",
    "    Example:\n",
    "        x,y = convert(accidents.LONGITUD, accidents.LATITUDE)\n",
    "    \"\"\"\n",
    "    x_vals = []\n",
    "    y_vals = []\n",
    "    for lon, lat in zip(longitudes, latitudes):\n",
    "        x, y = transform(from_proj, to_proj, lon, lat)\n",
    "        x_vals.append(x)\n",
    "        y_vals.append(y)\n",
    "    return x_vals, y_vals\n",
    "accidents[\"x\"], accidents[\"y\"] = convert(accidents.LONGITUD, accidents.LATITUDE)\n",
    "\n",
    "#Problem 3\n",
    "merged = drivers\n",
    "\n",
    "#Problem 4\n",
    "from bokeh.plotting import Figure\n",
    "from bokeh.models import WMTSTileSource\n",
    "fig = Figure(plot_width=1100, plot_height=650,\n",
    "            x_range=(-13000000, -7000000), y_range=(2750000, 6250000),\n",
    "            tools=[\"wheel_zoom\", \"pan\"], active_scroll=\"wheel_zoom\")\n",
    "fig.axis.visible = False\n",
    "\n",
    "STAMEN_TONER_BACKGROUND = WMTSTileSource(url='http://tile.stamen.com/toner-background/{Z}/{X}/{Y}.png', \\\n",
    "                                         attribution=('Map tiles by <a href=\"http://stamen.com\">Stamen \\\n",
    "                                                      Design</a>, ' 'under <a href=\"http://creativecommons.org/licenses/by/3.0\"> \\\n",
    "                                                      CC BY 3.0</a>.' 'Data by <a href=\"http://openstreetmap.org\">OpenStreetMap</a>, \\\n",
    "                                                      ' 'under <a href=\"http://www.openstreetmap.org/copyright\">ODbL</a>' \\\n",
    "                                                      )\n",
    "                                         )\n",
    "fig.add_tile(STAMEN_TONER_BACKGROUND)\n",
    "\n",
    "print(accidents.describe())\n",
    "\n",
    "#Problem 6\n",
    "\n",
    "from bokeh.models import ColumnDataSource\n",
    "from bokeh.plotting import figure, show\n",
    "fig = figure(plot_width=500, plot_height=500, webgl = True)\n",
    "accidents_drunk = accidents[(accidents.DRUNK_DR == 1) & (accidents.SP == 0)]\n",
    "accidents_speed = accidents[(accidents.DRUNK_DR == 0) & (accidents.SP == 1)]\n",
    "accidents_drunkspeed = accidents[(accidents.DRUNK_DR == 1) & (accidents.SP == 1)]\n",
    "cir_source_drunk = ColumnDataSource(accidents_drunk)\n",
    "cir_source_speed = ColumnDataSource(accidents_speed)\n",
    "cir_source_drunkspeed = ColumnDataSource(accidents_drunkspeed)\n",
    "cir_drunk = fig.circle(x = \"LONGITUD\", y = \"LATITUDE\", source = cir_source_drunk, size = 0.1, fill_color = \"red\", fill_alpha = .1, line_alpha = .1, line_color = \"red\", line_width = 3)\n",
    "cir_speed = fig.circle(x = \"LONGITUD\", y = \"LATITUDE\", source = cir_source_speed, size = 0.1, fill_color = \"blue\", fill_alpha = .1, line_alpha = .1, line_color = \"blue\", line_width = 3)\n",
    "cir_drunkspeed = fig.circle(x = \"LONGITUD\", y = \"LATITUDE\", source = cir_source_drunkspeed, size = 0.1, fill_color = \"green\", fill_alpha = .1, line_alpha =.1, line_color = \"green\", line_width = 3)\n",
    "\n",
    "show(fig)"
   ]
  },
  {
   "cell_type": "code",
   "execution_count": null,
   "metadata": {
    "collapsed": true
   },
   "outputs": [],
   "source": []
  }
 ],
 "metadata": {
  "kernelspec": {
   "display_name": "Python 3",
   "language": "python",
   "name": "python3"
  },
  "language_info": {
   "codemirror_mode": {
    "name": "ipython",
    "version": 3
   },
   "file_extension": ".py",
   "mimetype": "text/x-python",
   "name": "python",
   "nbconvert_exporter": "python",
   "pygments_lexer": "ipython3",
   "version": "3.6.0"
  }
 },
 "nbformat": 4,
 "nbformat_minor": 2
}
