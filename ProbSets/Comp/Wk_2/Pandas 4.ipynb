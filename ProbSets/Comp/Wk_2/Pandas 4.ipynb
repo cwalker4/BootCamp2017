{
 "cells": [
  {
   "cell_type": "markdown",
   "metadata": {},
   "source": [
    "## Pandas 4: Time Series"
   ]
  },
  {
   "cell_type": "markdown",
   "metadata": {},
   "source": [
    "Problem 1:"
   ]
  },
  {
   "cell_type": "code",
   "execution_count": 5,
   "metadata": {
    "collapsed": false
   },
   "outputs": [],
   "source": [
    "from datetime import datetime\n",
    "import numpy as np\n",
    "import pandas as pd\n",
    "import matplotlib.pyplot as plt"
   ]
  },
  {
   "cell_type": "code",
   "execution_count": 267,
   "metadata": {
    "collapsed": false
   },
   "outputs": [],
   "source": [
    "djia = pd.read_csv('DJIA.csv', index_col='DATE', na_values=['.'])\n",
    "djia.index = pd.to_datetime(djia.index)\n",
    "djia = djia.fillna(np.nan)\n",
    "djia = djia.astype(float)\n",
    "djia = djia.dropna()"
   ]
  },
  {
   "cell_type": "markdown",
   "metadata": {},
   "source": [
    "Problem 2:"
   ]
  },
  {
   "cell_type": "code",
   "execution_count": 69,
   "metadata": {
    "collapsed": true
   },
   "outputs": [],
   "source": [
    "def paychecks_index():\n",
    "    f3 = pd.date_range(start='03/13/2008', periods=47, freq='WOM-3FRI')\n",
    "    f1 = pd.date_range(start='03/13/2008', periods=46, freq='WOM-1FRI')\n",
    "    i = f1.union(f3)\n",
    "    \n",
    "    pchecks = pd.read_csv('paychecks.csv', header=None, )\n",
    "    pchecks.index = i\n",
    "    "
   ]
  },
  {
   "cell_type": "code",
   "execution_count": 70,
   "metadata": {
    "collapsed": false
   },
   "outputs": [],
   "source": [
    "paychecks_index()"
   ]
  },
  {
   "cell_type": "markdown",
   "metadata": {},
   "source": [
    "Problem 3:"
   ]
  },
  {
   "cell_type": "code",
   "execution_count": 108,
   "metadata": {
    "collapsed": true
   },
   "outputs": [],
   "source": [
    "def load_finances():\n",
    "    p = pd.period_range(\"1978Q1\", \"1998Q4\", freq=\"Q-FEB\")\n",
    "    findata = pd.read_csv('finances.csv')\n",
    "    findata.index = p   "
   ]
  },
  {
   "cell_type": "code",
   "execution_count": 109,
   "metadata": {
    "collapsed": false
   },
   "outputs": [
    {
     "name": "stdout",
     "output_type": "stream",
     "text": [
      "         EARNINGS   EXPENSES\n",
      "1978Q1  372572.16  122611.27\n",
      "1978Q2  419440.58  133176.18\n",
      "1978Q3  419766.49  154670.69\n",
      "1978Q4  361453.31  209360.42\n",
      "1979Q1  354463.33  174147.13\n"
     ]
    }
   ],
   "source": [
    "load_finances()"
   ]
  },
  {
   "cell_type": "markdown",
   "metadata": {},
   "source": [
    "Problem 5:"
   ]
  },
  {
   "cell_type": "code",
   "execution_count": 167,
   "metadata": {
    "collapsed": false
   },
   "outputs": [],
   "source": [
    "def traffic():\n",
    "    df = pd.read_csv('website_traffic.csv')\n",
    "    df = df.drop('IP', axis=1)\n",
    "    \n",
    "    \n",
    "    df['ENTER'] = pd.to_datetime(df['ENTER'])\n",
    "    df['LEAVE'] = pd.to_datetime(df['LEAVE'])\n",
    "    df['DURATION'] = (df['LEAVE'] - df['ENTER'])\n",
    "    df.index = df['ENTER']\n",
    "    df = df.drop(['ENTER', 'LEAVE'], axis=1)\n",
    "\n",
    "    # is there a straightforward way to convert time differences to decimals?\n",
    "    #(i.e. not splitting up the time difference into hours/minute/seconds\n",
    "    # components then multiplying\n",
    "    \n",
    "    #TODO: this doesn't work with datetime objects\n",
    "    #daily = df.resample('D').mean()\n",
    "\n",
    "    \n",
    "    "
   ]
  },
  {
   "cell_type": "code",
   "execution_count": 168,
   "metadata": {
    "collapsed": false
   },
   "outputs": [],
   "source": [
    "traffic()"
   ]
  },
  {
   "cell_type": "markdown",
   "metadata": {},
   "source": [
    "Problem 6:"
   ]
  },
  {
   "cell_type": "code",
   "execution_count": 210,
   "metadata": {
    "collapsed": false
   },
   "outputs": [
    {
     "name": "stdout",
     "output_type": "stream",
     "text": [
      "Largest daily gain was 936 on 13 Oct, 2008 \n",
      "\n",
      "Larges daily loss was -777 on 13 Oct, 2008 \n",
      "\n",
      "Largest monthly gain was 1378 in October 2015 \n",
      "\n",
      "Larges monthly loss was -1525 in October 2008 \n",
      "\n"
     ]
    }
   ],
   "source": [
    "daily_delt = djia - djia.shift(1)\n",
    "max_gain_d = daily_delt.max(0)\n",
    "max_gain_index = daily_delt.idxmax(0)[0].strftime(\"%d %b, %Y\")\n",
    "max_loss_d = daily_delt.min(0)\n",
    "max_loss_index = daily_delt.idxmax(0)[0].strftime(\"%d %b, %Y\")\n",
    "\n",
    "\n",
    "print(\"Largest daily gain was\", int(max_gain_d), \"on\", max_gain_index, \"\\n\")\n",
    "print(\"Larges daily loss was\", int(max_loss_d), \"on\", max_loss_index, \"\\n\")\n",
    "\n",
    "monthly_delt = daily_delt.resample('M').sum()\n",
    "max_gain_m = monthly_delt.max(0)\n",
    "max_gain_m_index = monthly_delt.idxmax(0)[0].strftime(\"%B %Y\")\n",
    "max_loss_m = monthly_delt.min(0)\n",
    "max_loss_m_index = monthly_delt.idxmin(0)[0].strftime(\"%B %Y\")\n",
    "\n",
    "print(\"Largest monthly gain was\", int(max_gain_m), \"in\", max_gain_m_index, \"\\n\")\n",
    "print(\"Larges monthly loss was\", int(max_loss_m), \"in\", max_loss_m_index, \"\\n\")"
   ]
  },
  {
   "cell_type": "markdown",
   "metadata": {},
   "source": [
    "Problem 7:"
   ]
  },
  {
   "cell_type": "code",
   "execution_count": 296,
   "metadata": {
    "collapsed": false
   },
   "outputs": [
    {
     "data": {
      "image/png": "[encoded data removed]",
      "text/plain": [
       "<matplotlib.figure.Figure at 0x10cf59630>"
      ]
     },
     "metadata": {},
     "output_type": "display_data"
    }
   ],
   "source": [
    "plt.figure(figsize=(7,5))\n",
    "\n",
    "plt.title(\"Dow Jones Industrial Average\")\n",
    "plt.xlabel(\"Date\")\n",
    "plt.ylabel(\"Value\")\n",
    "\n",
    "avg_30 = djia.rolling(window=30).mean()\n",
    "avg_365 = djia.rolling(window=365).mean()\n",
    "ewma_30 = djia.ewm(span=30).mean()\n",
    "ewma_365 = djia.ewm(span=365).mean()\n",
    "\n",
    "plt.plot(djia, color='0.75', lw=0.5, label=\"Original\",zorder=1)\n",
    "plt.plot(avg_30, label=\"Rolling\", lw=1, color='r', zorder=2)\n",
    "plt.plot(avg_365, lw=1, color='r', zorder=10)\n",
    "plt.plot(ewma_30, label=\"EWMA\", lw=1, color='g')\n",
    "plt.plot(ewma_365, lw=1, color='g')\n",
    "\n",
    "\n",
    "plt.legend(loc='lower right')\n",
    "plt.show()"
   ]
  },
  {
   "cell_type": "code",
   "execution_count": null,
   "metadata": {
    "collapsed": true
   },
   "outputs": [],
   "source": []
  }
 ],
 "metadata": {
  "kernelspec": {
   "display_name": "Python 3",
   "language": "python",
   "name": "python3"
  },
  "language_info": {
   "codemirror_mode": {
    "name": "ipython",
    "version": 3
   },
   "file_extension": ".py",
   "mimetype": "text/x-python",
   "name": "python",
   "nbconvert_exporter": "python",
   "pygments_lexer": "ipython3",
   "version": "3.6.0"
  }
 },
 "nbformat": 4,
 "nbformat_minor": 2
}
