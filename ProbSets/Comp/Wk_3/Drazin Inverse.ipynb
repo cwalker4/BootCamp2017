{
 "cells": [
  {
   "cell_type": "markdown",
   "metadata": {},
   "source": [
    "## Drazin Inverse Lab"
   ]
  },
  {
   "cell_type": "markdown",
   "metadata": {},
   "source": [
    "### Problem 1:"
   ]
  },
  {
   "cell_type": "code",
   "execution_count": 82,
   "metadata": {
    "collapsed": true
   },
   "outputs": [],
   "source": [
    "import numpy as np\n",
    "from cmath import sqrt\n",
    "from scipy import linalg as la\n",
    "from matplotlib import pyplot as plt\n",
    "import pandas as pd"
   ]
  },
  {
   "cell_type": "code",
   "execution_count": 23,
   "metadata": {
    "collapsed": true
   },
   "outputs": [],
   "source": [
    "def is_drazin(A, k, Ad):\n",
    "    if not np.allclose(A@Ad, Ad@A):\n",
    "        return False\n",
    "    if not np.allclose(np.linalg.matrix_power(A,k+1)@Ad, np.linalg.matrix_power(A,k)):\n",
    "        return False\n",
    "    if not np.allclose(Ad@A@Ad, Ad):\n",
    "        return False\n",
    "    return True"
   ]
  },
  {
   "cell_type": "code",
   "execution_count": 24,
   "metadata": {
    "collapsed": false
   },
   "outputs": [
    {
     "data": {
      "text/plain": [
       "True"
      ]
     },
     "execution_count": 24,
     "metadata": {},
     "output_type": "execute_result"
    }
   ],
   "source": [
    "# Test cases\n",
    "\n",
    "A = [[1, 3, 0, 0],\n",
    "     [0, 1, 3, 0],\n",
    "     [0, 0, 1, 3],\n",
    "     [0, 0, 0, 0,]]\n",
    "\n",
    "Ad = [[1, -3, 9, 81],\n",
    "      [0, 1, -3, -18],\n",
    "      [0, 0, 1, 3],\n",
    "      [0, 0, 0, 0,]]\n",
    "\n",
    "ka = 1\n",
    "\n",
    "B  = [[1,1, 3],\n",
    "      [5, 2, 6],\n",
    "      [-2, -1, -3]]\n",
    "A, Ad, B = map(np.asarray, (A, Ad, B))\n",
    "Bd = np.zeros_like(B)\n",
    "kb = 3\n",
    "\n",
    "is_drazin(A, ka, Ad) # returns True\n",
    "is_drazin(B, kb, Bd) #returns True"
   ]
  },
  {
   "cell_type": "markdown",
   "metadata": {},
   "source": [
    "### Problem 2:"
   ]
  },
  {
   "cell_type": "code",
   "execution_count": 45,
   "metadata": {
    "collapsed": true
   },
   "outputs": [],
   "source": [
    "def drazin(A, tol=1e-5):\n",
    "    n, n = np.shape(A)\n",
    "    f = lambda x: abs(x) > tol\n",
    "    g = lambda x: abs(x) <= tol\n",
    "    Q1, S, k1 = la.schur(A, sort=f)\n",
    "    Q2, T, k2 = la.schur(A, sort=g)\n",
    "    U = np.column_stack((S[:,:k1], T[:,:(n-k1)]))\n",
    "    U_inv = np.linalg.inv(U)\n",
    "    V = U_inv @ A @ U\n",
    "    Z = np.zeros_like(A, dtype=np.float)\n",
    "    if k1 != 0:\n",
    "        M_inv = np.linalg.inv(V[:k1,:k1])\n",
    "        Z[:k1,:k1] = M_inv\n",
    "    return U @ Z @ U_inv"
   ]
  },
  {
   "cell_type": "code",
   "execution_count": 46,
   "metadata": {
    "collapsed": false
   },
   "outputs": [
    {
     "data": {
      "text/plain": [
       "True"
      ]
     },
     "execution_count": 46,
     "metadata": {},
     "output_type": "execute_result"
    }
   ],
   "source": [
    "# Testing\n",
    "\n",
    "A = np.array([[1, 3, 0, 0],\n",
    "     [0, 1, 3, 0],\n",
    "     [0, 0, 1, 3],\n",
    "     [0, 0, 0, 0,]])\n",
    "\n",
    "Ad = drazin(A, 1e-4)\n",
    "is_drazin(A, 1, Ad) # returns True"
   ]
  },
  {
   "cell_type": "markdown",
   "metadata": {},
   "source": [
    "### Problem 3:"
   ]
  },
  {
   "cell_type": "code",
   "execution_count": 79,
   "metadata": {
    "collapsed": false
   },
   "outputs": [],
   "source": [
    "def effective_resistance(A):\n",
    "    m, n = np.shape(A)\n",
    "    degs = np.sum(A, axis=0) # degrees of columns\n",
    "    D = np.diag(degs) # degree matrix\n",
    "    L = D - A\n",
    "    I_n = np.identity(n)\n",
    "    \n",
    "    R = np.zeros_like(L, dtype=np.float)\n",
    "    \n",
    "    for i in range(n):\n",
    "        L_i = np.copy(L)\n",
    "        L_i[:,i] = I_n[:,i]\n",
    "        L_iD = drazin(L_i)\n",
    "        R[:,i] = np.diagonal(L_iD)\n",
    "        R[i,i] = 0\n",
    "        \n",
    "    return R\n"
   ]
  },
  {
   "cell_type": "code",
   "execution_count": 81,
   "metadata": {
    "collapsed": false
   },
   "outputs": [
    {
     "data": {
      "text/plain": [
       "array([[ 0.,  1.],\n",
       "       [ 1.,  0.]])"
      ]
     },
     "execution_count": 81,
     "metadata": {},
     "output_type": "execute_result"
    }
   ],
   "source": [
    "A = [[0, 0, 1, 1, 0, 0],\n",
    "     [0, 0, 0, 1, 0, 0],\n",
    "     [1, 0, 0, 1, 0, 1],\n",
    "     [1, 1, 1, 0, 0, 1],\n",
    "     [0, 0, 0, 0, 0, 1],\n",
    "     [0, 0, 1, 1, 1, 0]]\n",
    "\n",
    "A2 = [[0, 1],\n",
    "      [1, 0]]\n",
    "\n",
    "effective_resistance(A2)"
   ]
  },
  {
   "cell_type": "markdown",
   "metadata": {},
   "source": [
    "### Problem 4:"
   ]
  },
  {
   "cell_type": "code",
   "execution_count": null,
   "metadata": {
    "collapsed": true
   },
   "outputs": [],
   "source": [
    "class LinkPredictor(object):\n",
    "    \n",
    "    def __init__(self, filename):\n",
    "        names = pd.read_csv(filename)\n",
    "        names = np.unique(names)\n",
    "        "
   ]
  }
 ],
 "metadata": {
  "kernelspec": {
   "display_name": "Python 3",
   "language": "python",
   "name": "python3"
  },
  "language_info": {
   "codemirror_mode": {
    "name": "ipython",
    "version": 3
   },
   "file_extension": ".py",
   "mimetype": "text/x-python",
   "name": "python",
   "nbconvert_exporter": "python",
   "pygments_lexer": "ipython3",
   "version": "3.6.0"
  }
 },
 "nbformat": 4,
 "nbformat_minor": 2
}
