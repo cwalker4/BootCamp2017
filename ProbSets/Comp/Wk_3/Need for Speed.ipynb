{
 "cells": [
  {
   "cell_type": "markdown",
   "metadata": {},
   "source": [
    "## Need for Speed"
   ]
  },
  {
   "cell_type": "markdown",
   "metadata": {},
   "source": [
    "### Exercise 1:"
   ]
  },
  {
   "cell_type": "code",
   "execution_count": 14,
   "metadata": {
    "collapsed": true
   },
   "outputs": [],
   "source": [
    "import matplotlib.pyplot as plt\n",
    "import numpy as np\n",
    "from numba import jit\n",
    "import time"
   ]
  },
  {
   "cell_type": "code",
   "execution_count": 2,
   "metadata": {
    "collapsed": true
   },
   "outputs": [],
   "source": [
    "def compute_series(n):\n",
    "    p, q = 0.1, 0.2\n",
    "    x = np.empty(n, dtype=int)\n",
    "    x[0] = 1\n",
    "    U = np.random.uniform(0, 1, size=n)\n",
    "    for t in range(1, n):\n",
    "        current_x = x[t-1]\n",
    "        if current_x == 0:\n",
    "            x[t] = U[t] < p\n",
    "        else: \n",
    "            x[t] = U[t] > q\n",
    "    return x"
   ]
  },
  {
   "cell_type": "code",
   "execution_count": 3,
   "metadata": {
    "collapsed": false
   },
   "outputs": [
    {
     "name": "stdout",
     "output_type": "stream",
     "text": [
      "0.66675\n"
     ]
    }
   ],
   "source": [
    "n = 100000\n",
    "x = compute_series(n)\n",
    "print(np.mean(x == 0))"
   ]
  },
  {
   "cell_type": "code",
   "execution_count": 4,
   "metadata": {
    "collapsed": false
   },
   "outputs": [
    {
     "name": "stdout",
     "output_type": "stream",
     "text": [
      "10 loops, best of 3: 53.1 ms per loop\n"
     ]
    }
   ],
   "source": [
    "%timeit compute_series(n)"
   ]
  },
  {
   "cell_type": "code",
   "execution_count": 7,
   "metadata": {
    "collapsed": true
   },
   "outputs": [],
   "source": [
    "compute_series_numba = jit(compute_series)"
   ]
  },
  {
   "cell_type": "code",
   "execution_count": 15,
   "metadata": {
    "collapsed": false
   },
   "outputs": [
    {
     "name": "stdout",
     "output_type": "stream",
     "text": [
      "1000 loops, best of 3: 1.45 ms per loop\n"
     ]
    }
   ],
   "source": [
    "%timeit compute_series_numba(n)"
   ]
  },
  {
   "cell_type": "code",
   "execution_count": 16,
   "metadata": {
    "collapsed": false
   },
   "outputs": [
    {
     "name": "stdout",
     "output_type": "stream",
     "text": [
      "--- 0.0019366741180419922 seconds ---\n"
     ]
    }
   ],
   "source": [
    "start_time = time.time()\n",
    "compute_series_numba(n)\n",
    "print(\"--- %s seconds ---\" % (time.time() - start_time))"
   ]
  },
  {
   "cell_type": "code",
   "execution_count": 9,
   "metadata": {
    "collapsed": true
   },
   "outputs": [],
   "source": [
    "%load_ext Cython"
   ]
  },
  {
   "cell_type": "code",
   "execution_count": 10,
   "metadata": {
    "collapsed": true
   },
   "outputs": [],
   "source": [
    "%%cython\n",
    "import numpy as np\n",
    "from numpy cimport int_t, float_t\n",
    "\n",
    "def compute_series_cy(int n):\n",
    "    x_np = np.empty(n, dtype=int)\n",
    "    U_np = np.random.uniform(0, 1, size=n)\n",
    "    \n",
    "    cdef int_t [:] x = x_np\n",
    "    cdef float_t [:] U = U_np\n",
    "    \n",
    "    cdef float p = 0.1\n",
    "    cdef float q = 0.2\n",
    "    cdef int t\n",
    "    \n",
    "    x[0] = 1\n",
    "    for t in range(1, n):\n",
    "        current_x = x[t-1]\n",
    "        if current_x == 0:\n",
    "            x[t] = U[t] < p\n",
    "        else:\n",
    "            x[t] = U[t] > q\n",
    "    return np.asarray(x)"
   ]
  },
  {
   "cell_type": "code",
   "execution_count": 11,
   "metadata": {
    "collapsed": false
   },
   "outputs": [
    {
     "data": {
      "text/plain": [
       "array([1, 1, 1, 1, 1, 1, 1, 1, 1, 0])"
      ]
     },
     "execution_count": 11,
     "metadata": {},
     "output_type": "execute_result"
    }
   ],
   "source": [
    "compute_series_cy(10)"
   ]
  },
  {
   "cell_type": "code",
   "execution_count": 12,
   "metadata": {
    "collapsed": false
   },
   "outputs": [
    {
     "name": "stdout",
     "output_type": "stream",
     "text": [
      "0.66625\n"
     ]
    }
   ],
   "source": [
    "x = compute_series_cy(n)\n",
    "print(np.mean(x == 0))"
   ]
  },
  {
   "cell_type": "code",
   "execution_count": 13,
   "metadata": {
    "collapsed": false
   },
   "outputs": [
    {
     "name": "stdout",
     "output_type": "stream",
     "text": [
      "1000 loops, best of 3: 1.9 ms per loop\n"
     ]
    }
   ],
   "source": [
    "%timeit compute_series_cy(n)"
   ]
  },
  {
   "cell_type": "markdown",
   "metadata": {},
   "source": [
    "### Extra stuff:"
   ]
  },
  {
   "cell_type": "markdown",
   "metadata": {},
   "source": [
    "Out of curiosity, I tried quickly writing this up in C, without spending too much time debugging (my code doesn't actually give the right answer, and I wasn't thinking much about memory management). Although I wasn't very focussed on writing extremely efficient code (I assumed that speed would come from writing the code in C and then being aggressive with gcc optimization flags), I was surprised to see that my code didn't in fact beat Numba. As can be seen below, I had to build some of Numpy's functionality from scratch, which I'd bet is contributing to a lot of the slowdown. I'd be interested in running it through callgrind, but I don't have valgrind downloaded on my local machine"
   ]
  },
  {
   "cell_type": "raw",
   "metadata": {},
   "source": [
    "#include <stdio.h>\n",
    "#include <time.h>\n",
    "#include <stdlib.h>\n",
    "#include <assert.h>\n",
    "\n",
    "/* random number between 0 and limit, inclusive */\n",
    "double rand_int(int limit) {\n",
    "    double divisor = RAND_MAX / (limit+1);\n",
    "    double retval;\n",
    "\n",
    "    do {\n",
    "        retval = rand() / divisor;\n",
    "    } while (retval > limit);\n",
    "\n",
    "    return retval;\n",
    "}\n",
    "\n",
    "/* generates a sz-sized array of random doubles */\n",
    "double *rand_array(int sz) {\n",
    "    double *x = malloc(sizeof(double) * sz);\n",
    "    double n;\n",
    "    for (int i = 0; i < sz; i++) {\n",
    "        n = rand_int(1);\n",
    "        x[i] = n;\n",
    "    }\n",
    "    return x;\n",
    "}\n",
    "\n",
    "/* takes the mean of an n-sized array */\n",
    "double mean(double x[], int n) {\n",
    "    double result = 0;\n",
    "    for (int i = 0; i < n; i++) {\n",
    "        result += x[i];\n",
    "    }\n",
    "    return result / (double)n;\n",
    "}\n",
    "\n",
    "int main(int argc, char *argv[]) {\n",
    "    clock_t tic = clock();\n",
    "    int n = 100000;\n",
    "    double p = 0.1;\n",
    "    double q = 0.2;\n",
    "    double *u = rand_array(n);\n",
    "    double x[n];\n",
    "    x[0] = 1;\n",
    "    double x_curr, step;\n",
    "    for (int i = 0; i < n; i++) {\n",
    "        x_curr = x[i-1];\n",
    "        step = u[i];\n",
    "        if (x_curr == 0) {\n",
    "            x[i] = step < p ? 0 : 1;\n",
    "        } else {\n",
    "            x[i] = step < q ? 0 : 1;\n",
    "        }\n",
    "    }\n",
    "    clock_t toc = clock();\n",
    "    printf(\"Elapsed: %f seconds \\n\", (double)(toc - tic) / CLOCKS_PER_SEC);\n",
    "    printf(\"Average value: %f \\n\", mean(x, n));\n",
    "}\n"
   ]
  },
  {
   "cell_type": "code",
   "execution_count": null,
   "metadata": {
    "collapsed": true
   },
   "outputs": [],
   "source": []
  }
 ],
 "metadata": {
  "kernelspec": {
   "display_name": "Python 3",
   "language": "python",
   "name": "python3"
  },
  "language_info": {
   "codemirror_mode": {
    "name": "ipython",
    "version": 3
   },
   "file_extension": ".py",
   "mimetype": "text/x-python",
   "name": "python",
   "nbconvert_exporter": "python",
   "pygments_lexer": "ipython3",
   "version": "3.6.0"
  }
 },
 "nbformat": 4,
 "nbformat_minor": 2
}
