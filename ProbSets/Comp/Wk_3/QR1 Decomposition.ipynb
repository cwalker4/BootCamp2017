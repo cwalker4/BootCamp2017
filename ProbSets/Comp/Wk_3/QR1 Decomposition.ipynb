{
 "cells": [
  {
   "cell_type": "markdown",
   "metadata": {},
   "source": [
    "## QR 1: Decomposition"
   ]
  },
  {
   "cell_type": "markdown",
   "metadata": {},
   "source": [
    "### Problem 1:"
   ]
  },
  {
   "cell_type": "code",
   "execution_count": 37,
   "metadata": {
    "collapsed": false
   },
   "outputs": [],
   "source": [
    "import numpy as np\n",
    "from scipy import linalg as la\n",
    "\n",
    "def qrdecomp(A):\n",
    "    dimA = np.shape(A)\n",
    "    m = dimA[0]\n",
    "    n = dimA[1]\n",
    "    Q = np.copy(A)\n",
    "    R = np.zeros((n, n))\n",
    "    for i in range(n):\n",
    "        R[i,i] = la.norm(Q[:,i])\n",
    "        Q[:,i] /= R[i,i]\n",
    "        for j in range(i+1, n):\n",
    "            R[i,j] = Q[:,j].T @ Q[:,i]\n",
    "            Q[:,j] = Q[:,j] - R[i,j] * Q[:,i]\n",
    "    \n",
    "    return Q, R"
   ]
  },
  {
   "cell_type": "code",
   "execution_count": 38,
   "metadata": {
    "collapsed": false
   },
   "outputs": [
    {
     "name": "stdout",
     "output_type": "stream",
     "text": [
      "(6, 4) (6, 4) (4, 4)\n"
     ]
    },
    {
     "data": {
      "text/plain": [
       "True"
      ]
     },
     "execution_count": 38,
     "metadata": {},
     "output_type": "execute_result"
    }
   ],
   "source": [
    "# Testing qrdecomp function\n",
    "\n",
    "A = np.random.random((6,4))\n",
    "Q,R = qrdecomp(A)\n",
    "print(A.shape, Q.shape, R.shape)\n",
    "\n",
    "np.allclose(np.triu(R), R) # True\n",
    "np.allclose(np.dot(Q.T, Q), np.identity(4)) # True\n",
    "np.allclose(np.dot(Q,R), A) #True "
   ]
  },
  {
   "cell_type": "markdown",
   "metadata": {},
   "source": [
    "### Problem 2"
   ]
  },
  {
   "cell_type": "code",
   "execution_count": 41,
   "metadata": {
    "collapsed": true
   },
   "outputs": [],
   "source": [
    "def qr_det(A):\n",
    "    return abs(qrdecomp(A)[1].diagonal().prod())"
   ]
  },
  {
   "cell_type": "markdown",
   "metadata": {},
   "source": [
    "### Problem 3:"
   ]
  },
  {
   "cell_type": "code",
   "execution_count": 53,
   "metadata": {
    "collapsed": true
   },
   "outputs": [],
   "source": [
    "def lin_solve(A, b):\n",
    "    n = np.size(b)\n",
    "    Q, R = qrdecomp(A)\n",
    "    y = Q.T @ b\n",
    "    \n",
    "    x = np.zeros_like(b)\n",
    "    \n",
    "    x[-1] = 1. / R[-1, -1] * y[-1]\n",
    "    for i in range(n-2, -1, -1):\n",
    "        x[i] = 1. / A[i, i] * (y[i] - np.sum(A[i, i+1:] * x[i+1:]))\n",
    "    \n",
    "    return x"
   ]
  },
  {
   "cell_type": "markdown",
   "metadata": {},
   "source": [
    "### Problem 4:"
   ]
  },
  {
   "cell_type": "code",
   "execution_count": 82,
   "metadata": {
    "collapsed": false
   },
   "outputs": [],
   "source": [
    "def householder(A):\n",
    "    sign = lambda x: 1 if x >= 0 else -1\n",
    "    \n",
    "    m,n = np.shape(A)\n",
    "    R = np.copy(A)\n",
    "    Q = np.identity(m)\n",
    "    for k in range(0, n):\n",
    "        u = np.copy(R[k:,k])\n",
    "        u[0] += sign(u[0])*la.norm(u)\n",
    "        u /= la.norm(u)\n",
    "        R[k:,k:] -= 2*np.outer(u, u.T@R[k:,k:])\n",
    "        Q[k:,:] -= 2*np.outer(u,u.T@Q[k:,:])\n",
    "    \n",
    "    return Q.T, R"
   ]
  },
  {
   "cell_type": "code",
   "execution_count": 83,
   "metadata": {
    "collapsed": false
   },
   "outputs": [
    {
     "name": "stdout",
     "output_type": "stream",
     "text": [
      "(5, 3) (5, 5) (5, 3)\n"
     ]
    },
    {
     "data": {
      "text/plain": [
       "True"
      ]
     },
     "execution_count": 83,
     "metadata": {},
     "output_type": "execute_result"
    }
   ],
   "source": [
    "A = np.random.random((5, 3))\n",
    "Q, R = householder(A)\n",
    "print(A.shape, Q.shape, R.shape)\n",
    "np.allclose(Q.dot(R), A)"
   ]
  },
  {
   "cell_type": "markdown",
   "metadata": {},
   "source": [
    "### Problem 5:"
   ]
  },
  {
   "cell_type": "code",
   "execution_count": 85,
   "metadata": {
    "collapsed": false
   },
   "outputs": [],
   "source": [
    "def hessenberg(A):\n",
    "    sign = lambda x: 1 if x >= 0 else -1\n",
    "    \n",
    "    m,n = np.shape(A)\n",
    "    H = np.copy(A)\n",
    "    Q = np.identity(m)\n",
    "    for k in range(0, n-2):\n",
    "        u = np.copy(H[k+1:,k])\n",
    "        u[0] += sign(u[0]) * la.norm(u)\n",
    "        u /= la.norm(u)\n",
    "        H[k+1:,k:] -= 2*np.outer(u, u.T@H[k+1:,k:])\n",
    "        H[:,k+1:] -= 2*np.outer(H[:,k+1:]@u, u.T)\n",
    "        Q[k+1:,:] -= 2*np.outer(u, u.T@Q[k+1:,:])\n",
    "    \n",
    "    return H, Q.T"
   ]
  },
  {
   "cell_type": "code",
   "execution_count": 87,
   "metadata": {
    "collapsed": false
   },
   "outputs": [
    {
     "data": {
      "text/plain": [
       "True"
      ]
     },
     "execution_count": 87,
     "metadata": {},
     "output_type": "execute_result"
    }
   ],
   "source": [
    "A = np.random.random((8,8))\n",
    "H, Q = hessenberg(A)\n",
    "\n",
    "np.allclose(np.triu(H, -1), H)\n",
    "np.allclose(np.dot(np.dot(Q,H), Q.T), A)"
   ]
  },
  {
   "cell_type": "code",
   "execution_count": null,
   "metadata": {
    "collapsed": true
   },
   "outputs": [],
   "source": []
  }
 ],
 "metadata": {
  "kernelspec": {
   "display_name": "Python 3",
   "language": "python",
   "name": "python3"
  },
  "language_info": {
   "codemirror_mode": {
    "name": "ipython",
    "version": 3
   },
   "file_extension": ".py",
   "mimetype": "text/x-python",
   "name": "python",
   "nbconvert_exporter": "python",
   "pygments_lexer": "ipython3",
   "version": "3.6.0"
  }
 },
 "nbformat": 4,
 "nbformat_minor": 2
}
