{
 "cells": [
  {
   "cell_type": "markdown",
   "metadata": {},
   "source": [
    "## QR2: Least Squares and Computing Eigenvalues"
   ]
  },
  {
   "cell_type": "markdown",
   "metadata": {},
   "source": [
    "### Problem 1:"
   ]
  },
  {
   "cell_type": "code",
   "execution_count": 5,
   "metadata": {
    "collapsed": false
   },
   "outputs": [],
   "source": [
    "import numpy as np\n",
    "from cmath import sqrt\n",
    "from scipy import linalg as la\n",
    "from matplotlib import pyplot as plt"
   ]
  },
  {
   "cell_type": "code",
   "execution_count": 6,
   "metadata": {
    "collapsed": true
   },
   "outputs": [],
   "source": [
    "def solve1(A, b):\n",
    "    Q, R = la.qr(A, mode='economic')\n",
    "    rhand = Q.T @ b\n",
    "    return la.solve_triangular(R, rhand)"
   ]
  },
  {
   "cell_type": "markdown",
   "metadata": {},
   "source": [
    "### Problem 2:"
   ]
  },
  {
   "cell_type": "code",
   "execution_count": 109,
   "metadata": {
    "collapsed": false
   },
   "outputs": [],
   "source": [
    "def plthousing():\n",
    "    housing = np.load('housing.npy')\n",
    "    yr = housing[:,0]                                 \n",
    "    p = housing[:,1]\n",
    "    ones = np.ones_like(yr)\n",
    "    A = np.column_stack((yr, ones))\n",
    "    \n",
    "    betas = solve1(A, p)\n",
    "    beta = betas[0]\n",
    "    alpha = betas[1]\n",
    "  \n",
    "    fit = beta*yr + alpha\n",
    "    \n",
    "    plt.scatter(yr, p, color='black', marker='*', s=5, label='Data Points')\n",
    "    plt.plot(fit, lw=1, color='blue', label='Least Squares Fit')\n",
    "    plt.xlim([0, 16])\n",
    "    plt.xlabel(\"Year (2000+)\")\n",
    "    plt.ylabel(\"Prices\")\n",
    "    plt.title(\"Puchase-Only Housing Prices, 2000-2016\")\n",
    "    plt.legend()\n",
    "    plt.show()\n"
   ]
  },
  {
   "cell_type": "code",
   "execution_count": 110,
   "metadata": {
    "collapsed": false
   },
   "outputs": [
    {
     "data": {
      "image/png": "[encoded data removed]",
      "text/plain": [
       "<matplotlib.figure.Figure at 0x10f97ea58>"
      ]
     },
     "metadata": {},
     "output_type": "display_data"
    }
   ],
   "source": [
    "plthousing()"
   ]
  },
  {
   "cell_type": "markdown",
   "metadata": {},
   "source": [
    "### Problem 3:"
   ]
  },
  {
   "cell_type": "code",
   "execution_count": 155,
   "metadata": {
    "collapsed": true
   },
   "outputs": [],
   "source": [
    "def plthousing_poly():\n",
    "    housing = np.load('housing.npy')\n",
    "    yr = housing[:,0]                                 \n",
    "    p = housing[:,1]\n",
    "    ones = np.ones_like(yr)\n",
    "    \n",
    "    domain = np.linspace(0, 16, 200)\n",
    "\n",
    "    A_3 = np.vander(yr, 4)\n",
    "    x_3 = la.lstsq(A_3, p)[0]\n",
    "    f_3 = np.poly1d(x_3)\n",
    "    y_3 = f_3(domain)\n",
    "    \n",
    "    A_6 = np.vander(yr, 7)\n",
    "    x_6 = la.lstsq(A_6, p)[0]\n",
    "    f_6 = np.poly1d(x_6)\n",
    "    y_6 = f_6(domain)\n",
    "    \n",
    "    A_9 = np.vander(yr, 10)\n",
    "    x_9 = la.lstsq(A_9, p)[0]\n",
    "    f_9 = np.poly1d(x_9)\n",
    "    y_9 = f_9(domain)\n",
    "    \n",
    "    A_12 = np.vander(yr, 13)\n",
    "    x_12 = la.lstsq(A_12, p)[0]\n",
    "    f_12 = np.poly1d(x_12)\n",
    "    y_12 = f_12(domain)\n",
    "    \n",
    "    plt.subplot(221)\n",
    "    plt.scatter(yr, p, color='black', marker='*', s=5, label='Data Points')\n",
    "    plt.plot(domain, y_3, color='blue')\n",
    "    plt.title(\"Deg = 3\")\n",
    "    plt.ylabel(\"Price\")\n",
    "    \n",
    "    plt.subplot(222)\n",
    "    plt.scatter(yr, p, color='black', marker='*', s=5, label='Data Points')\n",
    "    plt.plot(domain, y_6, color='blue')\n",
    "    plt.title(\"Deg = 6\")\n",
    "    \n",
    "    plt.subplot(223)\n",
    "    plt.scatter(yr, p, color='black', marker='*', s=5, label='Data Points')\n",
    "    plt.plot(domain, y_9, color='blue')\n",
    "    plt.title(\"Deg = 9\")\n",
    "    plt.ylabel(\"Price\")\n",
    "    plt.xlabel(\"Year (2000+)\")\n",
    "    \n",
    "    plt.subplot(224)\n",
    "    plt.scatter(yr, p, color='black', marker='*', s=5, label='Data Points')\n",
    "    plt.plot(domain, y_12, color='blue')\n",
    "    plt.title(\"Deg = 12\")\n",
    "    plt.xlabel(\"Year (2000+)\")\n",
    "    \n",
    "    plt.tight_layout()\n",
    "    plt.show()\n",
    "    "
   ]
  },
  {
   "cell_type": "code",
   "execution_count": 156,
   "metadata": {
    "collapsed": false
   },
   "outputs": [
    {
     "data": {
      "image/png": "[encoded data removed]",
      "text/plain": [
       "<matplotlib.figure.Figure at 0x10fb74a90>"
      ]
     },
     "metadata": {},
     "output_type": "display_data"
    }
   ],
   "source": [
    "plthousing_poly()"
   ]
  },
  {
   "cell_type": "markdown",
   "metadata": {},
   "source": [
    "### Problem 4:"
   ]
  },
  {
   "cell_type": "code",
   "execution_count": 265,
   "metadata": {
    "collapsed": false
   },
   "outputs": [],
   "source": [
    "def circleplot():\n",
    "    xk, yk = np.load('ellipse.npy').T\n",
    "    A = np.column_stack((xk**2, xk, xk*yk, yk, yk**2))\n",
    "    b = np.ones_like(xk)\n",
    "    \n",
    "    a, b, c, d, e = la.lstsq(A, b)[0]\n",
    "    print(a, b, c, d, e)\n",
    "    \n",
    "    theta = np.linspace(0, 2*np.pi, 200)\n",
    "    cos_t, sin_t = np.cos(theta), np.sin(theta)\n",
    "    A = a*(cos_t**2) + c*cos_t*sin_t + e*(sin_t**2)\n",
    "    B = b*cos_t + d*sin_t\n",
    "    r = (-B + np.sqrt(B**2 + 4*A))/(2*A)\n",
    "    plt.plot(r*cos_t, r*sin_t, lw=1, color='blue')\n",
    "    plt.gca().set_aspect(\"equal\", \"datalim\") \n",
    "    plt.scatter(xk, yk, color='black', marker='*', s=4)\n",
    "    plt.show()"
   ]
  },
  {
   "cell_type": "code",
   "execution_count": 266,
   "metadata": {
    "collapsed": false
   },
   "outputs": [
    {
     "name": "stdout",
     "output_type": "stream",
     "text": [
      "0.0869616583673 -0.141352437846 0.159457218443 -0.315650127752 0.366158417025\n"
     ]
    },
    {
     "data": {
      "image/png": "[encoded data removed]",
      "text/plain": [
       "<matplotlib.figure.Figure at 0x10ff82b00>"
      ]
     },
     "metadata": {},
     "output_type": "display_data"
    }
   ],
   "source": [
    "circleplot()"
   ]
  },
  {
   "cell_type": "markdown",
   "metadata": {},
   "source": [
    "### Problem 5:"
   ]
  },
  {
   "cell_type": "code",
   "execution_count": 218,
   "metadata": {
    "collapsed": false
   },
   "outputs": [],
   "source": [
    "def powermethod(A, N, tol):\n",
    "    m,n = np.shape(A)\n",
    "    x = np.random.random(n)\n",
    "    x /= la.norm(x)\n",
    "    for k in range(1,N):\n",
    "        x_prev = x\n",
    "        x = A@x\n",
    "        x /= la.norm(x)\n",
    "        if la.norm(x - x_prev) <= tol:\n",
    "            break\n",
    "    \n",
    "    return x.T @ A @ x, x"
   ]
  },
  {
   "cell_type": "code",
   "execution_count": 219,
   "metadata": {
    "collapsed": false
   },
   "outputs": [
    {
     "name": "stdout",
     "output_type": "stream",
     "text": [
      "(4.79907864907+0j) [ 0.25670711+0.j  0.26831972+0.j  0.42672921+0.j  0.35946998+0.j\n",
      "  0.19793942+0.j  0.26700626+0.j  0.29775255+0.j  0.31858462+0.j\n",
      "  0.30680318+0.j  0.39501420+0.j]\n",
      "4.79904900174 [ 0.25668261  0.26828994  0.42674826  0.35945149  0.19795841  0.26700363\n",
      "  0.29773448  0.3186015   0.30682602  0.39502112]\n"
     ]
    }
   ],
   "source": [
    "A = np.random.random((10,10))\n",
    "eigs, vecs = la.eig(A)\n",
    "loc = np.argmax(eigs)\n",
    "lamb, x = eigs[loc], vecs[:,loc]\n",
    "\n",
    "mylamb, myx = powermethod(A, 1000, 1e-3)\n",
    "print(lamb, x)\n",
    "print(mylamb, myx)"
   ]
  },
  {
   "cell_type": "markdown",
   "metadata": {},
   "source": [
    "### Problem 6:"
   ]
  },
  {
   "cell_type": "code",
   "execution_count": 263,
   "metadata": {
    "collapsed": false
   },
   "outputs": [],
   "source": [
    "def QR_hess(A, N, tol):\n",
    "    m,n = np.shape(A)\n",
    "    S = la.hessenberg(A)\n",
    "    for k in range(N):\n",
    "        Q, R = la.qr(S, mode='economic')\n",
    "        S = R@Q\n",
    "    eigs = []\n",
    "    i = 0\n",
    "    while i < n:\n",
    "        S_i = S[i,i]\n",
    "        if (i == n-1):\n",
    "            eigs = np.append(eigs, S_i)\n",
    "        elif (abs(S[i+1,i] <= tol)):\n",
    "            eigs = np.append(eigs, S_i)\n",
    "        else:\n",
    "            b = (-1)* (S_i[i,i] + S_i[i+1, i+1])\n",
    "            c = -b - S_i[i, i+1] * S_i[i+1,]\n",
    "            eig1 = (-b + cmath.sqrt(b**2 - 4*c))/2\n",
    "            eig2 = (-b - cmath.sqrt(b**2 - 4*c))/2\n",
    "            eigs = np.append(eigs, [eig1, eig2])\n",
    "            i += 1\n",
    "        i += 1\n",
    "    return eigs"
   ]
  },
  {
   "cell_type": "code",
   "execution_count": 264,
   "metadata": {
    "collapsed": false
   },
   "outputs": [
    {
     "data": {
      "text/plain": [
       "array([ 3.63379723,  1.2177057 , -1.00268262,  0.39433233,  0.08329272])"
      ]
     },
     "execution_count": 264,
     "metadata": {},
     "output_type": "execute_result"
    }
   ],
   "source": [
    "A = np.random.random((5,5))\n",
    "A += A.T\n",
    "\n",
    "QR_hess(A, 100, 1e-4)"
   ]
  },
  {
   "cell_type": "markdown",
   "metadata": {},
   "source": [
    "My output matches the output of la.eig(A)"
   ]
  },
  {
   "cell_type": "code",
   "execution_count": null,
   "metadata": {
    "collapsed": true
   },
   "outputs": [],
   "source": []
  }
 ],
 "metadata": {
  "kernelspec": {
   "display_name": "Python 3",
   "language": "python",
   "name": "python3"
  },
  "language_info": {
   "codemirror_mode": {
    "name": "ipython",
    "version": 3
   },
   "file_extension": ".py",
   "mimetype": "text/x-python",
   "name": "python",
   "nbconvert_exporter": "python",
   "pygments_lexer": "ipython3",
   "version": "3.6.0"
  }
 },
 "nbformat": 4,
 "nbformat_minor": 2
}
