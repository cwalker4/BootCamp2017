{
 "cells": [
  {
   "cell_type": "markdown",
   "metadata": {},
   "source": [
    "## PSET 4 Problem 3:"
   ]
  },
  {
   "cell_type": "markdown",
   "metadata": {
    "collapsed": true
   },
   "source": [
    "#### (a)"
   ]
  },
  {
   "cell_type": "code",
   "execution_count": 1,
   "metadata": {
    "collapsed": true
   },
   "outputs": [],
   "source": [
    "import numpy as np\n",
    "import numpy.linalg as lin\n",
    "import scipy.stats as sts\n",
    "import scipy.integrate as intgr\n",
    "import scipy.optimize as opt\n",
    "import matplotlib\n",
    "import matplotlib.pyplot as plt\n",
    "from mpl_toolkits.mplot3d import Axes3D\n",
    "from matplotlib import cm"
   ]
  },
  {
   "cell_type": "code",
   "execution_count": 2,
   "metadata": {
    "collapsed": false
   },
   "outputs": [
    {
     "data": {
      "image/png": "[encoded data removed]",
      "text/plain": [
       "<matplotlib.figure.Figure at 0x102688c18>"
      ]
     },
     "metadata": {},
     "output_type": "display_data"
    }
   ],
   "source": [
    "incs = np.loadtxt('usincmoms.txt', delimiter='\\t')\n",
    "incs[:,1] = incs[:,1] / 1000\n",
    "incs[:,[1,0]] = incs[:,[0,1]]\n",
    "\n",
    "num_bins = 42\n",
    "rects = plt.bar(incs[:,0], incs[:,1], width=5, color='b',\n",
    "                edgecolor='black', linewidth=0.5,\n",
    "                align='center')\n",
    "\n",
    "rects[40].set_width(50)\n",
    "rects[40].set_x(200)\n",
    "rects[40].set_height(rects[40].get_height() / 20)\n",
    "rects[41].set_width(100)\n",
    "rects[41].set_x(250)\n",
    "rects[41].set_height(rects[41].get_height() / 40)\n",
    "plt.xlabel('Income Bracket (Thousands of Dollars)')\n",
    "plt.ylabel('Percent of observations in bin')\n",
    "plt.xlim([0, 350])\n",
    "plt.title(\"U.S. Income Distribution\")\n",
    "plt.show()"
   ]
  },
  {
   "cell_type": "markdown",
   "metadata": {},
   "source": [
    "#### (b)"
   ]
  },
  {
   "cell_type": "code",
   "execution_count": 24,
   "metadata": {
    "collapsed": false
   },
   "outputs": [
    {
     "name": "stdout",
     "output_type": "stream",
     "text": [
      "mu_GMM1= 1e-10 \n",
      "sig_GMM1= 48.9668512792\n",
      "\n",
      "Criterion value= 0.0360113341876\n"
     ]
    }
   ],
   "source": [
    "def lognorm_pdf(x, mu, sigma):\n",
    "    return sts.lognorm.pdf(x, 1, mu, sigma)\n",
    "\n",
    "def data_moments(xvals):\n",
    "    return xvals\n",
    "\n",
    "def model_moments(bracks, mu, sigma):\n",
    "    moms = np.zeros_like(bracks)\n",
    "    xfx = lambda x: lognorm_pdf(x, mu, sigma)\n",
    "    for i in range(40):\n",
    "        moms[i] = intgr.quad(xfx, bracks[i] - 2.5, \n",
    "                             bracks[i] + 2.5)[0]\n",
    "    moms[40] = intgr.quad(xfx, bracks[40]-25, bracks[40]+25)[0]\n",
    "    moms[41] = intgr.quad(xfx, bracks[41]-50, bracks[41]+50)[0]\n",
    "\n",
    "    return moms\n",
    "\n",
    "def err_vec(xvals, bracks, mu, sigma):\n",
    "    moms_data = data_moments(xvals)\n",
    "    moms_model = model_moments(bracks, mu, sigma)\n",
    "    \n",
    "    err_vec = (moms_model - moms_data) / moms_data\n",
    "    return err_vec\n",
    "\n",
    "def criterion(params, *args):\n",
    "    mu, sigma = params\n",
    "    xvals, W, bracks = args\n",
    "    err = err_vec(xvals, bracks, mu, sigma)\n",
    "    crit_val = (err.T @ W) @ err\n",
    "    \n",
    "    return crit_val\n",
    "\n",
    "def weight_arr(xvals):\n",
    "    return np.diag(xvals)\n",
    "\n",
    "xvals = incs[:,1]\n",
    "bracks = incs[:,0]\n",
    "mu_init = incs[:,0] @ incs[:,1]\n",
    "sig_init = 30\n",
    "params_init = np.array([mu_init, sig_init])\n",
    "W_hat = weight_arr(xvals)\n",
    "gmm_args = (xvals, W_hat, bracks)\n",
    "results = opt.minimize(criterion, params_init, args=(gmm_args),\n",
    "                       method='L-BFGS-B',\n",
    "                        bounds=((1e-10,None),(1e-10,None)))\n",
    "\n",
    "mu_GMM1, sig_GMM1 = results.x\n",
    "crit_GMM1 = criterion(np.array([mu_GMM1, sig_GMM1]), \n",
    "                      xvals, W_hat, bracks)\n",
    "print('mu_GMM1=', mu_GMM1, '\\nsig_GMM1=', sig_GMM1)\n",
    "print('\\nCriterion value=', crit_GMM1)"
   ]
  },
  {
   "cell_type": "code",
   "execution_count": 20,
   "metadata": {
    "collapsed": false,
    "scrolled": true
   },
   "outputs": [
    {
     "data": {
      "image/png": "[encoded data removed]",
      "text/plain": [
       "<matplotlib.figure.Figure at 0x11166ca58>"
      ]
     },
     "metadata": {},
     "output_type": "display_data"
    }
   ],
   "source": [
    "num_bins = 42\n",
    "ind = np.arange(0, num_bins * 5, 5)\n",
    "rects = plt.bar(incs[:,0], incs[:,1], width=5, color='b',\n",
    "                edgecolor='black', linewidth=0.5,\n",
    "                align='center')\n",
    "\n",
    "rects[40].set_width(50)\n",
    "rects[40].set_x(200)\n",
    "rects[40].set_height(rects[40].get_height() / 20)\n",
    "rects[41].set_width(100)\n",
    "rects[41].set_x(250)\n",
    "rects[41].set_height(rects[41].get_height() / 40)\n",
    "plt.xlabel('Income Bracket (Thousands of Dollars)')\n",
    "plt.ylabel('Percent of observations in bin')\n",
    "plt.xlim([0, 350])\n",
    "plt.title(\"U.S. Income Distribution\")\n",
    "\n",
    "dist_pts = np.linspace(0, 350, 500)\n",
    "model_moms = model_moments(bracks, mu_GMM1, sig_GMM1)\n",
    "model_moms[40] /= 20\n",
    "model_moms[41] /= 40\n",
    "\n",
    "plt.plot(bracks, model_moms, linewidth=2, color='red')\n",
    "plt.show()"
   ]
  },
  {
   "cell_type": "markdown",
   "metadata": {},
   "source": [
    "#### (c)"
   ]
  },
  {
   "cell_type": "code",
   "execution_count": 26,
   "metadata": {
    "collapsed": false
   },
   "outputs": [
    {
     "name": "stdout",
     "output_type": "stream",
     "text": [
      "Converged? True\n",
      "alpha_GMM= 3.0 \n",
      "beta_GMM= 20000.0\n",
      "Criterion value= 1.0\n"
     ]
    }
   ],
   "source": [
    "import math\n",
    "\n",
    "def gamma_pdf(xvals, alpha, beta):\n",
    "    return sts.gamma.pdf(xvals, alpha, scale=(1/beta))\n",
    "\n",
    "def data_moments_ga(xvals):\n",
    "    return xvals\n",
    "\n",
    "def model_moments_ga(bracks, alpha, beta):\n",
    "    moms = np.zeros_like(bracks)\n",
    "    xfx = lambda x: gamma_pdf(x, alpha, beta)\n",
    "    for i in range(40):\n",
    "        moms[i] = intgr.quad(xfx, bracks[i] - 2.5, \n",
    "                             bracks[i] + 2.5)[0]\n",
    "    moms[40] = intgr.quad(xfx, bracks[40]-25, bracks[40]+25)[0]\n",
    "    moms[41] = intgr.quad(xfx, bracks[41]-50, bracks[41]+50)[0]\n",
    "    return moms\n",
    "\n",
    "def err_vec_ga(xvals, bracks, alpha, beta):\n",
    "    moms_data = data_moments_ga(xvals)\n",
    "    moms_model = model_moments_ga(bracks, alpha, beta)\n",
    "    \n",
    "    err_vec = (moms_model - moms_data) / moms_data\n",
    "    return err_vec\n",
    "\n",
    "def criterion_ga(params, *args):\n",
    "    alpha, beta = params\n",
    "    xvals, W, bracks = args\n",
    "    err = err_vec_ga(xvals, bracks, alpha, beta)\n",
    "    crit_val = (err.T @ W) @ err\n",
    "    \n",
    "    return crit_val\n",
    "\n",
    "def weight_arr(xvals):\n",
    "    return np.diag(xvals)\n",
    "\n",
    "xvals = incs[:,1]\n",
    "bracks = incs[:,0]\n",
    "alpha_init = 3\n",
    "beta_init = 20000\n",
    "params_init_ga = np.array([alpha_init, beta_init])\n",
    "W_hat = weight_arr(xvals)\n",
    "gmm_args = (xvals, W_hat, bracks)\n",
    "results = opt.minimize(criterion_ga, params_init_ga, args=(gmm_args),\n",
    "                       method='L-BFGS-B',\n",
    "                        bounds=((1e-10,None),(1e-10,None)))\n",
    "\n",
    "alpha_GMM, beta_GMM = results.x\n",
    "crit_GMM1 = criterion_ga(np.array([alpha_GMM, beta_GMM]), \n",
    "                         xvals, W_hat, bracks)\n",
    "print(\"Converged?\", results.success)\n",
    "print('alpha_GMM=', alpha_GMM, '\\nbeta_GMM=', beta_GMM)\n",
    "print('Criterion value=', crit_GMM1)\n"
   ]
  },
  {
   "cell_type": "code",
   "execution_count": 27,
   "metadata": {
    "collapsed": false
   },
   "outputs": [
    {
     "data": {
      "image/png": "[encoded data removed]",
      "text/plain": [
       "<matplotlib.figure.Figure at 0x10ad57240>"
      ]
     },
     "metadata": {},
     "output_type": "display_data"
    }
   ],
   "source": [
    "num_bins = 42\n",
    "ind = np.arange(0, num_bins * 5, 5)\n",
    "rects = plt.bar(incs[:,0], incs[:,1], width=5, color='b',\n",
    "                edgecolor='black', linewidth=0.5,\n",
    "                align='center')\n",
    "\n",
    "rects[40].set_width(50)\n",
    "rects[40].set_x(200)\n",
    "rects[40].set_height(rects[40].get_height() / 20)\n",
    "rects[41].set_width(100)\n",
    "rects[41].set_x(250)\n",
    "rects[41].set_height(rects[41].get_height() / 40)\n",
    "plt.xlabel('Income Bracket (Thousands of Dollars)')\n",
    "plt.ylabel('Percent of observations in bin')\n",
    "plt.xlim([0, 350])\n",
    "plt.title(\"U.S. Income Distribution\")\n",
    "\n",
    "\n",
    "model_moms = model_moments_ga(bracks, alpha_GMM, beta_GMM)\n",
    "plt.plot(bracks, model_moms, linewidth=2, color='r')\n",
    "plt.show()"
   ]
  },
  {
   "cell_type": "code",
   "execution_count": null,
   "metadata": {
    "collapsed": true
   },
   "outputs": [],
   "source": []
  }
 ],
 "metadata": {
  "kernelspec": {
   "display_name": "Python 3",
   "language": "python",
   "name": "python3"
  },
  "language_info": {
   "codemirror_mode": {
    "name": "ipython",
    "version": 3
   },
   "file_extension": ".py",
   "mimetype": "text/x-python",
   "name": "python",
   "nbconvert_exporter": "python",
   "pygments_lexer": "ipython3",
   "version": "3.6.0"
  }
 },
 "nbformat": 4,
 "nbformat_minor": 2
}
