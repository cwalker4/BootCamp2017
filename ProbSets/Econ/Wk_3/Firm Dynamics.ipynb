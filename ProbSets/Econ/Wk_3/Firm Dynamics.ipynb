{
 "cells": [
  {
   "cell_type": "markdown",
   "metadata": {},
   "source": [
    "## Firm Dynamics Exercises"
   ]
  },
  {
   "cell_type": "markdown",
   "metadata": {},
   "source": [
    "### Problem 1:"
   ]
  },
  {
   "cell_type": "markdown",
   "metadata": {},
   "source": [
    "#### Step 1: approximating the continuous AR(1) process"
   ]
  },
  {
   "cell_type": "markdown",
   "metadata": {},
   "source": [
    "Productivity shocks follow AR(1) process:\n",
    "\n",
    "$$ ln(z_{t+1}) = \\rho ln(z_{t}) + (1-\\rho)\\mu + \\varepsilon_{t}, $$\n",
    "\n",
    "where $\\varepsilon_{t}\\sim N(0,\\sigma_{\\varepsilon})$. "
   ]
  },
  {
   "cell_type": "markdown",
   "metadata": {},
   "source": [
    "Approximating the continuous distribution over a finite grid using Adda-Cooper (2003) method:"
   ]
  },
  {
   "cell_type": "code",
   "execution_count": 16,
   "metadata": {
    "collapsed": true
   },
   "outputs": [],
   "source": [
    "import numpy as np\n",
    "import matplotlib.pyplot as plt\n",
    "import seaborn as sns"
   ]
  },
  {
   "cell_type": "code",
   "execution_count": 17,
   "metadata": {
    "collapsed": true
   },
   "outputs": [],
   "source": [
    "# setting up parameters\n",
    "rho = 0.7605\n",
    "mu = 0\n",
    "sigma_eps = 0.213\n",
    "sigma_z = sigma_eps / ((1 - rho ** 2) ** (1 / 2))"
   ]
  },
  {
   "cell_type": "code",
   "execution_count": 18,
   "metadata": {
    "collapsed": false
   },
   "outputs": [],
   "source": [
    "# import packages\n",
    "from scipy.stats import norm\n",
    "\n",
    "# Compute cut-off values\n",
    "N = 9  # number of grid points (will have one more cut-off point than this)\n",
    "z_cutoffs = (sigma_z * norm.ppf(np.arange(N + 1) / N)) + mu\n",
    "#print('Cut-off values = ', z_cutoffs)"
   ]
  },
  {
   "cell_type": "code",
   "execution_count": 19,
   "metadata": {
    "collapsed": false
   },
   "outputs": [],
   "source": [
    "# compute grid points for z\n",
    "z_grid = ((N * sigma_z * (norm.pdf((z_cutoffs[:-1] - mu) / sigma_z)\n",
    "                              - norm.pdf((z_cutoffs[1:] - mu) / sigma_z)))\n",
    "              + mu)\n",
    "#print('Grid points = ', z_grid)"
   ]
  },
  {
   "cell_type": "markdown",
   "metadata": {},
   "source": [
    "Determining transition probabilities between grid point i and j:"
   ]
  },
  {
   "cell_type": "code",
   "execution_count": 20,
   "metadata": {
    "collapsed": false
   },
   "outputs": [],
   "source": [
    "# import packages\n",
    "import scipy.integrate as integrate\n",
    "\n",
    "# define function that we will integrate\n",
    "def integrand(x, sigma_z, sigma_eps, rho, mu, z_j, z_jp1):\n",
    "    val = (np.exp((-1 * ((x - mu) ** 2)) / (2 * (sigma_z ** 2)))\n",
    "            * (norm.cdf((z_jp1 - (mu * (1 - rho)) - (rho * x)) / sigma_eps)\n",
    "               - norm.cdf((z_j - (mu * (1 - rho)) - (rho * x)) / sigma_eps)))\n",
    "    \n",
    "    return val\n",
    "\n",
    "# compute transition probabilities\n",
    "pi = np.empty((N, N)) # pi = the transition matrix\n",
    "for i in range(N):\n",
    "    for j in range(N):\n",
    "        results = integrate.quad(integrand, z_cutoffs[i], z_cutoffs[i + 1],\n",
    "                                 args = (sigma_z, sigma_eps, rho, mu,\n",
    "                                         z_cutoffs[j], z_cutoffs[j + 1]))\n",
    "        pi[i,j] = (N / np.sqrt(2 * np.pi * sigma_z ** 2)) * results[0]\n",
    "        "
   ]
  },
  {
   "cell_type": "markdown",
   "metadata": {},
   "source": [
    "#### Step 2: VFI for firm's solution:"
   ]
  },
  {
   "cell_type": "markdown",
   "metadata": {},
   "source": [
    "Setting up parameters:"
   ]
  },
  {
   "cell_type": "code",
   "execution_count": 21,
   "metadata": {
    "collapsed": true
   },
   "outputs": [],
   "source": [
    "alpha_k = 0.297\n",
    "alpha_l = 0.650\n",
    "delta = 0.154\n",
    "psi = 1.080\n",
    "w = 0.7\n",
    "r = 0.04\n",
    "\n",
    "# discount rate for the firm:\n",
    "betafirm = (1 / (1 + r))"
   ]
  },
  {
   "cell_type": "markdown",
   "metadata": {},
   "source": [
    "Setting up grid for K, using:\n",
    "\n",
    "$$ k^{i} = (1-\\delta)^{\\frac{1}{\\texttt{dens}}}k^{i+1} $$"
   ]
  },
  {
   "cell_type": "code",
   "execution_count": 38,
   "metadata": {
    "collapsed": false
   },
   "outputs": [
    {
     "data": {
      "image/png": "[encoded data removed]",
      "text/plain": [
       "<matplotlib.figure.Figure at 0x112375e80>"
      ]
     },
     "metadata": {},
     "output_type": "display_data"
    }
   ],
   "source": [
    "dens = 1\n",
    "# put in bounds here for the capital stock space\n",
    "kstar = ((((1 / betafirm - 1 + delta) * ((w / alpha_l) **\n",
    "                                         (alpha_l / (1 - alpha_l)))) /\n",
    "         (alpha_k * (1 ** (1 / (1 - alpha_l))))) **\n",
    "         ((1 - alpha_l) / (alpha_k + alpha_l - 1)))\n",
    "kbar = 2*kstar\n",
    "lb_k = 0.001\n",
    "ub_k = kbar\n",
    "krat = np.log(lb_k / ub_k)\n",
    "numb = np.ceil(krat / np.log(1 - delta))\n",
    "K = np.zeros(int(numb * dens))\n",
    "# we'll create in a way where we pin down the upper bound - since\n",
    "# the distance will be small near the lower bound, we'll miss that by little\n",
    "for j in range(int(numb * dens)):\n",
    "    K[j] = ub_k * (1 - delta) ** (j / dens)\n",
    "kvec = K[::-1]\n",
    "sizek = kvec.shape[0]\n",
    "\n",
    "k_linear = np.linspace(lb_k, ub_k, num=sizek)\n",
    "plt.scatter(k_linear, kvec)\n",
    "plt.show()"
   ]
  },
  {
   "cell_type": "markdown",
   "metadata": {},
   "source": [
    "Grid of per-period flows:"
   ]
  },
  {
   "cell_type": "code",
   "execution_count": 42,
   "metadata": {
    "collapsed": false
   },
   "outputs": [],
   "source": [
    "# operating profits, op\n",
    "op = ((1 - alpha_l) * ((alpha_l / w) ** (alpha_l / (1 - alpha_l))) *\n",
    "      ((kvec ** alpha_k) ** (1 / (1 - alpha_l))))\n",
    "\n",
    "# firm cash flow, e\n",
    "e = np.zeros((sizek, sizek))\n",
    "for i in range(sizek):\n",
    "    for j in range(sizek):\n",
    "            e[i, j] = (op[i] - kvec[j] + ((1 - delta) * kvec[i]) -\n",
    "                       ((psi / 2) * ((kvec[j] - ((1 - delta) * kvec[i])) ** 2)\n",
    "                        / kvec[i]))"
   ]
  },
  {
   "cell_type": "code",
   "execution_count": 25,
   "metadata": {
    "collapsed": true
   },
   "outputs": [],
   "source": [
    "VFtol = 1e-6\n",
    "VFdist = 7.0\n",
    "VFmaxiter = 3000\n",
    "V = np.zeros(sizek)  # initial guess at value function\n",
    "Vmat = np.zeros((sizek, sizek))  # initialize Vmat matrix\n",
    "Vstore = np.zeros((sizek, VFmaxiter))  # initialize Vstore array\n",
    "VFiter = 1"
   ]
  },
  {
   "cell_type": "code",
   "execution_count": null,
   "metadata": {
    "collapsed": true
   },
   "outputs": [],
   "source": [
    "while VFdist > VFtol and VFiter < VFmaxiter:\n",
    "    TV = V\n",
    "    for i in range(sizek):  # loop over k\n",
    "        for j in range(sizek):  # loop over k'\n",
    "            for k in range(sizek):\n",
    "                Vmat[i, j] = e[i, j] + betafirm * V[j]\n",
    "    Vstore[:, VFiter] = V.reshape(sizek,)  # store value function at each\n",
    "    # iteration for graphing later\n",
    "    V = Vmat.max(axis=1)  # apply max operator to Vmat (to get V(k))\n",
    "    PF = np.argmax(Vmat, axis=1)  # find the index of the optimal k'\n",
    "    VFdist = (np.absolute(V - TV)).max()  # check distance between value\n",
    "    # function for this iteration and value function from past iteration\n",
    "    VFiter += 1"
   ]
  }
 ],
 "metadata": {
  "kernelspec": {
   "display_name": "Python 3",
   "language": "python",
   "name": "python3"
  },
  "language_info": {
   "codemirror_mode": {
    "name": "ipython",
    "version": 3
   },
   "file_extension": ".py",
   "mimetype": "text/x-python",
   "name": "python",
   "nbconvert_exporter": "python",
   "pygments_lexer": "ipython3",
   "version": "3.6.0"
  }
 },
 "nbformat": 4,
 "nbformat_minor": 2
}
