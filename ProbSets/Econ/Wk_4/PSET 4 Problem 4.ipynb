{
 "cells": [
  {
   "cell_type": "markdown",
   "metadata": {},
   "source": [
    "## Problem 4:"
   ]
  },
  {
   "cell_type": "code",
   "execution_count": 1,
   "metadata": {
    "collapsed": true
   },
   "outputs": [],
   "source": [
    "import numpy as np\n",
    "import numpy.linalg as lin\n",
    "import scipy.stats as sts\n",
    "import scipy.integrate as intgr\n",
    "import scipy.optimize as opt\n",
    "import matplotlib\n",
    "import matplotlib.pyplot as plt\n",
    "from mpl_toolkits.mplot3d import Axes3D\n",
    "from matplotlib import cm"
   ]
  },
  {
   "cell_type": "code",
   "execution_count": 2,
   "metadata": {
    "collapsed": true
   },
   "outputs": [],
   "source": [
    "data = np.loadtxt('MacroSeries.txt', delimiter=',')\n",
    "c = data[:,0]\n",
    "k = data[:,1]\n",
    "w = data[:,2]\n",
    "r = data[:,3]"
   ]
  },
  {
   "cell_type": "code",
   "execution_count": 58,
   "metadata": {
    "collapsed": false
   },
   "outputs": [
    {
     "name": "stdout",
     "output_type": "stream",
     "text": [
      "Converged? True\n",
      "alpha_gmm = 0.305387281933 \n",
      "beta_gmm = 0.605901746719 \n",
      "rho_gmm = 0.700000000001 \n",
      "mu_gmm = 6.66623279681\n",
      "Criterion value= 316.627930873\n"
     ]
    }
   ],
   "source": [
    "def get_zseries(w, k, alpha):\n",
    "    denom = (1 - alpha) * (k ** alpha)\n",
    "    return np.log(w / denom)\n",
    "\n",
    "def data_moments(c, k, w, r, alpha, beta, rho, mu):\n",
    "    z = get_zseries(w, k, alpha)\n",
    "    z0 = np.roll(z, 1)\n",
    "    z0[0] = mu\n",
    "    c0 = np.roll(c, 1)\n",
    "    \n",
    "    mom1 = np.mean(z - rho * z0 - (1 - rho) * mu)\n",
    "    mom2 = np.mean((z - rho * z0 - (1 - rho) * mu) * z0)\n",
    "    mom3 = np.mean(beta * alpha * np.exp(z0 + 1) * (k ** (alpha - 1))\n",
    "                   * (c0 / c) - 1)\n",
    "    mom4= np.mean((beta * alpha * np.exp(z0 + 1) * (k ** (alpha - 1))\n",
    "                   * (c0 / c) - 1) * w)\n",
    "    \n",
    "    moms_model = np.array([mom1, mom2, mom3, mom4])\n",
    "    \n",
    "    return moms_model\n",
    "\n",
    "def err_vec(c, k, w, r, alpha, beta, rho, mu):\n",
    "    moms_data = data_moments(c, k, w, r, alpha, beta, rho, mu)\n",
    "    moms_model = np.zeros(4)\n",
    "    \n",
    "    err_vec = (moms_data - moms_model) #/ moms_data\n",
    "    return err_vec\n",
    "\n",
    "def criterion(params, *args):\n",
    "    alpha, beta, rho, mu = params\n",
    "    c, k, w, r, W = args\n",
    "    err = err_vec(c, k, w, r, alpha, beta, rho, mu)\n",
    "    crit_val = (err.T @ W) @ err\n",
    "    return crit_val\n",
    "\n",
    "alpha_init = 0.45\n",
    "beta_init = 0.93\n",
    "rho_init = 0.7\n",
    "mu_init = 10\n",
    "params_init = np.array([alpha_init, beta_init, rho_init, mu_init])\n",
    "\n",
    "W_hat = np.eye(4)\n",
    "args_gmm = (c, k, w, r, W_hat)\n",
    "\n",
    "results = opt.minimize(criterion, params_init, args=(args_gmm),\n",
    "                       method='L-BFGS-B',\n",
    "                       bounds=((1e-10,1-1e-10),(1e-10,1-1e-10),\n",
    "                               (1e-10-1,1-1e-10),(1e-10,None)))\n",
    "\n",
    "alpha_gmm, beta_gmm, rho_gmm, mu_gmm = results.x\n",
    "print(\"Converged?\", results.success)\n",
    "print(\"alpha_gmm =\", alpha_gmm, \"\\nbeta_gmm =\", beta_gmm,\n",
    "      \"\\nrho_gmm =\", rho_gmm, \"\\nmu_gmm =\", mu_gmm)\n",
    "print(\"Criterion value=\", results.fun)\n",
    "\n",
    "    "
   ]
  },
  {
   "cell_type": "code",
   "execution_count": null,
   "metadata": {
    "collapsed": false
   },
   "outputs": [],
   "source": []
  },
  {
   "cell_type": "code",
   "execution_count": null,
   "metadata": {
    "collapsed": true
   },
   "outputs": [],
   "source": []
  }
 ],
 "metadata": {
  "kernelspec": {
   "display_name": "Python 3",
   "language": "python",
   "name": "python3"
  },
  "language_info": {
   "codemirror_mode": {
    "name": "ipython",
    "version": 3
   },
   "file_extension": ".py",
   "mimetype": "text/x-python",
   "name": "python",
   "nbconvert_exporter": "python",
   "pygments_lexer": "ipython3",
   "version": "3.6.0"
  }
 },
 "nbformat": 4,
 "nbformat_minor": 2
}
