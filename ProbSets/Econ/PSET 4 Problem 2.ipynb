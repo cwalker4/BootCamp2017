{
 "cells": [
  {
   "cell_type": "markdown",
   "metadata": {},
   "source": [
    "## Problem 2:"
   ]
  },
  {
   "cell_type": "markdown",
   "metadata": {},
   "source": [
    "#### (a)"
   ]
  },
  {
   "cell_type": "code",
   "execution_count": 1,
   "metadata": {
    "collapsed": true
   },
   "outputs": [],
   "source": [
    "import numpy as np\n",
    "import scipy.stats as sts\n",
    "import matplotlib.pyplot as plt\n",
    "import scipy.optimize as opt\n",
    "\n",
    "data = np.loadtxt('MacroSeries.txt', delimiter=',')\n",
    "c = data[:,0]\n",
    "k = data[:,1]\n",
    "w = data[:,2]\n",
    "r = data[:,3]"
   ]
  },
  {
   "cell_type": "code",
   "execution_count": 23,
   "metadata": {
    "collapsed": false
   },
   "outputs": [
    {
     "name": "stdout",
     "output_type": "stream",
     "text": [
      "alpha_mle= 0.457533527217 \n",
      "rho_mle= 0.720477219933 \n",
      "mu_mle= 9.52247950197 \n",
      "sigma_mle= 0.0919961708086 \n",
      "log likelihood= 96.7069080835\n",
      "\n",
      "Inverse Hessian:\n",
      " [[  2.33433680e+02  -1.52242979e+02  -3.32325513e+03  -4.06037969e+00]\n",
      " [ -1.52242979e+02   9.97695949e+01   2.16653271e+03   2.60496409e+00]\n",
      " [ -3.32325513e+03   2.16653271e+03   4.73127715e+04   5.78855810e+01]\n",
      " [ -4.06037969e+00   2.60496409e+00   5.78855810e+01   7.47849224e-02]]\n"
     ]
    }
   ],
   "source": [
    "def get_zseries(w, k, alpha):\n",
    "    denom = (1 - alpha) * (k ** alpha)\n",
    "    return np.log(w / denom)\n",
    "\n",
    "def log_lik_z(w, k, alpha, rho, mu, sigma):\n",
    "    z_array = get_zseries(w, k, alpha)\n",
    "    zprev_arr = np.roll(z_array, 1)\n",
    "    zprev_arr[0] = mu\n",
    "    dist_mean = (rho * zprev_arr) + ((1 - rho) * mu)\n",
    "    \n",
    "    z_pdf = (1/(sigma * np.sqrt(2 * np.pi)) *\n",
    "            np.exp( - (z_array - dist_mean)**2 / (2 * sigma**2)))\n",
    "    \n",
    "    z_pdf[np.isclose(z_pdf, np.zeros_like(z_pdf), atol=1e-25)] = 1e-10\n",
    "    \n",
    "    ln_pdf_vals = np.log(z_pdf, where=(z_pdf>0))\n",
    "    log_lik_val = ln_pdf_vals.sum()\n",
    "    \n",
    "    return log_lik_val\n",
    "\n",
    "def crit(params, *args):\n",
    "    alpha, rho, mu, sigma = params\n",
    "    w, k = args\n",
    "    log_lik_val = log_lik_z(w, k, alpha, rho, mu, sigma)\n",
    "    return -log_lik_val\n",
    "\n",
    "alpha_init = 0.457\n",
    "rho_init = 0.72\n",
    "mu_init = 9.52\n",
    "sigma_init = 1\n",
    "params_init = np.array([alpha_init, rho_init, mu_init, sigma_init])\n",
    "args_mle = (w, k)\n",
    "\n",
    "results = opt.minimize(crit, params_init, args=(args_mle), method='L-BFGS-B',\n",
    "                       bounds=((1e-10, 1-1e-10),(1e-10-1, 1-1e-10),\n",
    "                               (1e-10, None), (1e-10, None)))\n",
    "\n",
    "alpha_mle, rho_mle, mu_mle, sigma_mle = results.x\n",
    "log_lik_mle = log_lik_z(w, k, alpha_mle, rho_mle, mu_mle, sigma_mle)\n",
    "\n",
    "print(\"alpha_mle=\", alpha_mle, \"\\nrho_mle=\", rho_mle,\n",
    "      \"\\nmu_mle=\", mu_mle, \"\\nsigma_mle=\", sigma_mle,\n",
    "      \"\\nlog likelihood=\", log_lik_mle)\n",
    "\n",
    "\n",
    "print(\"\\nInverse Hessian:\\n\", results.hess_inv.todense())"
   ]
  },
  {
   "cell_type": "markdown",
   "metadata": {},
   "source": [
    "#### (b)"
   ]
  },
  {
   "cell_type": "code",
   "execution_count": 45,
   "metadata": {
    "collapsed": false
   },
   "outputs": [
    {
     "name": "stdout",
     "output_type": "stream",
     "text": [
      "alpha_mle= 0.457480492396 \n",
      "rho_mle= 0.720514858938 \n",
      "mu_mle= 9.37093661628 \n",
      "sigma_mle= 0.0919962400639 \n",
      "log likelihood= 96.7069080265\n",
      "\n",
      "Inverse Hessian:\n",
      " [[  4.11978560e+01  -1.99083683e+01  -7.42493161e+02  -3.86831408e-01]\n",
      " [ -1.99083683e+01   1.10011852e+01   3.58973481e+02   1.79011091e-01]\n",
      " [ -7.42493161e+02   3.58973481e+02   1.33816921e+04   6.97072710e+00]\n",
      " [ -3.86831408e-01   1.79011091e-01   6.97072710e+00   3.72245129e-03]]\n"
     ]
    }
   ],
   "source": [
    "def get_zseriesb(r, k, alpha):\n",
    "    denom = alpha * (k ** (alpha - 1))\n",
    "    return np.log(r / denom)\n",
    "\n",
    "\n",
    "def log_lik_zb(r, k, alpha, rho, mu, sigma):\n",
    "    z_array = get_zseriesb(r, k, alpha)\n",
    "    zprev_arr = np.roll(z_array, 1)\n",
    "    zprev_arr[0] = mu\n",
    "    dist_mean = (rho * zprev_arr) + ((1 - rho) * mu)\n",
    "    z_pdf = (1/(sigma * np.sqrt(2 * np.pi)) *\n",
    "            np.exp( - (z_array - dist_mean)**2 / (2 * sigma**2)))\n",
    "    z_pdf[np.isclose(z_pdf, np.zeros_like(z_pdf), atol=1e-25)] = 1e-10\n",
    "    \n",
    "    ln_pdf_vals = np.log(z_pdf, where=(z_pdf>0))\n",
    "    log_lik_val = ln_pdf_vals.sum()\n",
    "    \n",
    "    return log_lik_val\n",
    "\n",
    "def crit(params, *args):\n",
    "    alpha, rho, mu, sigma = params\n",
    "    r, k = args\n",
    "    log_lik_val = log_lik_zb(r, k, alpha, rho, mu, sigma)\n",
    "    return -log_lik_val\n",
    "\n",
    "alpha_init = 0.5\n",
    "rho_init = 0.9\n",
    "mu_init = 5\n",
    "sigma_init = 1\n",
    "params_init = np.array([alpha_init, rho_init, mu_init, sigma_init])\n",
    "args_mle = (r, k)\n",
    "\n",
    "results = opt.minimize(crit, params_init, args=(args_mle), method='L-BFGS-B',\n",
    "                       bounds=((1e-10, 1-1e-10),(1e-10-1, 1-1e-10),\n",
    "                               (1e-10, None), (1e-10, None)))\n",
    "\n",
    "alpha_mleb, rho_mleb, mu_mleb, sigma_mleb = results.x\n",
    "log_lik_mleb = log_lik_zb(r, k, alpha_mleb, rho_mleb, mu_mleb, sigma_mleb)\n",
    "\n",
    "print(\"alpha_mle=\", alpha_mleb, \"\\nrho_mle=\", rho_mleb,\n",
    "      \"\\nmu_mle=\", mu_mleb, \"\\nsigma_mle=\", sigma_mleb,\n",
    "      \"\\nlog likelihood=\", log_lik_mleb)\n",
    "print(\"\\nInverse Hessian:\\n\", results.hess_inv.todense())"
   ]
  },
  {
   "cell_type": "markdown",
   "metadata": {},
   "source": [
    "#### (c)"
   ]
  },
  {
   "cell_type": "code",
   "execution_count": 51,
   "metadata": {
    "collapsed": false
   },
   "outputs": [
    {
     "name": "stdout",
     "output_type": "stream",
     "text": [
      "Probability of interest rates > 1: 0.9999995960078569\n"
     ]
    }
   ],
   "source": [
    "import scipy\n",
    "\n",
    "def z_pdf(z_array, mu, sigma, rho):\n",
    "    dist_mean = (rho * 10) + ((1 - rho) * mu)\n",
    "    z_pdf = (1/(sigma * np.sqrt(2 * np.pi)) *\n",
    "            np.exp( - (z_array - dist_mean)**2 / (2 * sigma**2)))\n",
    "    return z_pdf\n",
    "\n",
    "\n",
    "pdf_z = lambda z: z_pdf(z, mu_mle, sigma_mle, rho_mle)\n",
    "\n",
    "zprime = np.log(1 / (alpha_mle * (7500000 ** (alpha_mle - 1))))\n",
    "result = 1 - scipy.integrate.quad(pdf_z, 0, zprime)[0]\n",
    "print(\"Probability of interest rates > 1:\", result)"
   ]
  },
  {
   "cell_type": "code",
   "execution_count": null,
   "metadata": {
    "collapsed": true
   },
   "outputs": [],
   "source": []
  }
 ],
 "metadata": {
  "kernelspec": {
   "display_name": "Python 3",
   "language": "python",
   "name": "python3"
  },
  "language_info": {
   "codemirror_mode": {
    "name": "ipython",
    "version": 3
   },
   "file_extension": ".py",
   "mimetype": "text/x-python",
   "name": "python",
   "nbconvert_exporter": "python",
   "pygments_lexer": "ipython3",
   "version": "3.6.0"
  }
 },
 "nbformat": 4,
 "nbformat_minor": 2
}
