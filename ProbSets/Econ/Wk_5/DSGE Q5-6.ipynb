{
 "cells": [
  {
   "cell_type": "code",
   "execution_count": 1,
   "metadata": {
    "collapsed": true
   },
   "outputs": [],
   "source": [
    "import numpy as np\n",
    "from scipy.optimize import fsolve\n",
    "from IPython.display import Latex"
   ]
  },
  {
   "cell_type": "markdown",
   "metadata": {},
   "source": [
    "## Problem 5."
   ]
  },
  {
   "cell_type": "markdown",
   "metadata": {},
   "source": [
    "Assuming $\\mathscr{l}_t=1$ and the wage will be zero since labor ddoes not appear in the utility function of HH. The characterizing equations are as follows:\n",
    "\n",
    "$$ c_t = (1 - \\tau) [(r_t - \\delta) k_t] + k_t + T_t - k_{t+1} $$\n",
    "\n",
    "$$c_t^{-\\gamma} = \\beta E_t \\{ c_t^{-\\gamma} [(r_{t+1} - \\delta)(1-\\tau) + 1 ]\\} $$\n",
    "\n",
    "$$r_t = \\alpha K_t^{\\alpha - 1} (e^{z_t} L_t) ^ {1 - \\alpha}$$\n",
    "\n",
    "\n",
    "$$ \\tau [(r_t - \\delta) k_t] = T_t $$\n",
    "\n",
    "$$ z_t = (1 - \\rho)\\overline{z} + \\rho z_{t-1} + \\epsilon_t^2 $$\n",
    "\n",
    "The steady-state equations are as follows:\n",
    "\n",
    "$$ \\overline{c} = (1 - \\tau) [ (\\overline{r} - \\delta) \\overline{k}] + \\overline{k} + \\overline{T} - \\overline{k} $$\n",
    "\n",
    "$$\\overline{c}^{-\\gamma} = \\beta E_t \\{ \\overline{c}^{-\\gamma} [(\\overline{r} - \\delta)(1-\\tau) + 1 ]\\} $$\n",
    "\n",
    "$$\\bar{r_t} = \\alpha \\overline{K}^{\\alpha - 1} (e^{z_t}) ^ {1 - \\alpha}$$\n",
    "\n",
    "$$ \\tau [(\\overline{r} - \\delta) \\overline{k}] = \\overline{T} $$\n",
    "\n",
    "$$ z_t = \\overline{z} $$\n",
    "\n",
    "Solving for $\\overline{K}$ and $\\overline{r}$:"
   ]
  },
  {
   "cell_type": "code",
   "execution_count": 2,
   "metadata": {
    "collapsed": true
   },
   "outputs": [],
   "source": [
    "gamma = 2.5\n",
    "beta = .98\n",
    "alpha = .4\n",
    "delta = .1\n",
    "tau = .05"
   ]
  },
  {
   "cell_type": "code",
   "execution_count": 3,
   "metadata": {
    "collapsed": true
   },
   "outputs": [],
   "source": [
    "def stst_errors(states, *args):\n",
    "    k_bar, r_bar = states\n",
    "    gamma, beta, alpha, delta, tau = args\n",
    "    \n",
    "    err1 = 1 - beta * ((r_bar - delta) * (1 - tau) + 1)\n",
    "    err2 = r_bar - alpha * k_bar **(alpha - 1)\n",
    "    return np.array([err1, err2])"
   ]
  },
  {
   "cell_type": "code",
   "execution_count": 4,
   "metadata": {
    "collapsed": true
   },
   "outputs": [],
   "source": [
    "params = (gamma, beta, alpha, delta, tau)\n",
    "inits = np.array([10, 0.04])\n",
    "sol = fsolve(stst_errors, inits, args=params)\n"
   ]
  },
  {
   "cell_type": "code",
   "execution_count": 5,
   "metadata": {
    "collapsed": false
   },
   "outputs": [
    {
     "name": "stdout",
     "output_type": "stream",
     "text": [
      "k_bar: 7.28749795069 r_bar: 0.121482277121\n"
     ]
    }
   ],
   "source": [
    "print('k_bar:', sol[0], 'r_bar:', sol[1])"
   ]
  },
  {
   "cell_type": "markdown",
   "metadata": {
    "collapsed": true
   },
   "source": [
    "## Problem 6."
   ]
  },
  {
   "cell_type": "code",
   "execution_count": 6,
   "metadata": {
    "collapsed": true
   },
   "outputs": [],
   "source": [
    "gamma = 1\n",
    "beta = .98\n",
    "alpha = .4\n",
    "delta = .1\n",
    "tau = .05\n",
    "xi = 1\n",
    "a = 0.5\n",
    "params = (alpha, beta, gamma, delta, tau, xi, a)"
   ]
  },
  {
   "cell_type": "markdown",
   "metadata": {},
   "source": [
    "Characterizing equations are as follows:\n",
    "\n",
    "$$ c_t = (1 - \\tau) [w_t \\mathscr{l}_t + (r_t - \\delta) k_t] + k_t + T_t - k_{t+1} $$\n",
    "\n",
    "$$c_t^{-\\gamma} = \\beta E_t \\{ c_t^{-\\gamma} [(r_{t+1} - \\delta)(1-\\tau) + 1 ]\\} $$\n",
    "\n",
    "$$ a(1 - l_t)^{- \\xi} = c_t^{- \\gamma} w_t (1 - \\tau)$$\n",
    "\n",
    "$$r_t = \\alpha K_t^{\\alpha - 1} (e^{z_t} L_t) ^ {1 - \\alpha}$$\n",
    "\n",
    "$$w_t = (1-\\alpha) (e^{z_t})^{1-\\alpha} \\left( \\frac{K_t}{L_t}\\right)^{\\alpha}$$\n",
    "\n",
    "$$ \\tau [w_t\\mathscr{l}_t + (r_t - \\delta) k_t] = T_t $$\n",
    "\n",
    "$$ z_t = (1 - \\rho)\\overline{z} + \\rho z_{t-1} + \\epsilon_t^2 $$\n",
    "\n",
    "The steady-state equations are as follows:\n",
    "\n",
    "$$ \\overline{c} = (1 - \\tau) [\\overline{w} \\bar{\\mathscr{l}_t} + (\\overline{r} - \\delta) \\overline{k}] +  \\overline{T} $$\n",
    "\n",
    "$$\\overline{c}^{-\\gamma} = \\beta \\overline{c}^{-\\gamma} [(\\overline{r} - \\delta)(1-\\tau) + 1 ] $$\n",
    "\n",
    "$$ a(1 - \\bar{l}_t)^{- \\xi} = c_t^{- \\gamma} \\bar{w}_t (1 - \\tau)$$\n",
    "\n",
    "$$\\bar{r_t} = \\alpha \\overline{K}^{\\alpha - 1} (e^{z_t}\\bar{L}) ^ {1 - \\alpha}$$\n",
    "\n",
    "$$\\bar{w}_t = (1-\\alpha) (e^{\\bar{z}})^{1-\\alpha} \\left( \\frac{\\bar{K}_t}{\\bar{L}_t}\\right)^{\\alpha}$$\n",
    "\n",
    "\n",
    "$$ \\tau [\\overline{w}\\bar{\\mathscr{l}}_t + (\\overline{r} - \\delta) \\overline{k}] = \\overline{T} $$\n",
    "\n",
    "$$ z_t = \\overline{z} =0$$"
   ]
  },
  {
   "cell_type": "code",
   "execution_count": 7,
   "metadata": {
    "collapsed": true
   },
   "outputs": [],
   "source": [
    "def errors(inits, *args):\n",
    "    alpha, beta, gamma, delta, tau, xi, a = args\n",
    "    c, w, r, k, T, l = inits\n",
    "    \n",
    "    err1 = c - (1 - tau) * (w*l + (r - delta)*k) - T\n",
    "    err2 = (c **(-1*gamma) - beta * (c ** (-1*gamma)) * ((r - delta)*(1 - tau) \n",
    "                                   + 1 ))\n",
    "    err3 = a/((1 - l)**xi) - 1/(c ** gamma) * w * (1 - tau)\n",
    "    err4 = r - alpha * (k / l) ** (alpha - 1)\n",
    "    err5 = w - (1 - alpha) * (k / l) ** alpha\n",
    "    err6 = tau * (w * l + (r - delta)*k) - T\n",
    "    \n",
    "    return np.array([err1, err2, err3, err4, err5, err6])"
   ]
  },
  {
   "cell_type": "code",
   "execution_count": 8,
   "metadata": {
    "collapsed": false
   },
   "outputs": [
    {
     "name": "stdout",
     "output_type": "stream",
     "text": [
      "Steady State values\n",
      "c: 0.934613046826 w: 1.32795276813 r: 0.121482277116 k: 4.58805561029 T: 0.0467306523413 l: 0.629578991645\n"
     ]
    }
   ],
   "source": [
    "inits_6 = np.array([0.5, 1.2, 0.5, 0.5, 0.5, 0.5])\n",
    "ss = fsolve(errors, inits_6, args=params)\n",
    "\n",
    "print('Steady State values')\n",
    "print('c:',ss[0], 'w:',ss[1], 'r:',ss[2], 'k:',ss[3], 'T:',ss[4], 'l:',ss[5])"
   ]
  }
 ],
 "metadata": {
  "kernelspec": {
   "display_name": "Python 3",
   "language": "python",
   "name": "python3"
  },
  "language_info": {
   "codemirror_mode": {
    "name": "ipython",
    "version": 3
   },
   "file_extension": ".py",
   "mimetype": "text/x-python",
   "name": "python",
   "nbconvert_exporter": "python",
   "pygments_lexer": "ipython3",
   "version": "3.6.0"
  }
 },
 "nbformat": 4,
 "nbformat_minor": 2
}
