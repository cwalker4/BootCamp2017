{
 "cells": [
  {
   "cell_type": "markdown",
   "metadata": {},
   "source": [
    "## Exercise Set 2 for OSM \n",
    "\n",
    "### Dynamic Programming with John Stachurski"
   ]
  },
  {
   "cell_type": "markdown",
   "metadata": {},
   "source": [
    "Exercises for the [OSM](https://bfi.uchicago.edu/osm) bootcamp dynamic programming section.\n",
    "\n",
    "We will use the following libraries:"
   ]
  },
  {
   "cell_type": "code",
   "execution_count": 1,
   "metadata": {
    "collapsed": true
   },
   "outputs": [],
   "source": [
    "import numpy as np\n",
    "import matplotlib.pyplot as plt\n",
    "import quantecon as qe"
   ]
  },
  {
   "cell_type": "markdown",
   "metadata": {},
   "source": [
    "### Exercise 1"
   ]
  },
  {
   "cell_type": "markdown",
   "metadata": {},
   "source": [
    "Consider the setting of the [stochastic optimal growth model](https://lectures.quantecon.org/py/optgrowth.html), with the same notation and same assumptions on the primitives $u$, $f$, $\\beta$ and $\\phi$. \n",
    "\n",
    "Let $\\mathscr C$ be all continuous bounded functions on $\\mathbb R_+$.\n",
    "\n",
    "Let $\\sigma \\in \\Sigma$ be any feasible policy and let $U$ be the operator from $\\mathscr C$ to itself defined by\n",
    "\n",
    "$$ Uw(y) = u(\\sigma(y)) + \\beta \\int w(f(y - \\sigma(y))z) \\phi(dz) \\qquad (y \\in \\mathbb R_+)$$\n",
    "\n",
    "Prove that $U$ is a contraction mapping with respect to the supremum distance.  Argue that the unique fixed point of $U$ in $\\mathscr C$ is $v_\\sigma$.\n",
    "\n",
    "(\"Argue\" means provide a sketch of a proof that contains the key ideas, plus some intuition.  Or give a complete, formal proof, if you can.)"
   ]
  },
  {
   "cell_type": "markdown",
   "metadata": {},
   "source": [
    "### Exercise 2"
   ]
  },
  {
   "cell_type": "markdown",
   "metadata": {},
   "source": [
    "Notation and concepts continue from exercise 2.\n",
    "\n",
    "Use the fact you proved in exercise 2, combined with piecewise linear interpolation method we used for the Bellman operator, to compute and plot good approximations of the value $v_\\sigma$ of the policies\n",
    "\n",
    "* $\\sigma_1(y) = 0.95 y$\n",
    "* $\\sigma_2(y) = H(y) y$ where $H$ is the cdf of the lognormal $LN(0, 0.5)$ distribution.\n",
    "\n",
    "For the latter use `scipy.stats.lognorm.cdf(y, 0.5)`\n",
    "\n",
    "For the primitives, use the default specification in the `LogLinearOG` class from the [stochastic optimal growth model lecture](https://lectures.quantecon.org/py/optgrowth.html).\n",
    "\n",
    "Plot your results, choosing grid and plotting dimensions to best illustrate the two functions.  Based on the plot alone, argue that neither of these policies is an optimal policy."
   ]
  },
  {
   "cell_type": "code",
   "execution_count": 23,
   "metadata": {
    "collapsed": true
   },
   "outputs": [],
   "source": [
    "import numpy as np\n",
    "from scipy.optimize import fminbound\n",
    "\n",
    "\n",
    "def bellman_operator(w, grid, beta, u, f, shocks, c_func, Tw=None):\n",
    "    \"\"\"\n",
    "    The approximate Bellman operator, which computes and returns the\n",
    "    updated value function Tw on the grid points.  An array to store\n",
    "    the new set of values Tw is optionally supplied (to avoid having to\n",
    "    allocate new arrays at each iteration).  If supplied, any existing data in \n",
    "    Tw will be overwritten.\n",
    "\n",
    "    Parameters\n",
    "    ----------\n",
    "    w : array_like(float, ndim=1)\n",
    "        The value of the input function on different grid points\n",
    "    grid : array_like(float, ndim=1)\n",
    "        The set of grid points\n",
    "    beta : scalar\n",
    "        The discount factor\n",
    "    u : function\n",
    "        The utility function\n",
    "    f : function\n",
    "        The production function\n",
    "    shocks : numpy array\n",
    "        An array of draws from the shock, for Monte Carlo integration (to\n",
    "        compute expectations).\n",
    "    Tw : array_like(float, ndim=1) optional (default=None)\n",
    "        Array to write output values to\n",
    "\n",
    "    \"\"\"\n",
    "    # === Apply linear interpolation to w === #\n",
    "    w_func = lambda x: np.interp(x, grid, w)\n",
    "    \n",
    "    if Tw is None:\n",
    "        Tw = np.empty_like(w)\n",
    "\n",
    "    # == set Tw[i] = max_c { u(c) + beta E w(f(y  - c) z)} == #\n",
    "    for i, y in enumerate(grid):\n",
    "        def objective(c):\n",
    "            return - u(c_func(y)) - beta * np.mean(w_func(f(y - c_func(y)) * shocks))\n",
    "        c_star = fminbound(objective, 1e-10, y)\n",
    "        Tw[i] = - objective(c_star)\n",
    "\n",
    "\n",
    "    return Tw\n"
   ]
  },
  {
   "cell_type": "code",
   "execution_count": 35,
   "metadata": {
    "collapsed": false
   },
   "outputs": [
    {
     "name": "stdout",
     "output_type": "stream",
     "text": [
      "Iteration    Distance       Elapsed (seconds)\n",
      "---------------------------------------------\n",
      "10           1.267e+00      1.894e+00         \n",
      "20           7.756e-01      3.772e+00         \n",
      "30           5.070e-01      5.623e+00         \n",
      "40           3.359e-01      7.559e+00         \n",
      "50           2.232e-01      9.610e+00         \n",
      "60           1.484e-01      1.160e+01         \n",
      "70           9.864e-02      1.361e+01         \n",
      "80           6.558e-02      1.564e+01         \n",
      "90           4.360e-02      1.764e+01         \n",
      "100          2.899e-02      1.958e+01         \n",
      "110          1.927e-02      2.154e+01         \n",
      "120          1.281e-02      2.351e+01         \n",
      "130          8.518e-03      2.561e+01         \n",
      "140          5.663e-03      2.764e+01         \n",
      "150          3.765e-03      2.956e+01         \n",
      "160          2.503e-03      3.146e+01         \n",
      "170          1.664e-03      3.333e+01         \n",
      "180          1.106e-03      3.522e+01         \n",
      "190          7.355e-04      3.718e+01         \n",
      "200          4.890e-04      3.907e+01         \n",
      "210          3.251e-04      4.087e+01         \n",
      "220          2.161e-04      4.282e+01         \n",
      "230          1.437e-04      4.464e+01         \n",
      "240          9.553e-05      4.646e+01         \n",
      "250          6.351e-05      4.838e+01         \n",
      "260          4.223e-05      5.034e+01         \n",
      "270          2.807e-05      5.235e+01         \n",
      "280          1.866e-05      5.428e+01         \n",
      "290          1.241e-05      5.608e+01         \n",
      "296          9.713e-06      5.716e+01         \n",
      "Converged in 296 steps\n"
     ]
    }
   ],
   "source": [
    "from quantecon import compute_fixed_point\n",
    "\n",
    "grid_max = 4\n",
    "grid_size = 200\n",
    "shock_size = 250\n",
    "\n",
    "grid = np.linspace(1e-5, grid_max, grid_size)\n",
    "shocks = np.exp(0 + 0.1 * np.random.randn(shock_size))\n",
    "\n",
    "Tw = np.empty(len(grid))\n",
    "initial_w = 5* np.log(grid)\n",
    "\n",
    "c_func_1 = lambda y: 0.95*y\n",
    "c_func_2 = lambda y: scipy.stats.lognorm.cdf(y,0.5)*y\n",
    "\n",
    "T = lambda w: bellman_operator(w,\n",
    "                               grid,\n",
    "                               0.96,\n",
    "                               np.log,\n",
    "                               lambda k: k**0.4,\n",
    "                               shocks,\n",
    "                               c_func_1)\n",
    "\n",
    "v_star_approx = compute_fixed_point(T, initial_w,\n",
    "                                    error_tol=1e-5,\n",
    "                                    max_iter=500,\n",
    "                                    verbose=2,\n",
    "                                    print_skip=10,\n",
    "                                    method='iteration')\n"
   ]
  },
  {
   "cell_type": "code",
   "execution_count": 29,
   "metadata": {
    "collapsed": false
   },
   "outputs": [
    {
     "name": "stdout",
     "output_type": "stream",
     "text": [
      "Iteration    Distance       Elapsed (seconds)\n",
      "---------------------------------------------\n",
      "10           3.496e-01      1.054e+01         \n",
      "20           2.324e-01      2.139e+01         \n",
      "30           1.545e-01      3.305e+01         \n",
      "40           1.027e-01      4.588e+01         \n",
      "50           6.829e-02      5.698e+01         \n",
      "60           4.540e-02      7.224e+01         \n",
      "70           3.018e-02      9.019e+01         \n",
      "80           2.007e-02      1.009e+02         \n",
      "90           1.334e-02      1.111e+02         \n",
      "100          8.870e-03      1.213e+02         \n",
      "110          5.897e-03      1.316e+02         \n",
      "120          3.921e-03      1.418e+02         \n",
      "130          2.607e-03      1.525e+02         \n",
      "140          1.733e-03      1.627e+02         \n",
      "150          1.152e-03      1.728e+02         \n",
      "160          7.659e-04      1.832e+02         \n",
      "170          5.092e-04      1.937e+02         \n",
      "180          3.385e-04      2.042e+02         \n",
      "190          2.251e-04      2.143e+02         \n",
      "200          1.496e-04      2.246e+02         \n",
      "210          9.949e-05      2.358e+02         \n",
      "220          6.614e-05      2.470e+02         \n",
      "230          4.397e-05      2.573e+02         \n",
      "240          2.923e-05      2.680e+02         \n",
      "250          1.944e-05      2.793e+02         \n",
      "260          1.292e-05      2.905e+02         \n",
      "267          9.710e-06      2.982e+02         \n",
      "Converged in 267 steps\n"
     ]
    }
   ],
   "source": [
    "import scipy\n",
    "\n",
    "T2 = lambda w: bellman_operator(w,\n",
    "                               grid,\n",
    "                               0.96,\n",
    "                               np.log,\n",
    "                               lambda k: k**0.4,\n",
    "                               shocks,\n",
    "                               c_func_2)\n",
    "\n",
    "v_star_approx_2 = compute_fixed_point(T2, initial_w,\n",
    "                                     error_tol=1e-5,\n",
    "                                     max_iter=500,\n",
    "                                     verbose=2,\n",
    "                                     print_skip=10,\n",
    "                                     method='iteration')"
   ]
  },
  {
   "cell_type": "code",
   "execution_count": 38,
   "metadata": {
    "collapsed": false
   },
   "outputs": [
    {
     "data": {
      "image/png": "[encoded data removed]",
      "text/plain": [
       "<matplotlib.figure.Figure at 0x11b9de8d0>"
      ]
     },
     "metadata": {},
     "output_type": "display_data"
    }
   ],
   "source": [
    "import matplotlib.pyplot as plt\n",
    "\n",
    "fig, ax = plt.subplots(figsize=(9,5))\n",
    "ax.set_ylim(-150, -20)\n",
    "ax.plot(grid, v_star_approx, lw=2, color='b', label='0.95y')\n",
    "ax.plot(grid, v_star_approx_2, lw=2, color='r', label='H(y)y')\n",
    "plt.show()"
   ]
  },
  {
   "cell_type": "markdown",
   "metadata": {},
   "source": [
    "^Highly doubt this is correct..."
   ]
  },
  {
   "cell_type": "code",
   "execution_count": null,
   "metadata": {
    "collapsed": true
   },
   "outputs": [],
   "source": []
  }
 ],
 "metadata": {
  "kernelspec": {
   "display_name": "Python 3",
   "language": "python",
   "name": "python3"
  },
  "language_info": {
   "codemirror_mode": {
    "name": "ipython",
    "version": 3
   },
   "file_extension": ".py",
   "mimetype": "text/x-python",
   "name": "python",
   "nbconvert_exporter": "python",
   "pygments_lexer": "ipython3",
   "version": "3.6.0"
  }
 },
 "nbformat": 4,
 "nbformat_minor": 2
}
